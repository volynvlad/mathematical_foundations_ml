{
 "cells": [
  {
   "cell_type": "markdown",
   "id": "2a1d74b7",
   "metadata": {},
   "source": [
    "# ЛР1. Линейная регрессия для произвольного базиса. Регуляризация."
   ]
  },
  {
   "cell_type": "markdown",
   "id": "a15732c2",
   "metadata": {},
   "source": [
    "## Задание 1"
   ]
  },
  {
   "cell_type": "markdown",
   "id": "f0249e5f",
   "metadata": {},
   "source": [
    "1. Используя встроенные функции библиотеки scikit learn, реализуйте модель полиномиальной регрессии на некоторых сгенерированных случайно данных. Визуализируйте результат. Сделайте выводы о точности.\n",
    "2. Самостоятельно реализуйте модель полиномиальной регрессии на некоторых сгенерированных случайно данных. Визуализируйте результат. Сделайте выводы о точности."
   ]
  },
  {
   "cell_type": "code",
   "execution_count": 1,
   "id": "33ddd49d-8f44-4dfb-9a2e-63a742ef1dc3",
   "metadata": {},
   "outputs": [],
   "source": [
    "import sklearn\n",
    "import numpy as np\n",
    "import pandas as pd\n",
    "import matplotlib.pyplot as plt"
   ]
  },
  {
   "cell_type": "code",
   "execution_count": 2,
   "id": "0756441c-1dbe-419c-935c-1f0980b1a058",
   "metadata": {},
   "outputs": [],
   "source": [
    "x_3 = 3\n",
    "x_2 = -5\n",
    "x_1 = -400\n",
    "x_0 = 0"
   ]
  },
  {
   "cell_type": "code",
   "execution_count": 3,
   "id": "48c5ae61-08b7-47c4-b6dd-b063484f9e61",
   "metadata": {},
   "outputs": [],
   "source": [
    "coefs = [x_0, x_1, x_2, x_3]"
   ]
  },
  {
   "cell_type": "code",
   "execution_count": 4,
   "id": "9f083acd-5d22-4f6b-b1c9-800bc58f4f0d",
   "metadata": {},
   "outputs": [],
   "source": [
    "def polinomial_func(coefs, degree=3):\n",
    "    assert len(coefs) == degree + 1\n",
    "    def func(x):\n",
    "        return sum([coefs[i] * x ** i for i in range(len(coefs))])\n",
    "    return func "
   ]
  },
  {
   "cell_type": "code",
   "execution_count": 5,
   "id": "8056995f-7013-4da0-ad80-019baecb4e36",
   "metadata": {},
   "outputs": [
    {
     "data": {
      "image/png": "[encoded data removed]",
      "text/plain": [
       "<Figure size 640x480 with 1 Axes>"
      ]
     },
     "metadata": {},
     "output_type": "display_data"
    }
   ],
   "source": [
    "rng = np.random.RandomState(42)\n",
    "X = 5 * rng.randn(100)\n",
    "y = polinomial_func(coefs)(X) + rng.randn(100) * 10\n",
    "plt.scatter(X, y);\n",
    "plt.show()"
   ]
  },
  {
   "cell_type": "markdown",
   "id": "b2e47554-466d-437b-9388-b19f9a571004",
   "metadata": {},
   "source": [
    "не зная формулу можно предположить, что данные сформированы с помощью полинома 3ей степени, так как у нас есть 2 экстремума, т.е. производная обращается в 0 в 2ух точках"
   ]
  },
  {
   "cell_type": "markdown",
   "id": "24e48e1c-2357-4081-83c3-817f29126040",
   "metadata": {},
   "source": [
    "# 1"
   ]
  },
  {
   "cell_type": "code",
   "execution_count": 6,
   "id": "bcd9d013-e541-4506-9075-277c364540ce",
   "metadata": {},
   "outputs": [],
   "source": [
    "from sklearn.model_selection import train_test_split"
   ]
  },
  {
   "cell_type": "code",
   "execution_count": 7,
   "id": "b2508c63-4b50-40ea-b4cb-670e770a3e99",
   "metadata": {},
   "outputs": [],
   "source": [
    "X_train, X_test, y_train, y_test = train_test_split(X, y, test_size=0.2, shuffle=True, random_state=42)"
   ]
  },
  {
   "cell_type": "code",
   "execution_count": 8,
   "id": "d309e39d-8fb8-4a12-9423-04324857e3cf",
   "metadata": {},
   "outputs": [],
   "source": [
    "X_train = X_train.reshape(-1, 1)\n",
    "X_test = X_test.reshape(-1, 1)\n",
    "y_train = y_train.reshape(-1, 1)\n",
    "y_test = y_test.reshape(-1, 1)"
   ]
  },
  {
   "cell_type": "code",
   "execution_count": 9,
   "id": "94eb0188-db71-424b-a0ff-c858a4a2ba39",
   "metadata": {},
   "outputs": [],
   "source": [
    "from sklearn.preprocessing import PolynomialFeatures\n",
    "from sklearn.linear_model import LinearRegression"
   ]
  },
  {
   "cell_type": "code",
   "execution_count": 10,
   "id": "29395230-6f28-445c-b294-8d8843dc3844",
   "metadata": {},
   "outputs": [],
   "source": [
    "from sklearn.pipeline import Pipeline\n",
    "model = Pipeline([('poly', PolynomialFeatures(degree=3)),\n",
    "                   ('linear', LinearRegression(fit_intercept=False))])"
   ]
  },
  {
   "cell_type": "code",
   "execution_count": 11,
   "id": "03ac8f98-4f58-474d-bf99-1af1ba83396f",
   "metadata": {},
   "outputs": [],
   "source": [
    "model = model.fit(X_train, y_train)"
   ]
  },
  {
   "cell_type": "code",
   "execution_count": 12,
   "id": "3f46636f-8353-4c98-9d32-e98f9a12ac9d",
   "metadata": {},
   "outputs": [
    {
     "data": {
      "text/plain": [
       "0.9999216775583853"
      ]
     },
     "execution_count": 12,
     "metadata": {},
     "output_type": "execute_result"
    }
   ],
   "source": [
    "model.score(X_test, y_test)"
   ]
  },
  {
   "cell_type": "code",
   "execution_count": 13,
   "id": "0bcc337b-f607-41d0-9105-25656b432bdc",
   "metadata": {},
   "outputs": [
    {
     "data": {
      "text/plain": [
       "array([  -1.63976874, -400.19584434,   -4.90937352,    3.00228476])"
      ]
     },
     "execution_count": 13,
     "metadata": {},
     "output_type": "execute_result"
    }
   ],
   "source": [
    "predicted_coef = model.named_steps['linear'].coef_[0]\n",
    "predicted_coef"
   ]
  },
  {
   "cell_type": "code",
   "execution_count": 14,
   "id": "1d8133a8-46d8-44dc-9d12-6a7b85338c14",
   "metadata": {},
   "outputs": [
    {
     "name": "stdout",
     "output_type": "stream",
     "text": [
      "difference in 0 degree = 1.639768744371652\n",
      "difference in 1 degree = 0.19584434489786418\n",
      "difference in 2 degree = 0.09062647693598969\n",
      "difference in 3 degree = 0.0022847624933501898\n"
     ]
    }
   ],
   "source": [
    "for i, (predicted, actual) in enumerate(zip(predicted_coef, coefs)):\n",
    "    print(f\"difference in {i} degree = {np.abs(predicted - actual)}\")"
   ]
  },
  {
   "cell_type": "code",
   "execution_count": 15,
   "id": "d4fadd9c-9dab-4dea-99c9-46777689c0aa",
   "metadata": {},
   "outputs": [
    {
     "data": {
      "text/plain": [
       "'min_X = -13.098725520448722, max_X = 9.261390922544688'"
      ]
     },
     "execution_count": 15,
     "metadata": {},
     "output_type": "execute_result"
    }
   ],
   "source": [
    "min_X = min(X)\n",
    "max_X = max(X)\n",
    "f\"min_X = {min_X}, max_X = {max_X}\""
   ]
  },
  {
   "cell_type": "code",
   "execution_count": 16,
   "id": "3a726671-43d5-4ec2-ba0e-f1228f0a8f31",
   "metadata": {},
   "outputs": [
    {
     "data": {
      "image/png": "[encoded data removed]",
      "text/plain": [
       "<Figure size 640x480 with 1 Axes>"
      ]
     },
     "metadata": {},
     "output_type": "display_data"
    }
   ],
   "source": [
    "plt.scatter(X_train, y_train, c='blue', linewidths=1, label=\"train\");\n",
    "plt.scatter(X_test, y_test, c='orange', linewidths=1, label=\"test\");\n",
    "\n",
    "x = np.arange(min_X, max_X, 0.1)\n",
    "y_actual = polinomial_func(coefs)(x)\n",
    "y_predicted = polinomial_func(predicted_coef)(x)\n",
    "\n",
    "plt.plot(x, y_actual, '--', color='red', label=\"actual\", linewidth=3)\n",
    "plt.plot(x, y_predicted, '-', color='black', label=\"predicted\", linewidth=2)\n",
    "\n",
    "plt.legend()\n",
    "plt.show()"
   ]
  },
  {
   "cell_type": "markdown",
   "id": "4b632e9a-3fcd-4a40-bd3a-f29756e80053",
   "metadata": {},
   "source": [
    "Модель предсказала все близко к идеальному,\n",
    "об этом говорит и score равный 0.9999,\n",
    "и разница между коеффициентами полученной модели и реальной очень близки.\n",
    "Сильное отличие есть только в коеффициенте при 0, что не очень критично для нас.\n",
    "Если посмотрим на график, то с точки зрения человека :) они идеально совпадают"
   ]
  },
  {
   "cell_type": "markdown",
   "id": "2474362e-1ae0-4b47-8d65-c44c94649636",
   "metadata": {},
   "source": [
    "# 2"
   ]
  },
  {
   "cell_type": "code",
   "execution_count": 17,
   "id": "fed6c5a3-e948-406b-a299-7ad18a6f8c7a",
   "metadata": {},
   "outputs": [],
   "source": [
    "pd_X = pd.DataFrame()"
   ]
  },
  {
   "cell_type": "code",
   "execution_count": 18,
   "id": "3ef84115-46e5-4f97-ab35-2f97ac939439",
   "metadata": {},
   "outputs": [],
   "source": [
    "pd_X[\"x_1\"] = X\n",
    "pd_X[\"x_2\"] = X ** 2\n",
    "pd_X[\"x_3\"] = X ** 3\n",
    "pd_X[\"x_0\"] = 1 # we need to declare it here due to broadcasting"
   ]
  },
  {
   "cell_type": "code",
   "execution_count": 19,
   "id": "4b7b8eb4-22c1-48b7-b398-031d62c3f9d6",
   "metadata": {},
   "outputs": [],
   "source": [
    "pd_X = pd_X.reindex(columns=[\"x_0\", \"x_1\", \"x_2\", \"x_3\"])"
   ]
  },
  {
   "cell_type": "code",
   "execution_count": 20,
   "id": "2210ee01-b87a-4172-a07c-80ccae9a9469",
   "metadata": {},
   "outputs": [
    {
     "data": {
      "text/html": [
       "<div>\n",
       "<style scoped>\n",
       "    .dataframe tbody tr th:only-of-type {\n",
       "        vertical-align: middle;\n",
       "    }\n",
       "\n",
       "    .dataframe tbody tr th {\n",
       "        vertical-align: top;\n",
       "    }\n",
       "\n",
       "    .dataframe thead th {\n",
       "        text-align: right;\n",
       "    }\n",
       "</style>\n",
       "<table border=\"1\" class=\"dataframe\">\n",
       "  <thead>\n",
       "    <tr style=\"text-align: right;\">\n",
       "      <th></th>\n",
       "      <th>x_0</th>\n",
       "      <th>x_1</th>\n",
       "      <th>x_2</th>\n",
       "      <th>x_3</th>\n",
       "    </tr>\n",
       "  </thead>\n",
       "  <tbody>\n",
       "    <tr>\n",
       "      <th>0</th>\n",
       "      <td>1</td>\n",
       "      <td>2.483571</td>\n",
       "      <td>6.168124</td>\n",
       "      <td>15.318972</td>\n",
       "    </tr>\n",
       "    <tr>\n",
       "      <th>1</th>\n",
       "      <td>1</td>\n",
       "      <td>-0.691322</td>\n",
       "      <td>0.477925</td>\n",
       "      <td>-0.330400</td>\n",
       "    </tr>\n",
       "    <tr>\n",
       "      <th>2</th>\n",
       "      <td>1</td>\n",
       "      <td>3.238443</td>\n",
       "      <td>10.487511</td>\n",
       "      <td>33.963204</td>\n",
       "    </tr>\n",
       "    <tr>\n",
       "      <th>3</th>\n",
       "      <td>1</td>\n",
       "      <td>7.615149</td>\n",
       "      <td>57.990499</td>\n",
       "      <td>441.606304</td>\n",
       "    </tr>\n",
       "    <tr>\n",
       "      <th>4</th>\n",
       "      <td>1</td>\n",
       "      <td>-1.170767</td>\n",
       "      <td>1.370695</td>\n",
       "      <td>-1.604764</td>\n",
       "    </tr>\n",
       "  </tbody>\n",
       "</table>\n",
       "</div>"
      ],
      "text/plain": [
       "   x_0       x_1        x_2         x_3\n",
       "0    1  2.483571   6.168124   15.318972\n",
       "1    1 -0.691322   0.477925   -0.330400\n",
       "2    1  3.238443  10.487511   33.963204\n",
       "3    1  7.615149  57.990499  441.606304\n",
       "4    1 -1.170767   1.370695   -1.604764"
      ]
     },
     "execution_count": 20,
     "metadata": {},
     "output_type": "execute_result"
    }
   ],
   "source": [
    "pd_X.head()"
   ]
  },
  {
   "cell_type": "code",
   "execution_count": 21,
   "id": "0d2dd98a-6831-400d-80a7-4c40ae91b0c7",
   "metadata": {},
   "outputs": [],
   "source": [
    "y = y.reshape(-1, 1)"
   ]
  },
  {
   "cell_type": "code",
   "execution_count": 22,
   "id": "a6862d3d-1746-4293-aea6-de04acf12eae",
   "metadata": {},
   "outputs": [],
   "source": [
    "X_train_, X_test_, y_train, y_test = train_test_split(pd_X, y, test_size=0.2, shuffle=True, random_state=42)"
   ]
  },
  {
   "cell_type": "code",
   "execution_count": 23,
   "id": "235b0877-3d47-41a5-9c4b-f7f3140dedc0",
   "metadata": {},
   "outputs": [
    {
     "data": {
      "text/plain": [
       "((80, 4), (80, 1))"
      ]
     },
     "execution_count": 23,
     "metadata": {},
     "output_type": "execute_result"
    }
   ],
   "source": [
    "X_train_.shape, y_train.shape"
   ]
  },
  {
   "cell_type": "code",
   "execution_count": 24,
   "id": "0340623c-c993-416f-8e44-af0ed24d84d6",
   "metadata": {},
   "outputs": [],
   "source": [
    "class LinearModel:\n",
    "    def __init__(self, lambda_=0):\n",
    "        assert lambda_ >=0, \"lambda_ should be >=0\"\n",
    "        self.lambda_ = lambda_\n",
    "    \n",
    "    def train(self, X, y):\n",
    "        n, k = X.shape\n",
    "        inv = np.linalg.inv(np.dot(np.transpose(X), (X)) + self.lambda_ * np.identity(k))\n",
    "        X_y = np.dot(np.transpose(X), y)\n",
    "        self.k = np.dot(inv, X_y)\n",
    "        \n",
    "    def predict(self, X):\n",
    "        return X @ self.k\n",
    "\n",
    "    def score(self, X, y):\n",
    "#         return sum((self.predict(X) - np.array(y))**2) / float(len(X))\n",
    "        return np.array((self.predict(X) - np.array(y)) ** 2).sum() / float(len(X))\n",
    "    \n",
    "    def r2_score(self, X, y):\n",
    "        n, k = X.shape\n",
    "        y_mean = np.mean(y)\n",
    "        r2 = 1 - sum((np.array(y - self.predict(X)) ** 2))/sum(np.array(y - y_mean) ** 2)\n",
    "        return 1 - ((n - 1) / (n - k - 1)) * (1 - r2)"
   ]
  },
  {
   "cell_type": "code",
   "execution_count": 25,
   "id": "2e5af899-bd65-437a-94f7-f5aa57418bb8",
   "metadata": {},
   "outputs": [],
   "source": [
    "model = LinearModel()"
   ]
  },
  {
   "cell_type": "code",
   "execution_count": 26,
   "id": "00e24a4d-79e0-4551-9783-c0d2347b0937",
   "metadata": {},
   "outputs": [],
   "source": [
    "model.train(X_train_, y_train)"
   ]
  },
  {
   "cell_type": "code",
   "execution_count": 27,
   "id": "7eaa5f0d-5661-4e89-8fc5-8ea4abfb2a2a",
   "metadata": {},
   "outputs": [
    {
     "data": {
      "text/plain": [
       "83.84902233662622"
      ]
     },
     "execution_count": 27,
     "metadata": {},
     "output_type": "execute_result"
    }
   ],
   "source": [
    "model.score(X_train_, y_train)"
   ]
  },
  {
   "cell_type": "code",
   "execution_count": 28,
   "id": "9fcb2177-29e7-4998-a688-6057e01df48f",
   "metadata": {},
   "outputs": [
    {
     "data": {
      "text/plain": [
       "array([0.99993797])"
      ]
     },
     "execution_count": 28,
     "metadata": {},
     "output_type": "execute_result"
    }
   ],
   "source": [
    "model.r2_score(X_train_, y_train)"
   ]
  },
  {
   "cell_type": "code",
   "execution_count": 29,
   "id": "d80facaa-fda0-4729-9fb0-9d7f42e930a9",
   "metadata": {},
   "outputs": [
    {
     "data": {
      "text/plain": [
       "85.78550528515011"
      ]
     },
     "execution_count": 29,
     "metadata": {},
     "output_type": "execute_result"
    }
   ],
   "source": [
    "model.score(X_test_, y_test)"
   ]
  },
  {
   "cell_type": "code",
   "execution_count": 30,
   "id": "92ddc3b1-9cf8-4022-8443-30a84ddc801c",
   "metadata": {},
   "outputs": [
    {
     "data": {
      "text/plain": [
       "array([0.99990079])"
      ]
     },
     "execution_count": 30,
     "metadata": {},
     "output_type": "execute_result"
    }
   ],
   "source": [
    "model.r2_score(X_test_, y_test)"
   ]
  },
  {
   "cell_type": "code",
   "execution_count": 31,
   "id": "6f99bb08-d075-4699-86b3-f27ea5bb7b51",
   "metadata": {},
   "outputs": [
    {
     "data": {
      "text/plain": [
       "array([[  -1.63976874],\n",
       "       [-400.19584434],\n",
       "       [  -4.90937352],\n",
       "       [   3.00228476]])"
      ]
     },
     "execution_count": 31,
     "metadata": {},
     "output_type": "execute_result"
    }
   ],
   "source": [
    "model.k"
   ]
  },
  {
   "cell_type": "code",
   "execution_count": 32,
   "id": "5ec08e0d-0b5f-441d-91a0-698dd9e47814",
   "metadata": {},
   "outputs": [
    {
     "data": {
      "text/plain": [
       "array([  -1.63976874, -400.19584434,   -4.90937352,    3.00228476])"
      ]
     },
     "execution_count": 32,
     "metadata": {},
     "output_type": "execute_result"
    }
   ],
   "source": [
    "predicted_coef"
   ]
  },
  {
   "cell_type": "code",
   "execution_count": 33,
   "id": "1c159f9a-d668-420d-bb2a-5c810ab4dae6",
   "metadata": {},
   "outputs": [
    {
     "data": {
      "text/plain": [
       "[0, -400, -5, 3]"
      ]
     },
     "execution_count": 33,
     "metadata": {},
     "output_type": "execute_result"
    }
   ],
   "source": [
    "coefs"
   ]
  },
  {
   "cell_type": "code",
   "execution_count": 34,
   "id": "dff31af6-5ab8-410c-a7dd-603cbe847a02",
   "metadata": {},
   "outputs": [
    {
     "data": {
      "text/plain": [
       "array([-4.85878004e-12,  3.97903932e-13,  3.37507799e-14, -5.72875081e-14])"
      ]
     },
     "execution_count": 34,
     "metadata": {},
     "output_type": "execute_result"
    }
   ],
   "source": [
    "model.k.flatten() - predicted_coef.flatten()"
   ]
  },
  {
   "cell_type": "code",
   "execution_count": 35,
   "id": "a0d583c6-81c4-4723-8642-488f60005fdc",
   "metadata": {},
   "outputs": [
    {
     "data": {
      "text/plain": [
       "array([-1.63976874, -0.19584434,  0.09062648,  0.00228476])"
      ]
     },
     "execution_count": 35,
     "metadata": {},
     "output_type": "execute_result"
    }
   ],
   "source": [
    "model.k.flatten() - np.array(coefs)"
   ]
  },
  {
   "cell_type": "code",
   "execution_count": 36,
   "id": "88cffcde-f0b9-4dbc-8dfa-60a84417aa4b",
   "metadata": {},
   "outputs": [
    {
     "data": {
      "image/png": "[encoded data removed]",
      "text/plain": [
       "<Figure size 640x480 with 1 Axes>"
      ]
     },
     "metadata": {},
     "output_type": "display_data"
    }
   ],
   "source": [
    "plt.scatter(X_train, y_train, c='blue', linewidths=1, label=\"train\");\n",
    "plt.scatter(X_test, y_test, c='orange', linewidths=1, label=\"test\");\n",
    "\n",
    "x = np.arange(min_X, max_X, 0.1)\n",
    "y_actual = polinomial_func(coefs)(x)\n",
    "y_predicted_written = polinomial_func(predicted_coef)(x)\n",
    "y_predicted_sklearn = polinomial_func(predicted_coef)(x)\n",
    "\n",
    "plt.plot(x, y_actual, '--', color='red', label=\"actual\", linewidth=3)\n",
    "plt.plot(x, y_predicted_written, '-', color='green', label=\"predicted selfwritten\", linewidth=2)\n",
    "# plt.plot(x, y_predicted_sklearn, '-', color='black', label=\"predicted sklearn\", linewidth=2)\n",
    "\n",
    "plt.legend()\n",
    "plt.show()"
   ]
  },
  {
   "cell_type": "code",
   "execution_count": 37,
   "id": "fabd882c-05ca-4f1c-b11b-a79a8a3779d0",
   "metadata": {},
   "outputs": [
    {
     "data": {
      "image/png": "[encoded data removed]",
      "text/plain": [
       "<Figure size 640x480 with 1 Axes>"
      ]
     },
     "metadata": {},
     "output_type": "display_data"
    }
   ],
   "source": [
    "plt.scatter(X_train, y_train, c='blue', linewidths=1, label=\"train\");\n",
    "plt.scatter(X_test, y_test, c='orange', linewidths=1, label=\"test\");\n",
    "\n",
    "x = np.arange(min_X, max_X, 0.1)\n",
    "y_actual = polinomial_func(coefs)(x)\n",
    "y_predicted_written = polinomial_func(predicted_coef)(x)\n",
    "y_predicted_sklearn = polinomial_func(predicted_coef)(x)\n",
    "\n",
    "# plt.plot(x, y_actual, '--', color='red', label=\"actual\", linewidth=3)\n",
    "plt.plot(x, y_predicted_written, '-', color='green', label=\"predicted selfwritten\", linewidth=2)\n",
    "plt.plot(x, y_predicted_sklearn, '-', color='black', label=\"predicted sklearn\", linewidth=2)\n",
    "\n",
    "plt.legend()\n",
    "plt.show()"
   ]
  },
  {
   "cell_type": "code",
   "execution_count": 38,
   "id": "961391f1-70e9-427d-aade-ea59577ec165",
   "metadata": {},
   "outputs": [
    {
     "data": {
      "text/plain": [
       "True"
      ]
     },
     "execution_count": 38,
     "metadata": {},
     "output_type": "execute_result"
    }
   ],
   "source": [
    "np.all(y_predicted_written == y_predicted_sklearn)"
   ]
  },
  {
   "cell_type": "markdown",
   "id": "af63c9c4-8816-48a9-92c6-daf001a5d80c",
   "metadata": {},
   "source": [
    "Наша модель получила (почти) такие же результаты как и модель sklearn, r2_score = 0.9999, коеффициенты аналогичные с точностью до `1e-12`\n",
    "Если смотреть на график, то как и случае с sklearn моделью графики почти везде совпали\n",
    "Если сравнивать нашу модель и модель sklearn, то они совпали во всех точках"
   ]
  },
  {
   "cell_type": "markdown",
   "id": "cadb47ec",
   "metadata": {},
   "source": [
    "## Задание 2"
   ]
  },
  {
   "cell_type": "markdown",
   "id": "e9016d47",
   "metadata": {},
   "source": [
    "1. Используя встроенные функции библиотеки scikit learn, реализуйте модель линейной регрессии с Гауссовскими базисными функциями на некоторых сгенерированных случайно данных. Класс для генерации базисных функций Гаусса реализуйте самостоятельно. Визуализируйте результат. Сделайте выводы о точности. \n",
    "2. Продемонстируйте модификацию модели из пункта 1, используя различные методы регуляризации (не менее 3). Объясните полученный результат. Проведите визуализацию.\n",
    "\n",
    "источник: https://towardsdatascience.com/how-to-improve-your-linear-regression-with-basis-functions-and-regularization-8a6fcebdc11c"
   ]
  },
  {
   "cell_type": "markdown",
   "id": "22a2b997-b984-4943-9f79-9cae17fdbba5",
   "metadata": {},
   "source": [
    "# 1"
   ]
  },
  {
   "cell_type": "code",
   "execution_count": 39,
   "id": "d34847ab-4d10-4693-b853-f2975ba12b66",
   "metadata": {},
   "outputs": [],
   "source": [
    "x_0 = -4\n",
    "x_1 = 30\n",
    "x_2 = -10.65\n",
    "x_3 = -0.9\n",
    "coefs = [x_0, x_1, x_2, x_3]"
   ]
  },
  {
   "cell_type": "code",
   "execution_count": 40,
   "id": "1caca54b-dec9-47f0-ba3f-a9ec1e9c0197",
   "metadata": {},
   "outputs": [
    {
     "data": {
      "image/png": "[encoded data removed]",
      "text/plain": [
       "<Figure size 640x480 with 1 Axes>"
      ]
     },
     "metadata": {},
     "output_type": "display_data"
    }
   ],
   "source": [
    "rng = np.random.RandomState(42)\n",
    "X = 5 * rng.randn(100)\n",
    "y = polinomial_func(coefs)(X) + rng.randn(100) * 10\n",
    "plt.scatter(X, y);\n",
    "plt.show()"
   ]
  },
  {
   "cell_type": "code",
   "execution_count": 41,
   "id": "2550149f-96bf-459b-8dce-e3e016aaaef6",
   "metadata": {},
   "outputs": [],
   "source": [
    "def phi(mean=0, std=1):\n",
    "    def func(x):\n",
    "        return 1 / (std * np.sqrt(2 * np.pi)) * np.exp(-(x - mean) ** 2 / (2 * std ** 2))\n",
    "    return func"
   ]
  },
  {
   "cell_type": "code",
   "execution_count": 42,
   "id": "50878c3b-52a4-4c3a-98ab-9d2ba1a7f857",
   "metadata": {},
   "outputs": [],
   "source": [
    "M = 4"
   ]
  },
  {
   "cell_type": "code",
   "execution_count": 43,
   "id": "494b22f9-deed-4d85-ad6b-f95daec8063c",
   "metadata": {},
   "outputs": [
    {
     "data": {
      "text/plain": [
       "(100,)"
      ]
     },
     "execution_count": 43,
     "metadata": {},
     "output_type": "execute_result"
    }
   ],
   "source": [
    "y.shape"
   ]
  },
  {
   "cell_type": "code",
   "execution_count": 44,
   "id": "042bcc2b-cecd-4431-bfd7-57bd6ce9afc2",
   "metadata": {},
   "outputs": [],
   "source": [
    "y = y.reshape(-1, 1)"
   ]
  },
  {
   "cell_type": "code",
   "execution_count": 45,
   "id": "fafecab4-e474-47c0-ae3a-f09850bef4d7",
   "metadata": {},
   "outputs": [],
   "source": [
    "Phi = np.ones((y.shape[0], M))\n",
    "for m in range(M - 1):\n",
    "    mean = 4 * m / M\n",
    "    Phi[:, m + 1] = phi(mean=mean, std=16)(X)"
   ]
  },
  {
   "cell_type": "code",
   "execution_count": 46,
   "id": "f6c65937-b846-45bd-9104-0cc62b5b49cf",
   "metadata": {},
   "outputs": [],
   "source": [
    "model_gaussian = LinearModel()"
   ]
  },
  {
   "cell_type": "code",
   "execution_count": 47,
   "id": "a6ace0d1-bba5-421b-856d-e6cc9aa893c9",
   "metadata": {},
   "outputs": [],
   "source": [
    "Phi_train, Phi_test, y_train, y_test = train_test_split(Phi, y, test_size=0.2, shuffle=True, random_state=42)"
   ]
  },
  {
   "cell_type": "code",
   "execution_count": 48,
   "id": "59b60940-0c8c-4c83-9eed-69391ee2b522",
   "metadata": {},
   "outputs": [],
   "source": [
    "model_gaussian.train(Phi_train, y_train)"
   ]
  },
  {
   "cell_type": "code",
   "execution_count": 49,
   "id": "3bd31c2c-cfff-4511-9693-17c305ae6598",
   "metadata": {},
   "outputs": [
    {
     "data": {
      "text/plain": [
       "array([0.91336195])"
      ]
     },
     "execution_count": 49,
     "metadata": {},
     "output_type": "execute_result"
    }
   ],
   "source": [
    "model_gaussian.r2_score(Phi_train, y_train)"
   ]
  },
  {
   "cell_type": "code",
   "execution_count": 50,
   "id": "ccfa536c-d0b6-4d3c-be45-fe0fe2a3e527",
   "metadata": {},
   "outputs": [
    {
     "data": {
      "text/plain": [
       "array([0.81586576])"
      ]
     },
     "execution_count": 50,
     "metadata": {},
     "output_type": "execute_result"
    }
   ],
   "source": [
    "model_gaussian.r2_score(Phi_test, y_test)"
   ]
  },
  {
   "cell_type": "code",
   "execution_count": 51,
   "id": "d603e94d-7ebf-46a0-bc66-5583232b193f",
   "metadata": {},
   "outputs": [
    {
     "data": {
      "text/plain": [
       "array([[ 2.88058460e+04],\n",
       "       [-1.87475592e+08],\n",
       "       [ 3.73317627e+08],\n",
       "       [-1.87729311e+08]])"
      ]
     },
     "execution_count": 51,
     "metadata": {},
     "output_type": "execute_result"
    }
   ],
   "source": [
    "model_gaussian.k"
   ]
  },
  {
   "cell_type": "code",
   "execution_count": 52,
   "id": "e2929884-2e83-4278-a593-622dca227b1b",
   "metadata": {},
   "outputs": [
    {
     "data": {
      "text/plain": [
       "'min_X = -13.098725520448722, max_X = 9.261390922544688'"
      ]
     },
     "execution_count": 52,
     "metadata": {},
     "output_type": "execute_result"
    }
   ],
   "source": [
    "min_X = min(X)\n",
    "max_X = max(X)\n",
    "f\"min_X = {min_X}, max_X = {max_X}\""
   ]
  },
  {
   "cell_type": "code",
   "execution_count": 53,
   "id": "ce6cc1ed-5126-4b78-bb7a-6f58a2dd953e",
   "metadata": {},
   "outputs": [
    {
     "data": {
      "image/png": "[encoded data removed]",
      "text/plain": [
       "<Figure size 640x480 with 1 Axes>"
      ]
     },
     "metadata": {},
     "output_type": "display_data"
    }
   ],
   "source": [
    "plt.scatter(X_train, y_train, c='blue', linewidths=1, label=\"train\");\n",
    "plt.scatter(X_test, y_test, c='orange', linewidths=1, label=\"test\");\n",
    "\n",
    "x = np.arange(min_X, max_X, 0.1)\n",
    "y_actual = polinomial_func(coefs)(x)\n",
    "y_phi = polinomial_func(model_gaussian.k)(x)\n",
    "\n",
    "plt.plot(x, y_actual, '--', color='red', label=\"actual\", linewidth=3)\n",
    "plt.plot(x, y_phi, '-', color='black', label=\"phi\", linewidth=2)\n",
    "\n",
    "plt.legend()\n",
    "plt.show()"
   ]
  },
  {
   "cell_type": "code",
   "execution_count": 54,
   "id": "0b34c1fa-5116-42f6-8ea7-967ead05bfbd",
   "metadata": {},
   "outputs": [],
   "source": [
    "def train_and_score(lambda_):\n",
    "    model_gaussian = LinearModel(lambda_=lambda_)\n",
    "\n",
    "    model_gaussian.train(Phi_train, y_train)\n",
    "\n",
    "    print(f\"r^2 score for train {model_gaussian.r2_score(Phi_train, y_train)}\")\n",
    "    print(f\"r^2 score for test  {model_gaussian.r2_score(Phi_test, y_test)}\")\n",
    "    print(f\"coefs {model_gaussian.k}\")\n",
    "    return model_gaussian"
   ]
  },
  {
   "cell_type": "code",
   "execution_count": 55,
   "id": "98e04108-88ee-4c98-9bc9-a18dd50086a9",
   "metadata": {},
   "outputs": [
    {
     "name": "stdout",
     "output_type": "stream",
     "text": [
      "r^2 score for train [-0.0640467]\n",
      "r^2 score for test  [-0.27632905]\n",
      "coefs [[-173.04145165]\n",
      " [  -2.48964277]\n",
      " [  -2.46706644]\n",
      " [  -2.44826131]]\n"
     ]
    }
   ],
   "source": [
    "model_gaussian_10 = train_and_score(10)"
   ]
  },
  {
   "cell_type": "code",
   "execution_count": 56,
   "id": "df59b99b-d8c5-40ac-8096-bc2c3e83e5b7",
   "metadata": {},
   "outputs": [
    {
     "name": "stdout",
     "output_type": "stream",
     "text": [
      "r^2 score for train [-0.11752303]\n",
      "r^2 score for test  [-0.30842532]\n",
      "coefs [[-141.56111355]\n",
      " [  -2.83674895]\n",
      " [  -2.82174264]\n",
      " [  -2.80086131]]\n"
     ]
    }
   ],
   "source": [
    "model_gaussian_30 = train_and_score(30)"
   ]
  },
  {
   "cell_type": "code",
   "execution_count": 57,
   "id": "bf048777-aeee-4b63-92ee-37c182247005",
   "metadata": {},
   "outputs": [
    {
     "name": "stdout",
     "output_type": "stream",
     "text": [
      "r^2 score for train [-0.05443351]\n",
      "r^2 score for test  [-0.26903125]\n",
      "coefs [[-187.87622385]\n",
      " [   1.00592351]\n",
      " [   1.04640496]\n",
      " [   1.0412527 ]]\n"
     ]
    }
   ],
   "source": [
    "model_gaussian_3 = train_and_score(3)"
   ]
  },
  {
   "cell_type": "code",
   "execution_count": 58,
   "id": "89e4a00c-1299-4426-9138-1c76c852a3d5",
   "metadata": {},
   "outputs": [
    {
     "name": "stdout",
     "output_type": "stream",
     "text": [
      "r^2 score for train [-0.0488552]\n",
      "r^2 score for test  [-0.26422626]\n",
      "coefs [[-205.97505454]\n",
      " [ 159.3943502 ]\n",
      " [ 160.00135982]\n",
      " [ 158.78654763]]\n"
     ]
    }
   ],
   "source": [
    "model_gaussian_01 = train_and_score(0.1)"
   ]
  },
  {
   "cell_type": "code",
   "execution_count": 59,
   "id": "345d7a81-e80f-46d0-8918-3d2bd62d9131",
   "metadata": {},
   "outputs": [
    {
     "data": {
      "image/png": "[encoded data removed]",
      "text/plain": [
       "<Figure size 640x480 with 1 Axes>"
      ]
     },
     "metadata": {},
     "output_type": "display_data"
    }
   ],
   "source": [
    "plt.scatter(X_train, y_train, c='blue', linewidths=1, label=\"train\");\n",
    "plt.scatter(X_test, y_test, c='orange', linewidths=1, label=\"test\");\n",
    "\n",
    "x = np.arange(min_X, max_X, 0.1)\n",
    "y_actual = polinomial_func(coefs)(x)\n",
    "y_phi_10 = polinomial_func(model_gaussian_10.k)(x)\n",
    "y_phi_30 = polinomial_func(model_gaussian_30.k)(x)\n",
    "y_phi_3 = polinomial_func(model_gaussian_3.k)(x)\n",
    "y_phi_01 = polinomial_func(model_gaussian_01.k)(x)\n",
    "\n",
    "plt.plot(x, y_actual, '--', color='red', label=\"actual\", linewidth=3)\n",
    "plt.plot(x, y_phi_10, '-', color='yellow', label=f\"phi-10\", linewidth=2)\n",
    "plt.plot(x, y_phi_30, '-', color='brown', label=f\"phi-30\", linewidth=2)\n",
    "plt.plot(x, y_phi_3, '-', color='violet', label=f\"phi-3\", linewidth=2)\n",
    "plt.plot(x, y_phi_01, '-', color='purple', label=f\"phi-01\", linewidth=2)\n",
    "\n",
    "plt.legend()\n",
    "plt.show()"
   ]
  },
  {
   "cell_type": "code",
   "execution_count": 60,
   "id": "64b9c84a-e36a-4575-8747-9b547d8b222d",
   "metadata": {},
   "outputs": [
    {
     "name": "stdout",
     "output_type": "stream",
     "text": [
      "r^2 score for train [-0.31959401]\n",
      "r^2 score for test  [-0.41891702]\n",
      "coefs [[-86.53892108]\n",
      " [ -1.90543293]\n",
      " [ -1.89700182]\n",
      " [ -1.88306094]]\n"
     ]
    }
   ],
   "source": [
    "model_gaussian_100 = train_and_score(100)"
   ]
  },
  {
   "cell_type": "code",
   "execution_count": 61,
   "id": "958d2aac-6162-4cd9-b272-e3b15b06f7ac",
   "metadata": {},
   "outputs": [
    {
     "name": "stdout",
     "output_type": "stream",
     "text": [
      "r^2 score for train [-0.79365816]\n",
      "r^2 score for test  [-0.66849998]\n",
      "coefs [[-14.43144992]\n",
      " [ -0.32877407]\n",
      " [ -0.32741588]\n",
      " [ -0.32501544]]\n"
     ]
    }
   ],
   "source": [
    "model_gaussian_1000 = train_and_score(1000)"
   ]
  },
  {
   "cell_type": "code",
   "execution_count": 62,
   "id": "3cda39c0-eacd-41c8-bfaa-31ef81356d74",
   "metadata": {},
   "outputs": [
    {
     "data": {
      "image/png": "[encoded data removed]",
      "text/plain": [
       "<Figure size 640x480 with 1 Axes>"
      ]
     },
     "metadata": {},
     "output_type": "display_data"
    }
   ],
   "source": [
    "plt.scatter(X_train, y_train, c='blue', linewidths=1, label=\"train\");\n",
    "plt.scatter(X_test, y_test, c='orange', linewidths=1, label=\"test\");\n",
    "\n",
    "x = np.arange(min_X, max_X, 0.1)\n",
    "y_actual = polinomial_func(coefs)(x)\n",
    "\n",
    "y_phi_100 = polinomial_func(model_gaussian_100.k)(x)\n",
    "y_phi_1000 = polinomial_func(model_gaussian_1000.k)(x)\n",
    "\n",
    "plt.plot(x, y_actual, '--', color='red', label=\"actual\", linewidth=3)\n",
    "plt.plot(x, y_phi_100, '-', color='plum', label=f\"phi-100\", linewidth=2)\n",
    "plt.plot(x, y_phi_1000, '-', color='crimson', label=f\"phi-1000\", linewidth=2)\n",
    "\n",
    "plt.legend()\n",
    "plt.show()"
   ]
  },
  {
   "cell_type": "markdown",
   "id": "1035e3eb-a250-4fac-9c6d-867f87b36b1a",
   "metadata": {},
   "source": [
    "Как мы можем заметить данная модель плохо справляется с нашими данными и не может понять закономерность в данных"
   ]
  },
  {
   "cell_type": "code",
   "execution_count": 63,
   "id": "8cbdab99-e2bc-461d-85c3-6c05998dbd00",
   "metadata": {},
   "outputs": [
    {
     "name": "stdout",
     "output_type": "stream",
     "text": [
      "r^2 score for train [-0.59131994]\n",
      "r^2 score for test  [-0.56268452]\n",
      "coefs [[-41.00676533]\n",
      " [ -0.92608895]\n",
      " [ -0.92219444]\n",
      " [ -0.91542935]]\n"
     ]
    }
   ],
   "source": [
    "model_gaussian_300 = train_and_score(300)"
   ]
  },
  {
   "cell_type": "code",
   "execution_count": 64,
   "id": "534c7147-b2b2-43a7-b3bc-d1a57a6b4bbf",
   "metadata": {},
   "outputs": [
    {
     "name": "stdout",
     "output_type": "stream",
     "text": [
      "r^2 score for train [-0.74874093]\n",
      "r^2 score for test  [-0.64506909]\n",
      "coefs [[-19.98109152]\n",
      " [ -0.45447822]\n",
      " [ -0.45259457]\n",
      " [ -0.44927604]]\n"
     ]
    }
   ],
   "source": [
    "model_gaussian_700 = train_and_score(700)"
   ]
  },
  {
   "cell_type": "code",
   "execution_count": 65,
   "id": "3efa8a11-55a1-4dee-93c9-f7d68825075b",
   "metadata": {},
   "outputs": [
    {
     "data": {
      "image/png": "[encoded data removed]",
      "text/plain": [
       "<Figure size 640x480 with 1 Axes>"
      ]
     },
     "metadata": {},
     "output_type": "display_data"
    }
   ],
   "source": [
    "plt.scatter(X_train, y_train, c='blue', linewidths=1, label=\"train\");\n",
    "plt.scatter(X_test, y_test, c='orange', linewidths=1, label=\"test\");\n",
    "\n",
    "x = np.arange(min_X, max_X, 0.1)\n",
    "y_actual = polinomial_func(coefs)(x)\n",
    "y_phi_300 = polinomial_func(model_gaussian_300.k)(x)\n",
    "y_phi_700 = polinomial_func(model_gaussian_700.k)(x)\n",
    "\n",
    "plt.plot(x, y_actual, '--', color='red', label=\"actual\", linewidth=3)\n",
    "plt.plot(x, y_phi_300, '-', color='crimson', label=f\"phi-300\", linewidth=2)\n",
    "plt.plot(x, y_phi_700, '-', color='darkgreen', label=f\"phi-700\", linewidth=2)\n",
    "\n",
    "plt.legend()\n",
    "plt.show()"
   ]
  },
  {
   "cell_type": "markdown",
   "id": "d94b62e4-284b-46bb-b38b-83a366acf7ea",
   "metadata": {},
   "source": [
    "Модель плохо подстраивается под данные\n",
    "Регуляризация приближает к изначальному закону, однако если продолжным увеличивать, то у нас коеффициенту занулятся"
   ]
  },
  {
   "cell_type": "markdown",
   "id": "756debdb",
   "metadata": {},
   "source": [
    "## Задание 3."
   ]
  },
  {
   "cell_type": "markdown",
   "id": "9931e059",
   "metadata": {},
   "source": [
    "Используя произвольную модель линейной регресси постройте наиболее точную модель прогноза зарплаты по позиции. Данные для обучение по ссылке. \n",
    "\n",
    "https://www.kaggle.com/akram24/position-salaries"
   ]
  },
  {
   "cell_type": "code",
   "execution_count": 66,
   "id": "1320b484-9802-4541-98bd-2c105040dc35",
   "metadata": {},
   "outputs": [],
   "source": [
    "# !unzip archive.zip"
   ]
  },
  {
   "cell_type": "code",
   "execution_count": 67,
   "id": "193c6054-b497-409b-9c3a-b1a09b6b5a2a",
   "metadata": {},
   "outputs": [],
   "source": [
    "df = pd.read_csv(\"Position_Salaries.csv\")"
   ]
  },
  {
   "cell_type": "code",
   "execution_count": 68,
   "id": "73d94876-5ac5-40b4-8529-9feb0243d040",
   "metadata": {},
   "outputs": [
    {
     "data": {
      "text/html": [
       "<div>\n",
       "<style scoped>\n",
       "    .dataframe tbody tr th:only-of-type {\n",
       "        vertical-align: middle;\n",
       "    }\n",
       "\n",
       "    .dataframe tbody tr th {\n",
       "        vertical-align: top;\n",
       "    }\n",
       "\n",
       "    .dataframe thead th {\n",
       "        text-align: right;\n",
       "    }\n",
       "</style>\n",
       "<table border=\"1\" class=\"dataframe\">\n",
       "  <thead>\n",
       "    <tr style=\"text-align: right;\">\n",
       "      <th></th>\n",
       "      <th>Position</th>\n",
       "      <th>Level</th>\n",
       "      <th>Salary</th>\n",
       "    </tr>\n",
       "  </thead>\n",
       "  <tbody>\n",
       "    <tr>\n",
       "      <th>0</th>\n",
       "      <td>Business Analyst</td>\n",
       "      <td>1</td>\n",
       "      <td>45000</td>\n",
       "    </tr>\n",
       "    <tr>\n",
       "      <th>1</th>\n",
       "      <td>Junior Consultant</td>\n",
       "      <td>2</td>\n",
       "      <td>50000</td>\n",
       "    </tr>\n",
       "    <tr>\n",
       "      <th>2</th>\n",
       "      <td>Senior Consultant</td>\n",
       "      <td>3</td>\n",
       "      <td>60000</td>\n",
       "    </tr>\n",
       "    <tr>\n",
       "      <th>3</th>\n",
       "      <td>Manager</td>\n",
       "      <td>4</td>\n",
       "      <td>80000</td>\n",
       "    </tr>\n",
       "    <tr>\n",
       "      <th>4</th>\n",
       "      <td>Country Manager</td>\n",
       "      <td>5</td>\n",
       "      <td>110000</td>\n",
       "    </tr>\n",
       "  </tbody>\n",
       "</table>\n",
       "</div>"
      ],
      "text/plain": [
       "            Position  Level  Salary\n",
       "0   Business Analyst      1   45000\n",
       "1  Junior Consultant      2   50000\n",
       "2  Senior Consultant      3   60000\n",
       "3            Manager      4   80000\n",
       "4    Country Manager      5  110000"
      ]
     },
     "execution_count": 68,
     "metadata": {},
     "output_type": "execute_result"
    }
   ],
   "source": [
    "df.head()"
   ]
  },
  {
   "cell_type": "code",
   "execution_count": 69,
   "id": "eb847bd9-79a2-49ea-b110-1f103265be6f",
   "metadata": {},
   "outputs": [
    {
     "name": "stdout",
     "output_type": "stream",
     "text": [
      "<class 'pandas.core.frame.DataFrame'>\n",
      "RangeIndex: 10 entries, 0 to 9\n",
      "Data columns (total 3 columns):\n",
      " #   Column    Non-Null Count  Dtype \n",
      "---  ------    --------------  ----- \n",
      " 0   Position  10 non-null     object\n",
      " 1   Level     10 non-null     int64 \n",
      " 2   Salary    10 non-null     int64 \n",
      "dtypes: int64(2), object(1)\n",
      "memory usage: 368.0+ bytes\n"
     ]
    }
   ],
   "source": [
    "df.info()"
   ]
  },
  {
   "cell_type": "code",
   "execution_count": 70,
   "id": "fe07c989-7fb3-49aa-a529-2a8498e7fc83",
   "metadata": {},
   "outputs": [],
   "source": [
    "target = 'Salary'"
   ]
  },
  {
   "cell_type": "code",
   "execution_count": 71,
   "id": "8b69078b-c071-4c36-bdbf-a8d26d3ee594",
   "metadata": {},
   "outputs": [],
   "source": [
    "y = df[target]\n",
    "X = df[df.columns[~df.columns.isin([target])]]"
   ]
  },
  {
   "cell_type": "code",
   "execution_count": 72,
   "id": "7667165f-df88-4a0f-aec9-1f00d302c602",
   "metadata": {},
   "outputs": [
    {
     "data": {
      "text/plain": [
       "((10, 2), (10,))"
      ]
     },
     "execution_count": 72,
     "metadata": {},
     "output_type": "execute_result"
    }
   ],
   "source": [
    "X.shape, y.shape"
   ]
  },
  {
   "cell_type": "code",
   "execution_count": 73,
   "id": "2a11165f-3b51-4dd6-a524-7de85c49c4fb",
   "metadata": {},
   "outputs": [
    {
     "data": {
      "text/plain": [
       "(array(['Business Analyst', 'C-level', 'CEO', 'Country Manager',\n",
       "        'Junior Consultant', 'Manager', 'Partner', 'Region Manager',\n",
       "        'Senior Consultant', 'Senior Partner'], dtype=object),\n",
       " array([1, 1, 1, 1, 1, 1, 1, 1, 1, 1]))"
      ]
     },
     "execution_count": 73,
     "metadata": {},
     "output_type": "execute_result"
    }
   ],
   "source": [
    "np.unique(X.Position, return_counts=True)"
   ]
  },
  {
   "cell_type": "code",
   "execution_count": 74,
   "id": "9fd7cdf3-d8d9-4cd6-a1d9-f2de866580f3",
   "metadata": {},
   "outputs": [
    {
     "data": {
      "text/plain": [
       "(array([ 1,  2,  3,  4,  5,  6,  7,  8,  9, 10]),\n",
       " array([1, 1, 1, 1, 1, 1, 1, 1, 1, 1]))"
      ]
     },
     "execution_count": 74,
     "metadata": {},
     "output_type": "execute_result"
    }
   ],
   "source": [
    "np.unique(X.Level, return_counts=True)"
   ]
  },
  {
   "cell_type": "code",
   "execution_count": 75,
   "id": "5b769f0f-8056-4bf2-b544-df1306352927",
   "metadata": {},
   "outputs": [],
   "source": [
    "import seaborn as sns"
   ]
  },
  {
   "cell_type": "code",
   "execution_count": 76,
   "id": "b9eff470-da22-4106-a259-e80c7069a387",
   "metadata": {},
   "outputs": [
    {
     "name": "stderr",
     "output_type": "stream",
     "text": [
      "/home/vlad/anaconda3/lib/python3.8/site-packages/seaborn/distributions.py:2619: FutureWarning: `distplot` is a deprecated function and will be removed in a future version. Please adapt your code to use either `displot` (a figure-level function with similar flexibility) or `histplot` (an axes-level function for histograms).\n",
      "  warnings.warn(msg, FutureWarning)\n"
     ]
    },
    {
     "data": {
      "image/png": "[encoded data removed]",
      "text/plain": [
       "<Figure size 640x480 with 1 Axes>"
      ]
     },
     "metadata": {},
     "output_type": "display_data"
    }
   ],
   "source": [
    "sns.distplot(X.Level)\n",
    "plt.show()"
   ]
  },
  {
   "cell_type": "code",
   "execution_count": 77,
   "id": "f97d06c9-367d-41b1-be65-2ee0ed1ca88e",
   "metadata": {},
   "outputs": [
    {
     "data": {
      "text/html": [
       "<div>\n",
       "<style scoped>\n",
       "    .dataframe tbody tr th:only-of-type {\n",
       "        vertical-align: middle;\n",
       "    }\n",
       "\n",
       "    .dataframe tbody tr th {\n",
       "        vertical-align: top;\n",
       "    }\n",
       "\n",
       "    .dataframe thead th {\n",
       "        text-align: right;\n",
       "    }\n",
       "</style>\n",
       "<table border=\"1\" class=\"dataframe\">\n",
       "  <thead>\n",
       "    <tr style=\"text-align: right;\">\n",
       "      <th></th>\n",
       "      <th>Position</th>\n",
       "      <th>Level</th>\n",
       "    </tr>\n",
       "  </thead>\n",
       "  <tbody>\n",
       "    <tr>\n",
       "      <th>0</th>\n",
       "      <td>Business Analyst</td>\n",
       "      <td>1</td>\n",
       "    </tr>\n",
       "    <tr>\n",
       "      <th>1</th>\n",
       "      <td>Junior Consultant</td>\n",
       "      <td>2</td>\n",
       "    </tr>\n",
       "    <tr>\n",
       "      <th>2</th>\n",
       "      <td>Senior Consultant</td>\n",
       "      <td>3</td>\n",
       "    </tr>\n",
       "    <tr>\n",
       "      <th>3</th>\n",
       "      <td>Manager</td>\n",
       "      <td>4</td>\n",
       "    </tr>\n",
       "    <tr>\n",
       "      <th>4</th>\n",
       "      <td>Country Manager</td>\n",
       "      <td>5</td>\n",
       "    </tr>\n",
       "    <tr>\n",
       "      <th>5</th>\n",
       "      <td>Region Manager</td>\n",
       "      <td>6</td>\n",
       "    </tr>\n",
       "    <tr>\n",
       "      <th>6</th>\n",
       "      <td>Partner</td>\n",
       "      <td>7</td>\n",
       "    </tr>\n",
       "    <tr>\n",
       "      <th>7</th>\n",
       "      <td>Senior Partner</td>\n",
       "      <td>8</td>\n",
       "    </tr>\n",
       "    <tr>\n",
       "      <th>8</th>\n",
       "      <td>C-level</td>\n",
       "      <td>9</td>\n",
       "    </tr>\n",
       "    <tr>\n",
       "      <th>9</th>\n",
       "      <td>CEO</td>\n",
       "      <td>10</td>\n",
       "    </tr>\n",
       "  </tbody>\n",
       "</table>\n",
       "</div>"
      ],
      "text/plain": [
       "            Position  Level\n",
       "0   Business Analyst      1\n",
       "1  Junior Consultant      2\n",
       "2  Senior Consultant      3\n",
       "3            Manager      4\n",
       "4    Country Manager      5\n",
       "5     Region Manager      6\n",
       "6            Partner      7\n",
       "7     Senior Partner      8\n",
       "8            C-level      9\n",
       "9                CEO     10"
      ]
     },
     "execution_count": 77,
     "metadata": {},
     "output_type": "execute_result"
    }
   ],
   "source": [
    "X"
   ]
  },
  {
   "cell_type": "code",
   "execution_count": 78,
   "id": "fd60903c-9b88-4bf7-9a64-f3d8c7fd1f60",
   "metadata": {},
   "outputs": [],
   "source": [
    "from sklearn.metrics import r2_score , mean_squared_error , mean_absolute_error"
   ]
  },
  {
   "cell_type": "code",
   "execution_count": 79,
   "id": "38a98877-1a6a-4e6a-968c-7aa85bb11097",
   "metadata": {},
   "outputs": [],
   "source": [
    "X_level = np.array(X.Level).reshape(-1, 1)\n",
    "y = np.array(y).reshape(-1, 1)"
   ]
  },
  {
   "cell_type": "code",
   "execution_count": 80,
   "id": "bc74b341-32dd-4067-8d96-20ea9e3f16b9",
   "metadata": {},
   "outputs": [],
   "source": [
    "X_level_train , X_level_test , y_train , y_test = train_test_split(X_level, y, test_size=0.2,random_state=42)"
   ]
  },
  {
   "cell_type": "code",
   "execution_count": 81,
   "id": "9173ea14-8c6a-41e7-a0cb-1cbf6c439229",
   "metadata": {},
   "outputs": [
    {
     "name": "stdout",
     "output_type": "stream",
     "text": [
      "R^2 score: 0.8451346684575975\n",
      "RMSE: 88544.09867029039\n",
      "MAE: 82607.75862068962\n"
     ]
    }
   ],
   "source": [
    "lin_reg = LinearRegression()\n",
    "lin_reg.fit(X_level_train, y_train)\n",
    "\n",
    "y_pred = lin_reg.predict(X_level_test)\n",
    "\n",
    "print(f\"R^2 score: {r2_score(y_test, y_pred)}\")\n",
    "print(f\"RMSE: {np.sqrt(mean_squared_error(y_test, y_pred))}\")\n",
    "print(f\"MAE: {mean_absolute_error(y_test, y_pred)}\")"
   ]
  },
  {
   "cell_type": "code",
   "execution_count": 82,
   "id": "45bf27c1-9978-46b1-9d67-dead4a960106",
   "metadata": {},
   "outputs": [
    {
     "name": "stdout",
     "output_type": "stream",
     "text": [
      "R^2 score: 0.8762695647830209\n",
      "RMSE: 79144.50886106734\n",
      "MAE: 70635.24590163928\n"
     ]
    }
   ],
   "source": [
    "poly_reg_3 = PolynomialFeatures(degree=3)\n",
    "X_level_poly = poly_reg_3.fit_transform(X_level_train)\n",
    "lin_reg_3 = LinearRegression()\n",
    "lin_reg_3.fit(X_level_poly, y_train)\n",
    "\n",
    "y_pred = lin_reg_3.predict(poly_reg_3.transform(X_level_test))\n",
    "\n",
    "print(f\"R^2 score: {r2_score(y_test, y_pred)}\")\n",
    "print(f\"RMSE: {np.sqrt(mean_squared_error(y_test, y_pred))}\")\n",
    "print(f\"MAE: {mean_absolute_error(y_test, y_pred)}\")"
   ]
  },
  {
   "cell_type": "code",
   "execution_count": 83,
   "id": "baa82dc6-a890-42ef-b2aa-885d1641f678",
   "metadata": {},
   "outputs": [
    {
     "name": "stdout",
     "output_type": "stream",
     "text": [
      "R^2 score: 0.9950481764358288\n",
      "RMSE: 15833.068809809773\n",
      "MAE: 13037.790697616743\n"
     ]
    }
   ],
   "source": [
    "poly_reg_5 = PolynomialFeatures(degree=5)\n",
    "X_level_poly = poly_reg_5.fit_transform(X_level_train)\n",
    "lin_reg_5 = LinearRegression()\n",
    "lin_reg_5.fit(X_level_poly, y_train)\n",
    "\n",
    "y_pred = lin_reg_5.predict(poly_reg_5.transform(X_level_test))\n",
    "\n",
    "print(f\"R^2 score: {r2_score(y_test, y_pred)}\")\n",
    "print(f\"RMSE: {np.sqrt(mean_squared_error(y_test, y_pred))}\")\n",
    "print(f\"MAE: {mean_absolute_error(y_test, y_pred)}\")"
   ]
  },
  {
   "cell_type": "code",
   "execution_count": 84,
   "id": "7f2d4ce8-8a8b-4483-8df0-459fb4e46045",
   "metadata": {},
   "outputs": [
    {
     "data": {
      "image/png": "[encoded data removed]",
      "text/plain": [
       "<Figure size 640x480 with 1 Axes>"
      ]
     },
     "metadata": {},
     "output_type": "display_data"
    }
   ],
   "source": [
    "plt.scatter(X_level, y, c='r')\n",
    "plt.plot(X_level, lin_reg.predict(X_level), c='b', label=\"linear regression\")\n",
    "plt.plot(X_level, lin_reg_3.predict(poly_reg_3.transform(X_level)), c='g', label=\"polinomial regression with 3 degree\")\n",
    "plt.plot(X_level, lin_reg_5.predict(poly_reg_5.transform(X_level)), c='orchid', label=\"polinomial regression with 5 degree\")\n",
    "plt.legend()\n",
    "plt.show()"
   ]
  },
  {
   "cell_type": "code",
   "execution_count": 85,
   "id": "3d4969b2-5d88-42ff-885d-07c81fba95a9",
   "metadata": {},
   "outputs": [
    {
     "data": {
      "text/plain": [
       "array([[22021.22443207],\n",
       "       [ 4054.35696316]])"
      ]
     },
     "execution_count": 85,
     "metadata": {},
     "output_type": "execute_result"
    }
   ],
   "source": [
    "lin_reg_5.predict(poly_reg_5.transform(X_level_test)) - y_test"
   ]
  },
  {
   "cell_type": "code",
   "execution_count": 86,
   "id": "4fbe30ef-4e81-410c-8a76-7f6278e3996b",
   "metadata": {},
   "outputs": [
    {
     "data": {
      "text/plain": [
       "array([[106335.60051157],\n",
       "       [ 34934.89129171]])"
      ]
     },
     "execution_count": 86,
     "metadata": {},
     "output_type": "execute_result"
    }
   ],
   "source": [
    "lin_reg_3.predict(poly_reg_3.transform(X_level_test)) - y_test"
   ]
  },
  {
   "cell_type": "code",
   "execution_count": 87,
   "id": "9cac3225-0223-4fa4-aa64-7ed2f17e4463",
   "metadata": {},
   "outputs": [
    {
     "data": {
      "text/plain": [
       "array([[  50732.75862069],\n",
       "       [-114482.75862069]])"
      ]
     },
     "execution_count": 87,
     "metadata": {},
     "output_type": "execute_result"
    }
   ],
   "source": [
    "lin_reg.predict(X_level_test) - y_test"
   ]
  },
  {
   "cell_type": "markdown",
   "id": "0fa98fa6-e89c-47a7-a584-f0774fa1411c",
   "metadata": {},
   "source": [
    "Лучше всего себя показала полиномиальная модель 5ой степени\n",
    "На графике так же можно увидеть что она точно попала в нужные точки"
   ]
  },
  {
   "cell_type": "markdown",
   "id": "7b95143c",
   "metadata": {},
   "source": [
    "## Задание 4"
   ]
  },
  {
   "cell_type": "markdown",
   "id": "9ffb658d",
   "metadata": {},
   "source": [
    "Используя модель линейной регрессии для многомерных входных данных спрогнозируйте объём велосипедного трафика в зависимости от погодных условий. Провелите предварительное проектирование признаков.   \n",
    "Тестовые данные.\n",
    "\n",
    "Траффик: https://www.kaggle.com/gauravduttakiit/fremont-bridge\n",
    "Погода: В файле BicycleWeather.csv в комплекте с ЛР.\n"
   ]
  },
  {
   "cell_type": "code",
   "execution_count": 88,
   "id": "127f6da2",
   "metadata": {},
   "outputs": [],
   "source": [
    "fremont = pd.read_csv('fremont-bridge.csv', index_col='Date', parse_dates=True)\n",
    "weather = pd.read_csv('BicycleWeather.csv', index_col='DATE', parse_dates=True)"
   ]
  },
  {
   "cell_type": "code",
   "execution_count": 89,
   "id": "5ab89006-6ae3-42f3-980f-255bc5f38184",
   "metadata": {},
   "outputs": [
    {
     "data": {
      "text/html": [
       "<div>\n",
       "<style scoped>\n",
       "    .dataframe tbody tr th:only-of-type {\n",
       "        vertical-align: middle;\n",
       "    }\n",
       "\n",
       "    .dataframe tbody tr th {\n",
       "        vertical-align: top;\n",
       "    }\n",
       "\n",
       "    .dataframe thead th {\n",
       "        text-align: right;\n",
       "    }\n",
       "</style>\n",
       "<table border=\"1\" class=\"dataframe\">\n",
       "  <thead>\n",
       "    <tr style=\"text-align: right;\">\n",
       "      <th></th>\n",
       "      <th>West</th>\n",
       "      <th>East</th>\n",
       "    </tr>\n",
       "    <tr>\n",
       "      <th>Date</th>\n",
       "      <th></th>\n",
       "      <th></th>\n",
       "    </tr>\n",
       "  </thead>\n",
       "  <tbody>\n",
       "    <tr>\n",
       "      <th>2012-10-03 00:00:00</th>\n",
       "      <td>4.0</td>\n",
       "      <td>9.0</td>\n",
       "    </tr>\n",
       "    <tr>\n",
       "      <th>2012-10-03 01:00:00</th>\n",
       "      <td>4.0</td>\n",
       "      <td>6.0</td>\n",
       "    </tr>\n",
       "    <tr>\n",
       "      <th>2012-10-03 02:00:00</th>\n",
       "      <td>1.0</td>\n",
       "      <td>1.0</td>\n",
       "    </tr>\n",
       "    <tr>\n",
       "      <th>2012-10-03 03:00:00</th>\n",
       "      <td>2.0</td>\n",
       "      <td>3.0</td>\n",
       "    </tr>\n",
       "    <tr>\n",
       "      <th>2012-10-03 04:00:00</th>\n",
       "      <td>6.0</td>\n",
       "      <td>1.0</td>\n",
       "    </tr>\n",
       "  </tbody>\n",
       "</table>\n",
       "</div>"
      ],
      "text/plain": [
       "                     West  East\n",
       "Date                           \n",
       "2012-10-03 00:00:00   4.0   9.0\n",
       "2012-10-03 01:00:00   4.0   6.0\n",
       "2012-10-03 02:00:00   1.0   1.0\n",
       "2012-10-03 03:00:00   2.0   3.0\n",
       "2012-10-03 04:00:00   6.0   1.0"
      ]
     },
     "execution_count": 89,
     "metadata": {},
     "output_type": "execute_result"
    }
   ],
   "source": [
    "fremont.head()"
   ]
  },
  {
   "cell_type": "code",
   "execution_count": 90,
   "id": "2d331470-794d-4c93-a1a8-02ae14272c82",
   "metadata": {},
   "outputs": [
    {
     "data": {
      "text/plain": [
       "(Timestamp('2012-10-03 00:00:00'), Timestamp('2017-12-31 23:00:00'))"
      ]
     },
     "execution_count": 90,
     "metadata": {},
     "output_type": "execute_result"
    }
   ],
   "source": [
    "min(fremont.index), max(fremont.index)"
   ]
  },
  {
   "cell_type": "code",
   "execution_count": 91,
   "id": "579b7e42-0f56-4199-8916-222849a5bbdc",
   "metadata": {},
   "outputs": [],
   "source": [
    "pd.set_option('display.max_columns', 100)"
   ]
  },
  {
   "cell_type": "code",
   "execution_count": 92,
   "id": "3585cd4f-d612-4be1-8bc1-53a1d6898725",
   "metadata": {},
   "outputs": [
    {
     "data": {
      "text/html": [
       "<div>\n",
       "<style scoped>\n",
       "    .dataframe tbody tr th:only-of-type {\n",
       "        vertical-align: middle;\n",
       "    }\n",
       "\n",
       "    .dataframe tbody tr th {\n",
       "        vertical-align: top;\n",
       "    }\n",
       "\n",
       "    .dataframe thead th {\n",
       "        text-align: right;\n",
       "    }\n",
       "</style>\n",
       "<table border=\"1\" class=\"dataframe\">\n",
       "  <thead>\n",
       "    <tr style=\"text-align: right;\">\n",
       "      <th></th>\n",
       "      <th>STATION</th>\n",
       "      <th>STATION_NAME</th>\n",
       "      <th>PRCP</th>\n",
       "      <th>SNWD</th>\n",
       "      <th>SNOW</th>\n",
       "      <th>TMAX</th>\n",
       "      <th>TMIN</th>\n",
       "      <th>AWND</th>\n",
       "      <th>WDF2</th>\n",
       "      <th>WDF5</th>\n",
       "      <th>WSF2</th>\n",
       "      <th>WSF5</th>\n",
       "      <th>FMTM</th>\n",
       "      <th>WT14</th>\n",
       "      <th>WT01</th>\n",
       "      <th>WT17</th>\n",
       "      <th>WT05</th>\n",
       "      <th>WT02</th>\n",
       "      <th>WT22</th>\n",
       "      <th>WT04</th>\n",
       "      <th>WT13</th>\n",
       "      <th>WT16</th>\n",
       "      <th>WT08</th>\n",
       "      <th>WT18</th>\n",
       "      <th>WT03</th>\n",
       "    </tr>\n",
       "    <tr>\n",
       "      <th>DATE</th>\n",
       "      <th></th>\n",
       "      <th></th>\n",
       "      <th></th>\n",
       "      <th></th>\n",
       "      <th></th>\n",
       "      <th></th>\n",
       "      <th></th>\n",
       "      <th></th>\n",
       "      <th></th>\n",
       "      <th></th>\n",
       "      <th></th>\n",
       "      <th></th>\n",
       "      <th></th>\n",
       "      <th></th>\n",
       "      <th></th>\n",
       "      <th></th>\n",
       "      <th></th>\n",
       "      <th></th>\n",
       "      <th></th>\n",
       "      <th></th>\n",
       "      <th></th>\n",
       "      <th></th>\n",
       "      <th></th>\n",
       "      <th></th>\n",
       "      <th></th>\n",
       "    </tr>\n",
       "  </thead>\n",
       "  <tbody>\n",
       "    <tr>\n",
       "      <th>2012-01-01</th>\n",
       "      <td>GHCND:USW00024233</td>\n",
       "      <td>SEATTLE TACOMA INTERNATIONAL AIRPORT WA US</td>\n",
       "      <td>0</td>\n",
       "      <td>0</td>\n",
       "      <td>0</td>\n",
       "      <td>128</td>\n",
       "      <td>50</td>\n",
       "      <td>47</td>\n",
       "      <td>100</td>\n",
       "      <td>90</td>\n",
       "      <td>89</td>\n",
       "      <td>112</td>\n",
       "      <td>-9999</td>\n",
       "      <td>1</td>\n",
       "      <td>-9999</td>\n",
       "      <td>-9999</td>\n",
       "      <td>-9999</td>\n",
       "      <td>-9999</td>\n",
       "      <td>-9999</td>\n",
       "      <td>-9999</td>\n",
       "      <td>-9999</td>\n",
       "      <td>-9999</td>\n",
       "      <td>-9999</td>\n",
       "      <td>-9999</td>\n",
       "      <td>-9999</td>\n",
       "    </tr>\n",
       "    <tr>\n",
       "      <th>2012-01-02</th>\n",
       "      <td>GHCND:USW00024233</td>\n",
       "      <td>SEATTLE TACOMA INTERNATIONAL AIRPORT WA US</td>\n",
       "      <td>109</td>\n",
       "      <td>0</td>\n",
       "      <td>0</td>\n",
       "      <td>106</td>\n",
       "      <td>28</td>\n",
       "      <td>45</td>\n",
       "      <td>180</td>\n",
       "      <td>200</td>\n",
       "      <td>130</td>\n",
       "      <td>179</td>\n",
       "      <td>-9999</td>\n",
       "      <td>-9999</td>\n",
       "      <td>1</td>\n",
       "      <td>-9999</td>\n",
       "      <td>-9999</td>\n",
       "      <td>-9999</td>\n",
       "      <td>-9999</td>\n",
       "      <td>-9999</td>\n",
       "      <td>1</td>\n",
       "      <td>1</td>\n",
       "      <td>-9999</td>\n",
       "      <td>-9999</td>\n",
       "      <td>-9999</td>\n",
       "    </tr>\n",
       "    <tr>\n",
       "      <th>2012-01-03</th>\n",
       "      <td>GHCND:USW00024233</td>\n",
       "      <td>SEATTLE TACOMA INTERNATIONAL AIRPORT WA US</td>\n",
       "      <td>8</td>\n",
       "      <td>0</td>\n",
       "      <td>0</td>\n",
       "      <td>117</td>\n",
       "      <td>72</td>\n",
       "      <td>23</td>\n",
       "      <td>180</td>\n",
       "      <td>170</td>\n",
       "      <td>54</td>\n",
       "      <td>67</td>\n",
       "      <td>-9999</td>\n",
       "      <td>-9999</td>\n",
       "      <td>-9999</td>\n",
       "      <td>-9999</td>\n",
       "      <td>-9999</td>\n",
       "      <td>-9999</td>\n",
       "      <td>-9999</td>\n",
       "      <td>-9999</td>\n",
       "      <td>-9999</td>\n",
       "      <td>1</td>\n",
       "      <td>-9999</td>\n",
       "      <td>-9999</td>\n",
       "      <td>-9999</td>\n",
       "    </tr>\n",
       "    <tr>\n",
       "      <th>2012-01-04</th>\n",
       "      <td>GHCND:USW00024233</td>\n",
       "      <td>SEATTLE TACOMA INTERNATIONAL AIRPORT WA US</td>\n",
       "      <td>203</td>\n",
       "      <td>0</td>\n",
       "      <td>0</td>\n",
       "      <td>122</td>\n",
       "      <td>56</td>\n",
       "      <td>47</td>\n",
       "      <td>180</td>\n",
       "      <td>190</td>\n",
       "      <td>107</td>\n",
       "      <td>148</td>\n",
       "      <td>-9999</td>\n",
       "      <td>-9999</td>\n",
       "      <td>1</td>\n",
       "      <td>-9999</td>\n",
       "      <td>-9999</td>\n",
       "      <td>-9999</td>\n",
       "      <td>-9999</td>\n",
       "      <td>-9999</td>\n",
       "      <td>1</td>\n",
       "      <td>1</td>\n",
       "      <td>-9999</td>\n",
       "      <td>-9999</td>\n",
       "      <td>-9999</td>\n",
       "    </tr>\n",
       "    <tr>\n",
       "      <th>2012-01-05</th>\n",
       "      <td>GHCND:USW00024233</td>\n",
       "      <td>SEATTLE TACOMA INTERNATIONAL AIRPORT WA US</td>\n",
       "      <td>13</td>\n",
       "      <td>0</td>\n",
       "      <td>0</td>\n",
       "      <td>89</td>\n",
       "      <td>28</td>\n",
       "      <td>61</td>\n",
       "      <td>200</td>\n",
       "      <td>220</td>\n",
       "      <td>107</td>\n",
       "      <td>165</td>\n",
       "      <td>-9999</td>\n",
       "      <td>-9999</td>\n",
       "      <td>1</td>\n",
       "      <td>-9999</td>\n",
       "      <td>-9999</td>\n",
       "      <td>-9999</td>\n",
       "      <td>-9999</td>\n",
       "      <td>-9999</td>\n",
       "      <td>-9999</td>\n",
       "      <td>1</td>\n",
       "      <td>-9999</td>\n",
       "      <td>-9999</td>\n",
       "      <td>-9999</td>\n",
       "    </tr>\n",
       "  </tbody>\n",
       "</table>\n",
       "</div>"
      ],
      "text/plain": [
       "                      STATION                                STATION_NAME  \\\n",
       "DATE                                                                        \n",
       "2012-01-01  GHCND:USW00024233  SEATTLE TACOMA INTERNATIONAL AIRPORT WA US   \n",
       "2012-01-02  GHCND:USW00024233  SEATTLE TACOMA INTERNATIONAL AIRPORT WA US   \n",
       "2012-01-03  GHCND:USW00024233  SEATTLE TACOMA INTERNATIONAL AIRPORT WA US   \n",
       "2012-01-04  GHCND:USW00024233  SEATTLE TACOMA INTERNATIONAL AIRPORT WA US   \n",
       "2012-01-05  GHCND:USW00024233  SEATTLE TACOMA INTERNATIONAL AIRPORT WA US   \n",
       "\n",
       "            PRCP  SNWD  SNOW  TMAX  TMIN  AWND  WDF2  WDF5  WSF2  WSF5  FMTM  \\\n",
       "DATE                                                                           \n",
       "2012-01-01     0     0     0   128    50    47   100    90    89   112 -9999   \n",
       "2012-01-02   109     0     0   106    28    45   180   200   130   179 -9999   \n",
       "2012-01-03     8     0     0   117    72    23   180   170    54    67 -9999   \n",
       "2012-01-04   203     0     0   122    56    47   180   190   107   148 -9999   \n",
       "2012-01-05    13     0     0    89    28    61   200   220   107   165 -9999   \n",
       "\n",
       "            WT14  WT01  WT17  WT05  WT02  WT22  WT04  WT13  WT16  WT08  WT18  \\\n",
       "DATE                                                                           \n",
       "2012-01-01     1 -9999 -9999 -9999 -9999 -9999 -9999 -9999 -9999 -9999 -9999   \n",
       "2012-01-02 -9999     1 -9999 -9999 -9999 -9999 -9999     1     1 -9999 -9999   \n",
       "2012-01-03 -9999 -9999 -9999 -9999 -9999 -9999 -9999 -9999     1 -9999 -9999   \n",
       "2012-01-04 -9999     1 -9999 -9999 -9999 -9999 -9999     1     1 -9999 -9999   \n",
       "2012-01-05 -9999     1 -9999 -9999 -9999 -9999 -9999 -9999     1 -9999 -9999   \n",
       "\n",
       "            WT03  \n",
       "DATE              \n",
       "2012-01-01 -9999  \n",
       "2012-01-02 -9999  \n",
       "2012-01-03 -9999  \n",
       "2012-01-04 -9999  \n",
       "2012-01-05 -9999  "
      ]
     },
     "execution_count": 92,
     "metadata": {},
     "output_type": "execute_result"
    }
   ],
   "source": [
    "weather.head()"
   ]
  },
  {
   "cell_type": "code",
   "execution_count": 93,
   "id": "aba033cc-4b26-4a7b-9e42-a630d72c2496",
   "metadata": {},
   "outputs": [
    {
     "data": {
      "text/plain": [
       "0      784\n",
       "3       47\n",
       "5       38\n",
       "10      25\n",
       "8       22\n",
       "      ... \n",
       "168      1\n",
       "300      1\n",
       "104      1\n",
       "122      1\n",
       "325      1\n",
       "Name: PRCP, Length: 104, dtype: int64"
      ]
     },
     "execution_count": 93,
     "metadata": {},
     "output_type": "execute_result"
    }
   ],
   "source": [
    "weather.PRCP.value_counts()"
   ]
  },
  {
   "cell_type": "code",
   "execution_count": 94,
   "id": "e68749be-1889-43de-be79-a5fa7f717111",
   "metadata": {},
   "outputs": [
    {
     "data": {
      "image/png": "[encoded data removed]",
      "text/plain": [
       "<Figure size 500x500 with 1 Axes>"
      ]
     },
     "metadata": {},
     "output_type": "display_data"
    }
   ],
   "source": [
    "sns.displot(weather.PRCP)\n",
    "plt.show()"
   ]
  },
  {
   "cell_type": "code",
   "execution_count": 95,
   "id": "a2f82edb-e059-4156-a511-0140e510d794",
   "metadata": {},
   "outputs": [
    {
     "data": {
      "text/plain": [
       "(784, 556)"
      ]
     },
     "execution_count": 95,
     "metadata": {},
     "output_type": "execute_result"
    }
   ],
   "source": [
    "(weather.PRCP == 0).sum(), (weather.PRCP != 0).sum()"
   ]
  },
  {
   "cell_type": "code",
   "execution_count": 96,
   "id": "beb3d665-1092-4b7b-ae43-7e024fbf36c3",
   "metadata": {},
   "outputs": [
    {
     "data": {
      "text/plain": [
       "0     1332\n",
       "51       3\n",
       "25       2\n",
       "76       2\n",
       "80       1\n",
       "Name: SNWD, dtype: int64"
      ]
     },
     "execution_count": 96,
     "metadata": {},
     "output_type": "execute_result"
    }
   ],
   "source": [
    "weather.SNWD.value_counts()"
   ]
  },
  {
   "cell_type": "code",
   "execution_count": 97,
   "id": "f998d57f-cdf3-4b6c-ba7e-c387bbd3030a",
   "metadata": {},
   "outputs": [
    {
     "data": {
      "text/plain": [
       " 0       1327\n",
       "-9999       4\n",
       " 61         1\n",
       " 3          1\n",
       " 173        1\n",
       " 8          1\n",
       " 23         1\n",
       " 15         1\n",
       " 28         1\n",
       " 74         1\n",
       " 20         1\n",
       "Name: SNOW, dtype: int64"
      ]
     },
     "execution_count": 97,
     "metadata": {},
     "output_type": "execute_result"
    }
   ],
   "source": [
    "weather.SNOW.value_counts()"
   ]
  },
  {
   "cell_type": "code",
   "execution_count": 98,
   "id": "d6825d1b-adb9-444d-b35f-c237b8aaee7b",
   "metadata": {},
   "outputs": [
    {
     "data": {
      "image/png": "[encoded data removed]",
      "text/plain": [
       "<Figure size 500x500 with 1 Axes>"
      ]
     },
     "metadata": {},
     "output_type": "display_data"
    }
   ],
   "source": [
    "sns.displot(weather.TMAX)\n",
    "plt.show()"
   ]
  },
  {
   "cell_type": "code",
   "execution_count": 99,
   "id": "04c725a8-d485-4268-be25-7f29c662bf8d",
   "metadata": {},
   "outputs": [
    {
     "data": {
      "image/png": "[encoded data removed]",
      "text/plain": [
       "<Figure size 500x500 with 1 Axes>"
      ]
     },
     "metadata": {},
     "output_type": "display_data"
    }
   ],
   "source": [
    "sns.displot(weather.TMIN)\n",
    "plt.show()"
   ]
  },
  {
   "cell_type": "markdown",
   "id": "d7763db5-2097-4d44-8677-eac6e94969fd",
   "metadata": {},
   "source": [
    "    SNWD, SNOW - содержат подавляющее число 0ей, поэтому из них мы не получим никакой информации\n",
    "    AWND, WDF2, WDF5, WSF2, WSF5, FMTM, WT14, WT01, WT17, WT05, WT02, WT22, WT04, WT13, WT16, WT08, WT18, WT03 -- не понятно что это за показатели, возможно источники"
   ]
  },
  {
   "cell_type": "code",
   "execution_count": 100,
   "id": "66d79053-bbb2-4ace-ba15-3ea31ef125a3",
   "metadata": {},
   "outputs": [
    {
     "data": {
      "text/plain": [
       "(Timestamp('2012-01-01 00:00:00'), Timestamp('2015-09-01 00:00:00'))"
      ]
     },
     "execution_count": 100,
     "metadata": {},
     "output_type": "execute_result"
    }
   ],
   "source": [
    "min(weather.index), max(weather.index)"
   ]
  },
  {
   "cell_type": "code",
   "execution_count": 101,
   "id": "6f078b77-dd9a-44b2-81e4-30a1a9ed4c54",
   "metadata": {},
   "outputs": [],
   "source": [
    "daily = fremont.resample('D').sum()\n",
    "daily['Total'] = daily.sum(axis=1)"
   ]
  },
  {
   "cell_type": "code",
   "execution_count": 102,
   "id": "e46aac17-4560-41ab-b45f-fbeb75330f70",
   "metadata": {},
   "outputs": [
    {
     "data": {
      "text/html": [
       "<div>\n",
       "<style scoped>\n",
       "    .dataframe tbody tr th:only-of-type {\n",
       "        vertical-align: middle;\n",
       "    }\n",
       "\n",
       "    .dataframe tbody tr th {\n",
       "        vertical-align: top;\n",
       "    }\n",
       "\n",
       "    .dataframe thead th {\n",
       "        text-align: right;\n",
       "    }\n",
       "</style>\n",
       "<table border=\"1\" class=\"dataframe\">\n",
       "  <thead>\n",
       "    <tr style=\"text-align: right;\">\n",
       "      <th></th>\n",
       "      <th>West</th>\n",
       "      <th>East</th>\n",
       "      <th>Total</th>\n",
       "    </tr>\n",
       "    <tr>\n",
       "      <th>Date</th>\n",
       "      <th></th>\n",
       "      <th></th>\n",
       "      <th></th>\n",
       "    </tr>\n",
       "  </thead>\n",
       "  <tbody>\n",
       "    <tr>\n",
       "      <th>2012-10-03</th>\n",
       "      <td>1760.0</td>\n",
       "      <td>1761.0</td>\n",
       "      <td>3521.0</td>\n",
       "    </tr>\n",
       "    <tr>\n",
       "      <th>2012-10-04</th>\n",
       "      <td>1708.0</td>\n",
       "      <td>1767.0</td>\n",
       "      <td>3475.0</td>\n",
       "    </tr>\n",
       "    <tr>\n",
       "      <th>2012-10-05</th>\n",
       "      <td>1558.0</td>\n",
       "      <td>1590.0</td>\n",
       "      <td>3148.0</td>\n",
       "    </tr>\n",
       "    <tr>\n",
       "      <th>2012-10-06</th>\n",
       "      <td>1080.0</td>\n",
       "      <td>926.0</td>\n",
       "      <td>2006.0</td>\n",
       "    </tr>\n",
       "    <tr>\n",
       "      <th>2012-10-07</th>\n",
       "      <td>1191.0</td>\n",
       "      <td>951.0</td>\n",
       "      <td>2142.0</td>\n",
       "    </tr>\n",
       "  </tbody>\n",
       "</table>\n",
       "</div>"
      ],
      "text/plain": [
       "              West    East   Total\n",
       "Date                              \n",
       "2012-10-03  1760.0  1761.0  3521.0\n",
       "2012-10-04  1708.0  1767.0  3475.0\n",
       "2012-10-05  1558.0  1590.0  3148.0\n",
       "2012-10-06  1080.0   926.0  2006.0\n",
       "2012-10-07  1191.0   951.0  2142.0"
      ]
     },
     "execution_count": 102,
     "metadata": {},
     "output_type": "execute_result"
    }
   ],
   "source": [
    "daily.head()"
   ]
  },
  {
   "cell_type": "code",
   "execution_count": 103,
   "id": "ef78300f-cda8-4bc8-816d-4360e78c0ea8",
   "metadata": {},
   "outputs": [],
   "source": [
    "days = ['Mon', 'Tue', 'Wed', 'Thu', 'Fri', 'Sat', 'Sun']\n",
    "for i in range(7):\n",
    "    daily[days[i]] = (daily.index.dayofweek == i).astype(float) # вводім новый признак. день недели."
   ]
  },
  {
   "cell_type": "code",
   "execution_count": 104,
   "id": "b748046d-d726-42b2-a042-00691cd37586",
   "metadata": {},
   "outputs": [],
   "source": [
    "daily.drop(columns=[\"West\", \"East\"], inplace=True)"
   ]
  },
  {
   "cell_type": "code",
   "execution_count": 105,
   "id": "3277aa27-856d-4aa8-8fa9-b24bfea14fee",
   "metadata": {},
   "outputs": [
    {
     "data": {
      "text/html": [
       "<div>\n",
       "<style scoped>\n",
       "    .dataframe tbody tr th:only-of-type {\n",
       "        vertical-align: middle;\n",
       "    }\n",
       "\n",
       "    .dataframe tbody tr th {\n",
       "        vertical-align: top;\n",
       "    }\n",
       "\n",
       "    .dataframe thead th {\n",
       "        text-align: right;\n",
       "    }\n",
       "</style>\n",
       "<table border=\"1\" class=\"dataframe\">\n",
       "  <thead>\n",
       "    <tr style=\"text-align: right;\">\n",
       "      <th></th>\n",
       "      <th>Total</th>\n",
       "      <th>Mon</th>\n",
       "      <th>Tue</th>\n",
       "      <th>Wed</th>\n",
       "      <th>Thu</th>\n",
       "      <th>Fri</th>\n",
       "      <th>Sat</th>\n",
       "      <th>Sun</th>\n",
       "    </tr>\n",
       "    <tr>\n",
       "      <th>Date</th>\n",
       "      <th></th>\n",
       "      <th></th>\n",
       "      <th></th>\n",
       "      <th></th>\n",
       "      <th></th>\n",
       "      <th></th>\n",
       "      <th></th>\n",
       "      <th></th>\n",
       "    </tr>\n",
       "  </thead>\n",
       "  <tbody>\n",
       "    <tr>\n",
       "      <th>2012-10-03</th>\n",
       "      <td>3521.0</td>\n",
       "      <td>0.0</td>\n",
       "      <td>0.0</td>\n",
       "      <td>1.0</td>\n",
       "      <td>0.0</td>\n",
       "      <td>0.0</td>\n",
       "      <td>0.0</td>\n",
       "      <td>0.0</td>\n",
       "    </tr>\n",
       "    <tr>\n",
       "      <th>2012-10-04</th>\n",
       "      <td>3475.0</td>\n",
       "      <td>0.0</td>\n",
       "      <td>0.0</td>\n",
       "      <td>0.0</td>\n",
       "      <td>1.0</td>\n",
       "      <td>0.0</td>\n",
       "      <td>0.0</td>\n",
       "      <td>0.0</td>\n",
       "    </tr>\n",
       "    <tr>\n",
       "      <th>2012-10-05</th>\n",
       "      <td>3148.0</td>\n",
       "      <td>0.0</td>\n",
       "      <td>0.0</td>\n",
       "      <td>0.0</td>\n",
       "      <td>0.0</td>\n",
       "      <td>1.0</td>\n",
       "      <td>0.0</td>\n",
       "      <td>0.0</td>\n",
       "    </tr>\n",
       "    <tr>\n",
       "      <th>2012-10-06</th>\n",
       "      <td>2006.0</td>\n",
       "      <td>0.0</td>\n",
       "      <td>0.0</td>\n",
       "      <td>0.0</td>\n",
       "      <td>0.0</td>\n",
       "      <td>0.0</td>\n",
       "      <td>1.0</td>\n",
       "      <td>0.0</td>\n",
       "    </tr>\n",
       "    <tr>\n",
       "      <th>2012-10-07</th>\n",
       "      <td>2142.0</td>\n",
       "      <td>0.0</td>\n",
       "      <td>0.0</td>\n",
       "      <td>0.0</td>\n",
       "      <td>0.0</td>\n",
       "      <td>0.0</td>\n",
       "      <td>0.0</td>\n",
       "      <td>1.0</td>\n",
       "    </tr>\n",
       "  </tbody>\n",
       "</table>\n",
       "</div>"
      ],
      "text/plain": [
       "             Total  Mon  Tue  Wed  Thu  Fri  Sat  Sun\n",
       "Date                                                 \n",
       "2012-10-03  3521.0  0.0  0.0  1.0  0.0  0.0  0.0  0.0\n",
       "2012-10-04  3475.0  0.0  0.0  0.0  1.0  0.0  0.0  0.0\n",
       "2012-10-05  3148.0  0.0  0.0  0.0  0.0  1.0  0.0  0.0\n",
       "2012-10-06  2006.0  0.0  0.0  0.0  0.0  0.0  1.0  0.0\n",
       "2012-10-07  2142.0  0.0  0.0  0.0  0.0  0.0  0.0  1.0"
      ]
     },
     "execution_count": 105,
     "metadata": {},
     "output_type": "execute_result"
    }
   ],
   "source": [
    "daily.head()"
   ]
  },
  {
   "cell_type": "code",
   "execution_count": 106,
   "id": "e41bb6ea-846a-4853-ab5c-ff7c241db1ad",
   "metadata": {},
   "outputs": [],
   "source": [
    "from pandas.tseries.holiday import USFederalHolidayCalendar\n",
    "cal = USFederalHolidayCalendar()\n",
    "holidays = cal.holidays('2012', '2016')\n",
    "daily = daily.join(pd.Series(1, index=holidays, name='holiday'))\n",
    "daily['holiday'].fillna(0, inplace=True)"
   ]
  },
  {
   "cell_type": "code",
   "execution_count": 107,
   "id": "1b1da935-2d1e-4958-ac9b-28ecaeebd890",
   "metadata": {},
   "outputs": [
    {
     "data": {
      "text/html": [
       "<div>\n",
       "<style scoped>\n",
       "    .dataframe tbody tr th:only-of-type {\n",
       "        vertical-align: middle;\n",
       "    }\n",
       "\n",
       "    .dataframe tbody tr th {\n",
       "        vertical-align: top;\n",
       "    }\n",
       "\n",
       "    .dataframe thead th {\n",
       "        text-align: right;\n",
       "    }\n",
       "</style>\n",
       "<table border=\"1\" class=\"dataframe\">\n",
       "  <thead>\n",
       "    <tr style=\"text-align: right;\">\n",
       "      <th></th>\n",
       "      <th>Total</th>\n",
       "      <th>Mon</th>\n",
       "      <th>Tue</th>\n",
       "      <th>Wed</th>\n",
       "      <th>Thu</th>\n",
       "      <th>Fri</th>\n",
       "      <th>Sat</th>\n",
       "      <th>Sun</th>\n",
       "      <th>holiday</th>\n",
       "    </tr>\n",
       "    <tr>\n",
       "      <th>Date</th>\n",
       "      <th></th>\n",
       "      <th></th>\n",
       "      <th></th>\n",
       "      <th></th>\n",
       "      <th></th>\n",
       "      <th></th>\n",
       "      <th></th>\n",
       "      <th></th>\n",
       "      <th></th>\n",
       "    </tr>\n",
       "  </thead>\n",
       "  <tbody>\n",
       "    <tr>\n",
       "      <th>2012-10-03</th>\n",
       "      <td>3521.0</td>\n",
       "      <td>0.0</td>\n",
       "      <td>0.0</td>\n",
       "      <td>1.0</td>\n",
       "      <td>0.0</td>\n",
       "      <td>0.0</td>\n",
       "      <td>0.0</td>\n",
       "      <td>0.0</td>\n",
       "      <td>0.0</td>\n",
       "    </tr>\n",
       "    <tr>\n",
       "      <th>2012-10-04</th>\n",
       "      <td>3475.0</td>\n",
       "      <td>0.0</td>\n",
       "      <td>0.0</td>\n",
       "      <td>0.0</td>\n",
       "      <td>1.0</td>\n",
       "      <td>0.0</td>\n",
       "      <td>0.0</td>\n",
       "      <td>0.0</td>\n",
       "      <td>0.0</td>\n",
       "    </tr>\n",
       "    <tr>\n",
       "      <th>2012-10-05</th>\n",
       "      <td>3148.0</td>\n",
       "      <td>0.0</td>\n",
       "      <td>0.0</td>\n",
       "      <td>0.0</td>\n",
       "      <td>0.0</td>\n",
       "      <td>1.0</td>\n",
       "      <td>0.0</td>\n",
       "      <td>0.0</td>\n",
       "      <td>0.0</td>\n",
       "    </tr>\n",
       "    <tr>\n",
       "      <th>2012-10-06</th>\n",
       "      <td>2006.0</td>\n",
       "      <td>0.0</td>\n",
       "      <td>0.0</td>\n",
       "      <td>0.0</td>\n",
       "      <td>0.0</td>\n",
       "      <td>0.0</td>\n",
       "      <td>1.0</td>\n",
       "      <td>0.0</td>\n",
       "      <td>0.0</td>\n",
       "    </tr>\n",
       "    <tr>\n",
       "      <th>2012-10-07</th>\n",
       "      <td>2142.0</td>\n",
       "      <td>0.0</td>\n",
       "      <td>0.0</td>\n",
       "      <td>0.0</td>\n",
       "      <td>0.0</td>\n",
       "      <td>0.0</td>\n",
       "      <td>0.0</td>\n",
       "      <td>1.0</td>\n",
       "      <td>0.0</td>\n",
       "    </tr>\n",
       "  </tbody>\n",
       "</table>\n",
       "</div>"
      ],
      "text/plain": [
       "             Total  Mon  Tue  Wed  Thu  Fri  Sat  Sun  holiday\n",
       "Date                                                          \n",
       "2012-10-03  3521.0  0.0  0.0  1.0  0.0  0.0  0.0  0.0      0.0\n",
       "2012-10-04  3475.0  0.0  0.0  0.0  1.0  0.0  0.0  0.0      0.0\n",
       "2012-10-05  3148.0  0.0  0.0  0.0  0.0  1.0  0.0  0.0      0.0\n",
       "2012-10-06  2006.0  0.0  0.0  0.0  0.0  0.0  1.0  0.0      0.0\n",
       "2012-10-07  2142.0  0.0  0.0  0.0  0.0  0.0  0.0  1.0      0.0"
      ]
     },
     "execution_count": 107,
     "metadata": {},
     "output_type": "execute_result"
    }
   ],
   "source": [
    "daily.head()"
   ]
  },
  {
   "cell_type": "code",
   "execution_count": 108,
   "id": "e9316e4d-08f2-43e7-8108-9cf732cca10c",
   "metadata": {},
   "outputs": [
    {
     "data": {
      "image/png": "[encoded data removed]",
      "text/plain": [
       "<Figure size 640x480 with 1 Axes>"
      ]
     },
     "metadata": {},
     "output_type": "display_data"
    }
   ],
   "source": [
    "def hours_of_daylight(date, axis=23.44, latitude=47.61):\n",
    "    \"\"\"Compute the hours of daylight for the given date\"\"\"\n",
    "    days = (date - pd.datetime(2000, 12, 21)).days\n",
    "    m = (1. - np.tan(np.radians(latitude))\n",
    "         * np.tan(np.radians(axis) * np.cos(days * 2 * np.pi / 365.25)))\n",
    "    return 24. * np.degrees(np.arccos(1 - np.clip(m, 0, 2))) / 180.\n",
    "\n",
    "daily['daylight_hrs'] = list(map(hours_of_daylight, daily.index))  # добавляем данные о длине светового дня\n",
    "daily[['daylight_hrs']].plot()\n",
    "plt.ylim(8, 17)\n",
    "plt.show()"
   ]
  },
  {
   "cell_type": "code",
   "execution_count": 109,
   "id": "5709acbc-8f22-449c-a92a-9bb8d21755d2",
   "metadata": {},
   "outputs": [],
   "source": [
    "weather['TMIN'] /= 10\n",
    "weather['TMAX'] /= 10\n",
    "weather['Temp (C)'] = 0.5 * (weather['TMIN'] + weather['TMAX'])\n",
    "\n",
    "weather['PRCP'] /= 254\n",
    "weather['dry day'] = (weather['PRCP'] == 0).astype(int)"
   ]
  },
  {
   "cell_type": "code",
   "execution_count": 110,
   "id": "62c942da-53b3-4bdb-bfb3-92af26532b46",
   "metadata": {},
   "outputs": [
    {
     "data": {
      "text/html": [
       "<div>\n",
       "<style scoped>\n",
       "    .dataframe tbody tr th:only-of-type {\n",
       "        vertical-align: middle;\n",
       "    }\n",
       "\n",
       "    .dataframe tbody tr th {\n",
       "        vertical-align: top;\n",
       "    }\n",
       "\n",
       "    .dataframe thead th {\n",
       "        text-align: right;\n",
       "    }\n",
       "</style>\n",
       "<table border=\"1\" class=\"dataframe\">\n",
       "  <thead>\n",
       "    <tr style=\"text-align: right;\">\n",
       "      <th></th>\n",
       "      <th>TMIN</th>\n",
       "      <th>TMAX</th>\n",
       "    </tr>\n",
       "  </thead>\n",
       "  <tbody>\n",
       "    <tr>\n",
       "      <th>count</th>\n",
       "      <td>1340.000000</td>\n",
       "      <td>1340.000000</td>\n",
       "    </tr>\n",
       "    <tr>\n",
       "      <th>mean</th>\n",
       "      <td>8.324925</td>\n",
       "      <td>16.667239</td>\n",
       "    </tr>\n",
       "    <tr>\n",
       "      <th>std</th>\n",
       "      <td>5.056333</td>\n",
       "      <td>7.433165</td>\n",
       "    </tr>\n",
       "    <tr>\n",
       "      <th>min</th>\n",
       "      <td>-7.100000</td>\n",
       "      <td>-1.600000</td>\n",
       "    </tr>\n",
       "    <tr>\n",
       "      <th>25%</th>\n",
       "      <td>4.400000</td>\n",
       "      <td>11.100000</td>\n",
       "    </tr>\n",
       "    <tr>\n",
       "      <th>50%</th>\n",
       "      <td>8.300000</td>\n",
       "      <td>15.600000</td>\n",
       "    </tr>\n",
       "    <tr>\n",
       "      <th>75%</th>\n",
       "      <td>12.200000</td>\n",
       "      <td>22.200000</td>\n",
       "    </tr>\n",
       "    <tr>\n",
       "      <th>max</th>\n",
       "      <td>18.300000</td>\n",
       "      <td>35.600000</td>\n",
       "    </tr>\n",
       "  </tbody>\n",
       "</table>\n",
       "</div>"
      ],
      "text/plain": [
       "              TMIN         TMAX\n",
       "count  1340.000000  1340.000000\n",
       "mean      8.324925    16.667239\n",
       "std       5.056333     7.433165\n",
       "min      -7.100000    -1.600000\n",
       "25%       4.400000    11.100000\n",
       "50%       8.300000    15.600000\n",
       "75%      12.200000    22.200000\n",
       "max      18.300000    35.600000"
      ]
     },
     "execution_count": 110,
     "metadata": {},
     "output_type": "execute_result"
    }
   ],
   "source": [
    "weather[[\"TMIN\", \"TMAX\"]].describe()"
   ]
  },
  {
   "cell_type": "markdown",
   "id": "05d2b8bb-6649-4df2-b668-0df102d9edf7",
   "metadata": {},
   "source": [
    "    What's The Average High Temp in Oregon?\t63.1 °F -- 17.27778 (C)\n",
    "    What's the Average Low in Oregon? 35 °F -- 1.66667 (C)\n",
    "    What's the Average Temperature in Oregon? 49.05 °F -- 9.4722222 (C)"
   ]
  },
  {
   "cell_type": "code",
   "execution_count": 111,
   "id": "a423c31f-c641-478f-b560-fe470f3fd6a7",
   "metadata": {},
   "outputs": [
    {
     "data": {
      "text/plain": [
       "715"
      ]
     },
     "execution_count": 111,
     "metadata": {},
     "output_type": "execute_result"
    }
   ],
   "source": [
    "((weather[\"TMIN\"] > 2) & (weather[\"TMAX\"] < 20)).sum()"
   ]
  },
  {
   "cell_type": "code",
   "execution_count": 112,
   "id": "7dec696c-d817-40ac-859e-031e3b95c837",
   "metadata": {},
   "outputs": [],
   "source": [
    "weather[\"is_comfortable_T\"] = ((weather[\"TMIN\"] > 2) & (weather[\"TMAX\"] < 20)).astype(int)"
   ]
  },
  {
   "cell_type": "code",
   "execution_count": 113,
   "id": "5a1b336d-acd7-4e54-a90f-9e17a9fab990",
   "metadata": {},
   "outputs": [
    {
     "data": {
      "text/plain": [
       "count    1340.000000\n",
       "mean             inf\n",
       "std              NaN\n",
       "min        -5.090909\n",
       "25%         1.241379\n",
       "50%         1.322751\n",
       "75%         1.428216\n",
       "max              inf\n",
       "dtype: float64"
      ]
     },
     "execution_count": 113,
     "metadata": {},
     "output_type": "execute_result"
    }
   ],
   "source": [
    "(weather[\"TMAX\"] / weather[\"Temp (C)\"]).describe()"
   ]
  },
  {
   "cell_type": "code",
   "execution_count": 114,
   "id": "a1d60b0a-0d5c-4df0-9243-f0cdca06890e",
   "metadata": {},
   "outputs": [
    {
     "data": {
      "text/plain": [
       "count    1340.000000\n",
       "mean        8.342313\n",
       "std         3.863172\n",
       "min         0.600000\n",
       "25%         5.500000\n",
       "50%         7.800000\n",
       "75%        11.100000\n",
       "max        18.900000\n",
       "dtype: float64"
      ]
     },
     "execution_count": 114,
     "metadata": {},
     "output_type": "execute_result"
    }
   ],
   "source": [
    "(weather[\"TMAX\"] - weather[\"TMIN\"]).describe()"
   ]
  },
  {
   "cell_type": "code",
   "execution_count": 115,
   "id": "81e9ac94-349a-42f7-a255-aa7399812522",
   "metadata": {},
   "outputs": [],
   "source": [
    "daily[\"is_weekend\"] = daily[[\"Sat\", \"Sun\"]].sum(axis=1)"
   ]
  },
  {
   "cell_type": "code",
   "execution_count": 116,
   "id": "67010fc4-08e1-485b-a392-880feec8bfe1",
   "metadata": {},
   "outputs": [
    {
     "data": {
      "text/plain": [
       "(1916, 11)"
      ]
     },
     "execution_count": 116,
     "metadata": {},
     "output_type": "execute_result"
    }
   ],
   "source": [
    "daily.shape"
   ]
  },
  {
   "cell_type": "code",
   "execution_count": 117,
   "id": "952fda11-36e7-4f0f-82a0-744f8994e6ac",
   "metadata": {},
   "outputs": [
    {
     "data": {
      "text/plain": [
       "(1340, 28)"
      ]
     },
     "execution_count": 117,
     "metadata": {},
     "output_type": "execute_result"
    }
   ],
   "source": [
    "weather.shape"
   ]
  },
  {
   "cell_type": "code",
   "execution_count": 118,
   "id": "ecc26441-da16-461d-adef-139e936f8651",
   "metadata": {
    "tags": []
   },
   "outputs": [],
   "source": [
    "daily = daily.join(weather[['PRCP', 'TMIN', 'TMAX', 'dry day', 'is_comfortable_T']])"
   ]
  },
  {
   "cell_type": "code",
   "execution_count": 119,
   "id": "46589064-6706-417b-8220-5241c34c1d07",
   "metadata": {},
   "outputs": [],
   "source": [
    "daily['annual'] = (daily.index - daily.index[0]).days / 365."
   ]
  },
  {
   "cell_type": "code",
   "execution_count": 120,
   "id": "eb3993cb-a67e-4361-a80d-6f6242a9d28c",
   "metadata": {},
   "outputs": [
    {
     "data": {
      "text/html": [
       "<div>\n",
       "<style scoped>\n",
       "    .dataframe tbody tr th:only-of-type {\n",
       "        vertical-align: middle;\n",
       "    }\n",
       "\n",
       "    .dataframe tbody tr th {\n",
       "        vertical-align: top;\n",
       "    }\n",
       "\n",
       "    .dataframe thead th {\n",
       "        text-align: right;\n",
       "    }\n",
       "</style>\n",
       "<table border=\"1\" class=\"dataframe\">\n",
       "  <thead>\n",
       "    <tr style=\"text-align: right;\">\n",
       "      <th></th>\n",
       "      <th>Total</th>\n",
       "      <th>Mon</th>\n",
       "      <th>Tue</th>\n",
       "      <th>Wed</th>\n",
       "      <th>Thu</th>\n",
       "      <th>Fri</th>\n",
       "      <th>Sat</th>\n",
       "      <th>Sun</th>\n",
       "      <th>holiday</th>\n",
       "      <th>daylight_hrs</th>\n",
       "      <th>is_weekend</th>\n",
       "      <th>PRCP</th>\n",
       "      <th>TMIN</th>\n",
       "      <th>TMAX</th>\n",
       "      <th>dry day</th>\n",
       "      <th>is_comfortable_T</th>\n",
       "      <th>annual</th>\n",
       "    </tr>\n",
       "    <tr>\n",
       "      <th>Date</th>\n",
       "      <th></th>\n",
       "      <th></th>\n",
       "      <th></th>\n",
       "      <th></th>\n",
       "      <th></th>\n",
       "      <th></th>\n",
       "      <th></th>\n",
       "      <th></th>\n",
       "      <th></th>\n",
       "      <th></th>\n",
       "      <th></th>\n",
       "      <th></th>\n",
       "      <th></th>\n",
       "      <th></th>\n",
       "      <th></th>\n",
       "      <th></th>\n",
       "      <th></th>\n",
       "    </tr>\n",
       "  </thead>\n",
       "  <tbody>\n",
       "    <tr>\n",
       "      <th>2012-10-03</th>\n",
       "      <td>3521.0</td>\n",
       "      <td>0.0</td>\n",
       "      <td>0.0</td>\n",
       "      <td>1.0</td>\n",
       "      <td>0.0</td>\n",
       "      <td>0.0</td>\n",
       "      <td>0.0</td>\n",
       "      <td>0.0</td>\n",
       "      <td>0.0</td>\n",
       "      <td>11.277359</td>\n",
       "      <td>0.0</td>\n",
       "      <td>0.0</td>\n",
       "      <td>7.8</td>\n",
       "      <td>18.9</td>\n",
       "      <td>1.0</td>\n",
       "      <td>1.0</td>\n",
       "      <td>0.000000</td>\n",
       "    </tr>\n",
       "    <tr>\n",
       "      <th>2012-10-04</th>\n",
       "      <td>3475.0</td>\n",
       "      <td>0.0</td>\n",
       "      <td>0.0</td>\n",
       "      <td>0.0</td>\n",
       "      <td>1.0</td>\n",
       "      <td>0.0</td>\n",
       "      <td>0.0</td>\n",
       "      <td>0.0</td>\n",
       "      <td>0.0</td>\n",
       "      <td>11.219142</td>\n",
       "      <td>0.0</td>\n",
       "      <td>0.0</td>\n",
       "      <td>8.3</td>\n",
       "      <td>18.9</td>\n",
       "      <td>1.0</td>\n",
       "      <td>1.0</td>\n",
       "      <td>0.002740</td>\n",
       "    </tr>\n",
       "    <tr>\n",
       "      <th>2012-10-05</th>\n",
       "      <td>3148.0</td>\n",
       "      <td>0.0</td>\n",
       "      <td>0.0</td>\n",
       "      <td>0.0</td>\n",
       "      <td>0.0</td>\n",
       "      <td>1.0</td>\n",
       "      <td>0.0</td>\n",
       "      <td>0.0</td>\n",
       "      <td>0.0</td>\n",
       "      <td>11.161038</td>\n",
       "      <td>0.0</td>\n",
       "      <td>0.0</td>\n",
       "      <td>8.9</td>\n",
       "      <td>21.7</td>\n",
       "      <td>1.0</td>\n",
       "      <td>0.0</td>\n",
       "      <td>0.005479</td>\n",
       "    </tr>\n",
       "    <tr>\n",
       "      <th>2012-10-06</th>\n",
       "      <td>2006.0</td>\n",
       "      <td>0.0</td>\n",
       "      <td>0.0</td>\n",
       "      <td>0.0</td>\n",
       "      <td>0.0</td>\n",
       "      <td>0.0</td>\n",
       "      <td>1.0</td>\n",
       "      <td>0.0</td>\n",
       "      <td>0.0</td>\n",
       "      <td>11.103056</td>\n",
       "      <td>1.0</td>\n",
       "      <td>0.0</td>\n",
       "      <td>7.8</td>\n",
       "      <td>23.9</td>\n",
       "      <td>1.0</td>\n",
       "      <td>0.0</td>\n",
       "      <td>0.008219</td>\n",
       "    </tr>\n",
       "    <tr>\n",
       "      <th>2012-10-07</th>\n",
       "      <td>2142.0</td>\n",
       "      <td>0.0</td>\n",
       "      <td>0.0</td>\n",
       "      <td>0.0</td>\n",
       "      <td>0.0</td>\n",
       "      <td>0.0</td>\n",
       "      <td>0.0</td>\n",
       "      <td>1.0</td>\n",
       "      <td>0.0</td>\n",
       "      <td>11.045208</td>\n",
       "      <td>1.0</td>\n",
       "      <td>0.0</td>\n",
       "      <td>7.8</td>\n",
       "      <td>23.9</td>\n",
       "      <td>1.0</td>\n",
       "      <td>0.0</td>\n",
       "      <td>0.010959</td>\n",
       "    </tr>\n",
       "  </tbody>\n",
       "</table>\n",
       "</div>"
      ],
      "text/plain": [
       "             Total  Mon  Tue  Wed  Thu  Fri  Sat  Sun  holiday  daylight_hrs  \\\n",
       "Date                                                                           \n",
       "2012-10-03  3521.0  0.0  0.0  1.0  0.0  0.0  0.0  0.0      0.0     11.277359   \n",
       "2012-10-04  3475.0  0.0  0.0  0.0  1.0  0.0  0.0  0.0      0.0     11.219142   \n",
       "2012-10-05  3148.0  0.0  0.0  0.0  0.0  1.0  0.0  0.0      0.0     11.161038   \n",
       "2012-10-06  2006.0  0.0  0.0  0.0  0.0  0.0  1.0  0.0      0.0     11.103056   \n",
       "2012-10-07  2142.0  0.0  0.0  0.0  0.0  0.0  0.0  1.0      0.0     11.045208   \n",
       "\n",
       "            is_weekend  PRCP  TMIN  TMAX  dry day  is_comfortable_T    annual  \n",
       "Date                                                                           \n",
       "2012-10-03         0.0   0.0   7.8  18.9      1.0               1.0  0.000000  \n",
       "2012-10-04         0.0   0.0   8.3  18.9      1.0               1.0  0.002740  \n",
       "2012-10-05         0.0   0.0   8.9  21.7      1.0               0.0  0.005479  \n",
       "2012-10-06         1.0   0.0   7.8  23.9      1.0               0.0  0.008219  \n",
       "2012-10-07         1.0   0.0   7.8  23.9      1.0               0.0  0.010959  "
      ]
     },
     "execution_count": 120,
     "metadata": {},
     "output_type": "execute_result"
    }
   ],
   "source": [
    "daily.head()"
   ]
  },
  {
   "cell_type": "code",
   "execution_count": 121,
   "id": "1872e266-2f7f-4ab1-8497-475fd589436b",
   "metadata": {},
   "outputs": [
    {
     "data": {
      "text/plain": [
       "(1916, 17)"
      ]
     },
     "execution_count": 121,
     "metadata": {},
     "output_type": "execute_result"
    }
   ],
   "source": [
    "daily.shape"
   ]
  },
  {
   "cell_type": "code",
   "execution_count": 122,
   "id": "441189c2-77ba-4525-a047-d2fc12971a27",
   "metadata": {},
   "outputs": [
    {
     "data": {
      "text/plain": [
       "Total                 0\n",
       "Mon                   0\n",
       "Tue                   0\n",
       "Wed                   0\n",
       "Thu                   0\n",
       "Fri                   0\n",
       "Sat                   0\n",
       "Sun                   0\n",
       "holiday               0\n",
       "daylight_hrs          0\n",
       "is_weekend            0\n",
       "PRCP                852\n",
       "TMIN                852\n",
       "TMAX                852\n",
       "dry day             852\n",
       "is_comfortable_T    852\n",
       "annual                0\n",
       "dtype: int64"
      ]
     },
     "execution_count": 122,
     "metadata": {},
     "output_type": "execute_result"
    }
   ],
   "source": [
    "daily.isna().sum()"
   ]
  },
  {
   "cell_type": "code",
   "execution_count": 123,
   "id": "c9090b80-04c4-4128-9ac1-736620dd15db",
   "metadata": {},
   "outputs": [],
   "source": [
    "daily = daily[~daily.PRCP.isna()]"
   ]
  },
  {
   "cell_type": "code",
   "execution_count": 124,
   "id": "00c78465-08e6-48bf-809a-ac7e69e5ec0b",
   "metadata": {},
   "outputs": [
    {
     "data": {
      "text/plain": [
       "(1064, 17)"
      ]
     },
     "execution_count": 124,
     "metadata": {},
     "output_type": "execute_result"
    }
   ],
   "source": [
    "daily.shape"
   ]
  },
  {
   "cell_type": "code",
   "execution_count": 125,
   "id": "774d0dbf-4ca5-4344-bc03-c60545e62b3e",
   "metadata": {},
   "outputs": [],
   "source": [
    "target = 'Total'"
   ]
  },
  {
   "cell_type": "code",
   "execution_count": 126,
   "id": "f4aee4d0-586f-4c1b-8b6e-72f7ebee977b",
   "metadata": {},
   "outputs": [],
   "source": [
    "y = daily[target]\n",
    "X = daily[daily.columns[~daily.columns.isin([target])]]"
   ]
  },
  {
   "cell_type": "code",
   "execution_count": 127,
   "id": "c34728f7-bc26-467e-8286-00dff1de2da7",
   "metadata": {},
   "outputs": [],
   "source": [
    "X_train , X_test , y_train , y_test = train_test_split(X, y, test_size=0.2,random_state=42)"
   ]
  },
  {
   "cell_type": "code",
   "execution_count": 128,
   "id": "b5d57735-1a89-466a-a0d6-4b0b8600ad2d",
   "metadata": {},
   "outputs": [
    {
     "data": {
      "text/plain": [
       "((851, 16), (213, 16), (851,), (213,))"
      ]
     },
     "execution_count": 128,
     "metadata": {},
     "output_type": "execute_result"
    }
   ],
   "source": [
    "X_train.shape , X_test.shape , y_train.shape , y_test.shape"
   ]
  },
  {
   "cell_type": "code",
   "execution_count": 129,
   "id": "26a086fa-37b8-4a3c-99b9-1e2022730679",
   "metadata": {},
   "outputs": [],
   "source": [
    "linear_model = LinearRegression()"
   ]
  },
  {
   "cell_type": "code",
   "execution_count": 130,
   "id": "441ea0cd-9b4f-4803-bc90-142d7fddfb9f",
   "metadata": {},
   "outputs": [
    {
     "data": {
      "text/plain": [
       "LinearRegression()"
      ]
     },
     "execution_count": 130,
     "metadata": {},
     "output_type": "execute_result"
    }
   ],
   "source": [
    "linear_model.fit(X_train, y_train)"
   ]
  },
  {
   "cell_type": "code",
   "execution_count": 131,
   "id": "f775f0f2-80e5-401b-9681-338b4b16da72",
   "metadata": {},
   "outputs": [
    {
     "data": {
      "text/plain": [
       "0.8768320002596995"
      ]
     },
     "execution_count": 131,
     "metadata": {},
     "output_type": "execute_result"
    }
   ],
   "source": [
    "linear_model.score(X_train, y_train)"
   ]
  },
  {
   "cell_type": "code",
   "execution_count": 132,
   "id": "35809e88-372f-4e7f-a98f-49c88b627e4b",
   "metadata": {},
   "outputs": [
    {
     "data": {
      "text/plain": [
       "0.8943717048603778"
      ]
     },
     "execution_count": 132,
     "metadata": {},
     "output_type": "execute_result"
    }
   ],
   "source": [
    "linear_model.score(X_test, y_test)"
   ]
  },
  {
   "cell_type": "code",
   "execution_count": 133,
   "id": "7a5ecb14-48dc-413f-b419-89cd48f3c4dd",
   "metadata": {},
   "outputs": [],
   "source": [
    "from sklearn.linear_model import Ridge, Lasso"
   ]
  },
  {
   "cell_type": "code",
   "execution_count": 134,
   "id": "a2224f0d-c1bb-4580-beb5-731a33c55fa8",
   "metadata": {},
   "outputs": [],
   "source": [
    "ridge_linear_model = Ridge(alpha=0.01)"
   ]
  },
  {
   "cell_type": "code",
   "execution_count": 135,
   "id": "7b10132c-ecb6-4ef9-b5ed-261132d5e5de",
   "metadata": {},
   "outputs": [
    {
     "name": "stdout",
     "output_type": "stream",
     "text": [
      "0.8768319949400747\n"
     ]
    },
    {
     "data": {
      "text/plain": [
       "0.894365902541392"
      ]
     },
     "execution_count": 135,
     "metadata": {},
     "output_type": "execute_result"
    }
   ],
   "source": [
    "ridge_linear_model.fit(X_train, y_train)\n",
    "print(ridge_linear_model.score(X_train, y_train))\n",
    "ridge_linear_model.score(X_test, y_test)"
   ]
  },
  {
   "cell_type": "code",
   "execution_count": null,
   "id": "dcc9c99d-e13c-4664-b631-ea3c490dae8d",
   "metadata": {},
   "outputs": [],
   "source": []
  },
  {
   "cell_type": "code",
   "execution_count": null,
   "id": "fdac1a2d-caf0-41ac-a464-3d6fe694d97f",
   "metadata": {},
   "outputs": [],
   "source": []
  },
  {
   "cell_type": "code",
   "execution_count": 136,
   "id": "f1414a17-ab8a-4632-8afd-4954c0961ebb",
   "metadata": {},
   "outputs": [],
   "source": [
    "X = X[X.columns[~X.columns.isin([\"Mon\",\"Tue\", \"Wed\",\"Thu\", \"Fri\", \"Sat\", \"Sun\"])]]"
   ]
  },
  {
   "cell_type": "code",
   "execution_count": 137,
   "id": "2f3a0c04-7bbd-43e2-85e8-52c76b25a1d6",
   "metadata": {},
   "outputs": [],
   "source": [
    "X_train , X_test , y_train , y_test = train_test_split(X, y, test_size=0.2,random_state=42)"
   ]
  },
  {
   "cell_type": "code",
   "execution_count": 138,
   "id": "47c071a5-1f34-4151-9d32-6ea82de1dac5",
   "metadata": {},
   "outputs": [
    {
     "data": {
      "text/plain": [
       "((851, 9), (213, 9), (851,), (213,))"
      ]
     },
     "execution_count": 138,
     "metadata": {},
     "output_type": "execute_result"
    }
   ],
   "source": [
    "X_train.shape , X_test.shape , y_train.shape , y_test.shape"
   ]
  },
  {
   "cell_type": "code",
   "execution_count": 139,
   "id": "6c01b277-b4fa-494e-b9eb-861050acba29",
   "metadata": {},
   "outputs": [],
   "source": [
    "linear_model = LinearRegression()"
   ]
  },
  {
   "cell_type": "code",
   "execution_count": 140,
   "id": "dc070086-c1dd-472a-b722-bb527a10f226",
   "metadata": {},
   "outputs": [
    {
     "data": {
      "text/plain": [
       "LinearRegression()"
      ]
     },
     "execution_count": 140,
     "metadata": {},
     "output_type": "execute_result"
    }
   ],
   "source": [
    "linear_model.fit(X_train, y_train)"
   ]
  },
  {
   "cell_type": "code",
   "execution_count": 141,
   "id": "e9a4b541-45d3-4047-b299-9691bc239a79",
   "metadata": {},
   "outputs": [
    {
     "data": {
      "text/plain": [
       "0.8665472594363541"
      ]
     },
     "execution_count": 141,
     "metadata": {},
     "output_type": "execute_result"
    }
   ],
   "source": [
    "linear_model.score(X_train, y_train)"
   ]
  },
  {
   "cell_type": "code",
   "execution_count": 142,
   "id": "8f1bf7bb-89fd-4bf4-9681-102a2cb2c2b7",
   "metadata": {},
   "outputs": [
    {
     "data": {
      "text/plain": [
       "0.8844751212600568"
      ]
     },
     "execution_count": 142,
     "metadata": {},
     "output_type": "execute_result"
    }
   ],
   "source": [
    "linear_model.score(X_test, y_test)"
   ]
  },
  {
   "cell_type": "code",
   "execution_count": 143,
   "id": "12ad455f-9233-4191-b142-484b5a7e2dd5",
   "metadata": {},
   "outputs": [],
   "source": [
    "ridge_linear_model = Ridge(alpha=0.03)"
   ]
  },
  {
   "cell_type": "code",
   "execution_count": 144,
   "id": "efc8ec92-742e-4551-9e5a-1daf1a63551c",
   "metadata": {},
   "outputs": [
    {
     "name": "stdout",
     "output_type": "stream",
     "text": [
      "0.866547206283127\n"
     ]
    },
    {
     "data": {
      "text/plain": [
       "0.8844564012495042"
      ]
     },
     "execution_count": 144,
     "metadata": {},
     "output_type": "execute_result"
    }
   ],
   "source": [
    "ridge_linear_model.fit(X_train, y_train)\n",
    "print(ridge_linear_model.score(X_train, y_train))\n",
    "ridge_linear_model.score(X_test, y_test)"
   ]
  },
  {
   "cell_type": "code",
   "execution_count": null,
   "id": "cd080d20-90bb-43dd-873b-129bd70dd96c",
   "metadata": {},
   "outputs": [],
   "source": []
  },
  {
   "cell_type": "code",
   "execution_count": null,
   "id": "cbcf85d6-6bca-49ff-a972-9f2359ec3c05",
   "metadata": {},
   "outputs": [],
   "source": []
  }
 ],
 "metadata": {
  "kernelspec": {
   "display_name": "Python 3",
   "language": "python",
   "name": "python3"
  },
  "language_info": {
   "codemirror_mode": {
    "name": "ipython",
    "version": 3
   },
   "file_extension": ".py",
   "mimetype": "text/x-python",
   "name": "python",
   "nbconvert_exporter": "python",
   "pygments_lexer": "ipython3",
   "version": "3.8.5"
  }
 },
 "nbformat": 4,
 "nbformat_minor": 5
}
