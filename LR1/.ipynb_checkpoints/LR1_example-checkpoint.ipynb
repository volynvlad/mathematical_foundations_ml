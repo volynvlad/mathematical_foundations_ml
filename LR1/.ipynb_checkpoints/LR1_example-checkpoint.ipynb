{
 "cells": [
  {
   "cell_type": "markdown",
   "id": "dd85d789",
   "metadata": {},
   "source": [
    "# Полиномиальная регрессия"
   ]
  },
  {
   "cell_type": "markdown",
   "id": "84a450cc",
   "metadata": {},
   "source": [
    "## Стандартный базис"
   ]
  },
  {
   "cell_type": "code",
   "execution_count": null,
   "id": "e4f2ea1a",
   "metadata": {},
   "outputs": [],
   "source": [
    "import numpy as np;\n",
    "from sklearn.preprocessing import PolynomialFeatures\n",
    "x = np.array([2, 3, 4])\n",
    "poly = PolynomialFeatures(3, include_bias=False) #подготовка базісных функций\n",
    "poly.fit_transform(x[:, None]) #матрица значений М"
   ]
  },
  {
   "cell_type": "code",
   "execution_count": null,
   "id": "262fbcea",
   "metadata": {},
   "outputs": [],
   "source": [
    "from sklearn.pipeline import make_pipeline\n",
    "from sklearn.linear_model import LinearRegression\n",
    "poly_model = make_pipeline(PolynomialFeatures(8), LinearRegression()) # модель полиномиальной регрессии для заданных базисных функци\n",
    "#from sklearn.linear_model import Ridge\n",
    "#poly_model = make_pipeline(PolynomialFeatures(30),Ridge(alpha=0.1))"
   ]
  },
  {
   "cell_type": "code",
   "execution_count": null,
   "id": "31a5093c",
   "metadata": {},
   "outputs": [],
   "source": [
    "rng = np.random.RandomState(1)\n",
    "x = 10 * rng.rand(50)\n",
    "y = np.sin(x) + 0.1 * rng.randn(50)"
   ]
  },
  {
   "cell_type": "code",
   "execution_count": null,
   "id": "b4ba0d80",
   "metadata": {},
   "outputs": [],
   "source": [
    "import matplotlib.pyplot as plt\n",
    "rng = np.random.RandomState(1)\n",
    "x = 10 * rng.rand(50)\n",
    "y = np.sin(x) + 0.1 * rng.randn(50)\n",
    "\n",
    "poly_model.fit(x[:, np.newaxis], y) # обучение на заданных данных\n",
    "\n",
    "xfit = np.linspace(0, 10, 1000)\n",
    "yfit = poly_model.predict(xfit[:, np.newaxis])\n",
    "\n",
    "plt.scatter(x, y, c ='red')\n",
    "plt.plot(xfit, yfit);"
   ]
  },
  {
   "cell_type": "markdown",
   "id": "8b57b102",
   "metadata": {},
   "source": [
    "## полиномиальная регрессия самостоятельно"
   ]
  },
  {
   "cell_type": "code",
   "execution_count": null,
   "id": "a1b8b9c4",
   "metadata": {},
   "outputs": [],
   "source": [
    "import numpy as np\n",
    "\n",
    "class polyreg:\n",
    "    \n",
    "    def __init__(self,n):\n",
    "        self.N = n\n",
    "    \n",
    "    def fit(self,x,y):\n",
    "        F = np.zeros((len(x),self.N+1))\n",
    "        \n",
    "        for i in range(len(x)):\n",
    "            for j in range(self.N+1):\n",
    "                F[i][j] = x[i]**j # формируем матрицу значений М\n",
    "        F_plus = np.matmul(np.linalg.inv(np.matmul(F.T,F)),F.T) # применяем формулу которую мы вывели на лекции\n",
    "       # print(F_plus.shape)\n",
    "        self.w = np.matmul(F_plus,y) # применяем формулу которую мы вывели на лекции для нахождения коэффициентов модели\n",
    "        \n",
    "    def predict(self, xtest):\n",
    "        eval_mat = np.zeros((self.N+1,len(xtest)))\n",
    "        \n",
    "        for i in range(self.N+1):\n",
    "            for j in range(len(xtest)):\n",
    "                eval_mat[i][j] = xtest[j]**i \n",
    "       # print(eval_mat)\n",
    "       # print(self.w)\n",
    "       # print(self.w.dot(eval_mat))\n",
    "        return self.w.dot(eval_mat)"
   ]
  },
  {
   "cell_type": "code",
   "execution_count": null,
   "id": "6cf89419",
   "metadata": {},
   "outputs": [],
   "source": [
    "import matplotlib.pyplot as plt\n",
    "\n",
    "rng = np.random.RandomState(1)\n",
    "x = 10 * rng.rand(50)\n",
    "y = np.sin(x) + 0.1 * rng.randn(50)\n",
    "\n",
    "model_1 = polyreg(8)\n",
    "model_1.fit(x,y)\n",
    "\n",
    "from sklearn.pipeline import make_pipeline\n",
    "from sklearn.linear_model import LinearRegression\n",
    "model_2 = make_pipeline(PolynomialFeatures(8), LinearRegression())\n",
    "\n",
    "model_2.fit(x[:, np.newaxis], y)\n",
    "\n",
    "xfit = np.linspace(0, 10, 1000)\n",
    "yfit_1 = model_1.predict(xfit[:, np.newaxis])\n",
    "yfit_2 = model_2.predict(xfit[:, np.newaxis])\n",
    "\n",
    "\n",
    "\n",
    "plt.scatter(x, y, c ='green')\n",
    "plt.plot(xfit, yfit_1, 'r',linewidth = 2);\n",
    "\n",
    "plt.plot(xfit, yfit_2, 'w--');"
   ]
  },
  {
   "cell_type": "code",
   "execution_count": null,
   "id": "1f2dad63",
   "metadata": {},
   "outputs": [],
   "source": [
    "y"
   ]
  },
  {
   "cell_type": "markdown",
   "id": "739f45da",
   "metadata": {},
   "source": [
    "# Прогнозирование велотрафика (пример подготовки данных)"
   ]
  },
  {
   "cell_type": "code",
   "execution_count": null,
   "id": "164eb304",
   "metadata": {},
   "outputs": [],
   "source": [
    "import pandas as pd\n",
    "counts = pd.read_csv('fremont-bridge.csv', index_col='Date', parse_dates=True)\n",
    "weather = pd.read_csv('BicycleWeather.csv', index_col='DATE', parse_dates=True) #импортируем данные в объекты DataFrame"
   ]
  },
  {
   "cell_type": "code",
   "execution_count": null,
   "id": "259fb703",
   "metadata": {},
   "outputs": [],
   "source": [
    "counts.head() # почасовые данные о велотрафике на мосту."
   ]
  },
  {
   "cell_type": "code",
   "execution_count": null,
   "id": "f3bff779",
   "metadata": {},
   "outputs": [],
   "source": [
    "weather.head()"
   ]
  },
  {
   "cell_type": "code",
   "execution_count": null,
   "id": "dc773a1c",
   "metadata": {},
   "outputs": [],
   "source": [
    "daily = counts.resample('D').sum()\n",
    "daily['Total'] = daily.sum(axis=1)\n",
    "daily = daily[['Total']] # преобразуем данные поучая суммарный траффик в течении суток."
   ]
  },
  {
   "cell_type": "code",
   "execution_count": null,
   "id": "b84c5f96",
   "metadata": {},
   "outputs": [],
   "source": [
    "daily.head()"
   ]
  },
  {
   "cell_type": "code",
   "execution_count": null,
   "id": "e10e4c4b",
   "metadata": {},
   "outputs": [],
   "source": [
    "days = ['Mon', 'Tue', 'Wed', 'Thu', 'Fri', 'Sat', 'Sun']\n",
    "for i in range(7):\n",
    "    daily[days[i]] = (daily.index.dayofweek == i).astype(float) # вводім новый признак. день недели."
   ]
  },
  {
   "cell_type": "code",
   "execution_count": null,
   "id": "b350a29b",
   "metadata": {},
   "outputs": [],
   "source": [
    "daily.head()"
   ]
  },
  {
   "cell_type": "code",
   "execution_count": null,
   "id": "0414ee12",
   "metadata": {},
   "outputs": [],
   "source": [
    "from pandas.tseries.holiday import USFederalHolidayCalendar\n",
    "cal = USFederalHolidayCalendar()\n",
    "holidays = cal.holidays('2012', '2016')\n",
    "daily = daily.join(pd.Series(1, index=holidays, name='holiday'))\n",
    "daily['holiday'].fillna(0, inplace=True) # добавляем данные о праздниках"
   ]
  },
  {
   "cell_type": "code",
   "execution_count": null,
   "id": "a1145cd1",
   "metadata": {},
   "outputs": [],
   "source": [
    "daily.head()"
   ]
  },
  {
   "cell_type": "code",
   "execution_count": null,
   "id": "9701f3f7",
   "metadata": {},
   "outputs": [],
   "source": [
    "import numpy as np\n",
    "\n",
    "def hours_of_daylight(date, axis=23.44, latitude=47.61):\n",
    "    \"\"\"Compute the hours of daylight for the given date\"\"\"\n",
    "    days = (date - pd.datetime(2000, 12, 21)).days\n",
    "    m = (1. - np.tan(np.radians(latitude))\n",
    "         * np.tan(np.radians(axis) * np.cos(days * 2 * np.pi / 365.25)))\n",
    "    return 24. * np.degrees(np.arccos(1 - np.clip(m, 0, 2))) / 180.\n",
    "\n",
    "daily['daylight_hrs'] = list(map(hours_of_daylight, daily.index))  # добавляем данные о длине светового дня\n",
    "daily[['daylight_hrs']].plot()\n",
    "plt.ylim(8, 17)"
   ]
  },
  {
   "cell_type": "code",
   "execution_count": null,
   "id": "c42e77e7",
   "metadata": {},
   "outputs": [],
   "source": [
    "weather['TMIN'] /= 10\n",
    "weather['TMAX'] /= 10\n",
    "weather['Temp (C)'] = 0.5 * (weather['TMIN'] + weather['TMAX'])\n",
    "\n",
    "# преобразования температуры. \n",
    "weather['PRCP'] /= 254\n",
    "weather['dry day'] = (weather['PRCP'] == 0).astype(int)\n",
    "\n",
    "daily = daily.join(weather[['PRCP', 'Temp (C)', 'dry day']]) # преобразования температуры. \n",
    "# соединяем данные из двух файлов в одну переменную"
   ]
  },
  {
   "cell_type": "code",
   "execution_count": null,
   "id": "8eef3889",
   "metadata": {},
   "outputs": [],
   "source": [
    "daily['annual'] = (daily.index - daily.index[0]).days / 365."
   ]
  },
  {
   "cell_type": "code",
   "execution_count": null,
   "id": "78584654",
   "metadata": {},
   "outputs": [],
   "source": [
    "daily.head()"
   ]
  },
  {
   "cell_type": "code",
   "execution_count": null,
   "id": "e6c3bb80",
   "metadata": {},
   "outputs": [],
   "source": [
    "model.score(X,y)"
   ]
  }
 ],
 "metadata": {
  "kernelspec": {
   "display_name": "Python 3",
   "language": "python",
   "name": "python3"
  },
  "language_info": {
   "codemirror_mode": {
    "name": "ipython",
    "version": 3
   },
   "file_extension": ".py",
   "mimetype": "text/x-python",
   "name": "python",
   "nbconvert_exporter": "python",
   "pygments_lexer": "ipython3",
   "version": "3.8.8"
  }
 },
 "nbformat": 4,
 "nbformat_minor": 5
}
