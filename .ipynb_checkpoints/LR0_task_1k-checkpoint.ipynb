{
 "cells": [
  {
   "cell_type": "markdown",
   "id": "03ee5aec",
   "metadata": {},
   "source": [
    "# ЛР0. Интуитивное введение в понятия МО. Линейная регрессия."
   ]
  },
  {
   "cell_type": "markdown",
   "id": "057004c4",
   "metadata": {},
   "source": [
    "## Задание 0. Подготовка. "
   ]
  },
  {
   "cell_type": "markdown",
   "id": "604b9a8e",
   "metadata": {},
   "source": [
    "1. Установить Anaconda. Настроить базововое окружение для работы на Python 3.8.\n",
    "2. Изучить кратко: \n",
    "    1. Python Numpy Tutorial (http://cs231n.github.io/python-numpy-tutorial/)\n",
    "    2. Numpy quickstart (https://docs.scipy.org/doc/numpy/user/quickstart.html)\n",
    "    3. Matplotlib tutorial (https://matplotlib.org/users/pyplot_tutorial.html)\n",
    "    4. Python Plotting With Matplotlib (https://realpython.com/python-matplotlibguide/)\n",
    "    5. Pandas tutorials (https://pandas.pydata.org/pandas-docs/stable/tutorials.html)\n",
    "    6. SKLearn: https://scikit-learn.org/stable/tutorial/index.html\n",
    "3. Запустить Jupiter Notebook и выполнить несколько произвольных скриптов из примеров в источниках из п. 2.\n"
   ]
  },
  {
   "cell_type": "markdown",
   "id": "e8d1651f",
   "metadata": {},
   "source": [
    "## Задание 1. Линейная регрессия."
   ]
  },
  {
   "cell_type": "markdown",
   "id": "6a8f109a",
   "metadata": {},
   "source": [
    "1.1 Пусть в переменных x и y заданы некоторые наборы случайных данных. Построить и обучить модель линейной регрессии. Сделать выводы о точности модели."
   ]
  },
  {
   "cell_type": "code",
   "execution_count": 74,
   "id": "520e7a73",
   "metadata": {},
   "outputs": [
    {
     "data": {
      "image/png": "[encoded data removed]",
      "text/plain": [
       "<Figure size 432x288 with 1 Axes>"
      ]
     },
     "metadata": {},
     "output_type": "display_data"
    }
   ],
   "source": [
    "import matplotlib.pyplot as plt\n",
    "import numpy as np\n",
    "\n",
    "rng = np.random.RandomState(42)\n",
    "x = 10 * rng.rand(50)\n",
    "y = 2 * x - 1 + rng.randn(50)\n",
    "plt.scatter(x, y);"
   ]
  },
  {
   "cell_type": "markdown",
   "id": "056b0a31",
   "metadata": {},
   "source": [
    "1.2. Реализуйте собственную функцию обучения методом наименьших квадратов для линейной регрессии. Сравните результаты на тестовых данных из набора headbrains.csv."
   ]
  },
  {
   "cell_type": "markdown",
   "id": "43a4bd74",
   "metadata": {},
   "source": [
    "Тут можно скачать dataset. https://www.includehelp.com/downloads/headbrain.csv"
   ]
  },
  {
   "cell_type": "markdown",
   "id": "d15f790f",
   "metadata": {},
   "source": [
    "## Задание 2. Наивный Баессовский классификатор"
   ]
  },
  {
   "cell_type": "markdown",
   "id": "a06fdd97",
   "metadata": {},
   "source": [
    "Пусть задан набор данных о цветах \"iris\". \n",
    "Определите матрицу признаков и целевой массив. Проведите предварительный анализ признаков.\n",
    "Разделите данные на обучающую последовательность и контрольную последовательность.\n",
    "Постройте и обучите модель для прогнозирования, используя наивный Баессовский классификатор. Сделайте выводы о точности модели."
   ]
  },
  {
   "cell_type": "code",
   "execution_count": 1,
   "id": "8b06f419",
   "metadata": {},
   "outputs": [
    {
     "data": {
      "text/html": [
       "<div>\n",
       "<style scoped>\n",
       "    .dataframe tbody tr th:only-of-type {\n",
       "        vertical-align: middle;\n",
       "    }\n",
       "\n",
       "    .dataframe tbody tr th {\n",
       "        vertical-align: top;\n",
       "    }\n",
       "\n",
       "    .dataframe thead th {\n",
       "        text-align: right;\n",
       "    }\n",
       "</style>\n",
       "<table border=\"1\" class=\"dataframe\">\n",
       "  <thead>\n",
       "    <tr style=\"text-align: right;\">\n",
       "      <th></th>\n",
       "      <th>sepal_length</th>\n",
       "      <th>sepal_width</th>\n",
       "      <th>petal_length</th>\n",
       "      <th>petal_width</th>\n",
       "      <th>species</th>\n",
       "    </tr>\n",
       "  </thead>\n",
       "  <tbody>\n",
       "    <tr>\n",
       "      <th>0</th>\n",
       "      <td>5.1</td>\n",
       "      <td>3.5</td>\n",
       "      <td>1.4</td>\n",
       "      <td>0.2</td>\n",
       "      <td>setosa</td>\n",
       "    </tr>\n",
       "    <tr>\n",
       "      <th>1</th>\n",
       "      <td>4.9</td>\n",
       "      <td>3.0</td>\n",
       "      <td>1.4</td>\n",
       "      <td>0.2</td>\n",
       "      <td>setosa</td>\n",
       "    </tr>\n",
       "    <tr>\n",
       "      <th>2</th>\n",
       "      <td>4.7</td>\n",
       "      <td>3.2</td>\n",
       "      <td>1.3</td>\n",
       "      <td>0.2</td>\n",
       "      <td>setosa</td>\n",
       "    </tr>\n",
       "    <tr>\n",
       "      <th>3</th>\n",
       "      <td>4.6</td>\n",
       "      <td>3.1</td>\n",
       "      <td>1.5</td>\n",
       "      <td>0.2</td>\n",
       "      <td>setosa</td>\n",
       "    </tr>\n",
       "    <tr>\n",
       "      <th>4</th>\n",
       "      <td>5.0</td>\n",
       "      <td>3.6</td>\n",
       "      <td>1.4</td>\n",
       "      <td>0.2</td>\n",
       "      <td>setosa</td>\n",
       "    </tr>\n",
       "  </tbody>\n",
       "</table>\n",
       "</div>"
      ],
      "text/plain": [
       "   sepal_length  sepal_width  petal_length  petal_width species\n",
       "0           5.1          3.5           1.4          0.2  setosa\n",
       "1           4.9          3.0           1.4          0.2  setosa\n",
       "2           4.7          3.2           1.3          0.2  setosa\n",
       "3           4.6          3.1           1.5          0.2  setosa\n",
       "4           5.0          3.6           1.4          0.2  setosa"
      ]
     },
     "execution_count": 1,
     "metadata": {},
     "output_type": "execute_result"
    }
   ],
   "source": [
    "import seaborn as sns\n",
    "iris = sns.load_dataset('iris')\n",
    "iris.head()"
   ]
  },
  {
   "cell_type": "markdown",
   "id": "281e6fa5",
   "metadata": {},
   "source": [
    "## Задание 3. Обучение без учителя."
   ]
  },
  {
   "cell_type": "markdown",
   "id": "3b552d94",
   "metadata": {},
   "source": [
    "Приведите последоваетльности комманд для кластеризации тестовых данных из задания 2 методом главных компонент (PCA) и  методом гауссовских распределений (GMM). Проведите графическую визуализацию."
   ]
  },
  {
   "cell_type": "markdown",
   "id": "484fbcaa",
   "metadata": {},
   "source": [
    "## Задание 4. Анализ рукописных цифр."
   ]
  },
  {
   "cell_type": "markdown",
   "id": "b436b277",
   "metadata": {},
   "source": [
    "1. Пусть задан набор данных о рукописных цифрах.\n",
    "    Определите матрицу признаков и целевой массив. Проведите предварительный анализ признаков.\n",
    "    Разделите данные на обучающую последовательность и контрольную последовательность.\n",
    "    Постройте и обучите модель для прогнозирования, используя наивный Баессовский классификатор. Сделайте выводы о точности модели. Постройте матрицу различий. Как на ваш взгляд можно улучшить точность прогноза?\n",
    "\n",
    "2. Попытайтесь провести классификацию, используя обучение без учителя. "
   ]
  },
  {
   "cell_type": "code",
   "execution_count": 53,
   "id": "a9763d5f",
   "metadata": {},
   "outputs": [
    {
     "data": {
      "text/plain": [
       "(1797, 8, 8)"
      ]
     },
     "execution_count": 53,
     "metadata": {},
     "output_type": "execute_result"
    }
   ],
   "source": [
    "from sklearn.datasets import load_digits\n",
    "digits = load_digits()\n",
    "digits.images.shape"
   ]
  },
  {
   "cell_type": "code",
   "execution_count": 55,
   "id": "23e4397c",
   "metadata": {},
   "outputs": [
    {
     "data": {
      "image/png": "[encoded data removed]",
      "text/plain": [
       "<Figure size 576x576 with 100 Axes>"
      ]
     },
     "metadata": {},
     "output_type": "display_data"
    }
   ],
   "source": [
    "import matplotlib.pyplot as plt\n",
    "\n",
    "fig, axes = plt.subplots(10, 10, figsize=(8, 8),\n",
    "                         subplot_kw={'xticks':[], 'yticks':[]},\n",
    "                         gridspec_kw=dict(hspace=0.1, wspace=0.1))\n",
    "\n"
   ]
  },
  {
   "cell_type": "code",
   "execution_count": 57,
   "id": "05819833",
   "metadata": {},
   "outputs": [],
   "source": [
    "for i, ax in enumerate(axes.flat):\n",
    "    ax.imshow(digits.images[i], cmap='binary', interpolation='nearest')\n",
    "    ax.text(0.05, 0.05, str(digits.target[i]),\n",
    "            transform=ax.transAxes, color='blue')"
   ]
  },
  {
   "cell_type": "code",
   "execution_count": 58,
   "id": "c0e80bcf",
   "metadata": {},
   "outputs": [
    {
     "data": {
      "image/png": "[encoded data removed]",
      "text/plain": [
       "<Figure size 576x576 with 100 Axes>"
      ]
     },
     "execution_count": 58,
     "metadata": {},
     "output_type": "execute_result"
    }
   ],
   "source": [
    "fig"
   ]
  },
  {
   "cell_type": "markdown",
   "id": "d9aa2acb",
   "metadata": {},
   "source": [
    "## Задание 5. Немного творчества."
   ]
  },
  {
   "cell_type": "markdown",
   "id": "ac8b30e6",
   "metadata": {},
   "source": [
    "1. Используя примеры из задания 0. Приведите пример обучения любой модели с подробными комментариями."
   ]
  }
 ],
 "metadata": {
  "kernelspec": {
   "display_name": "Python 3",
   "language": "python",
   "name": "python3"
  },
  "language_info": {
   "codemirror_mode": {
    "name": "ipython",
    "version": 3
   },
   "file_extension": ".py",
   "mimetype": "text/x-python",
   "name": "python",
   "nbconvert_exporter": "python",
   "pygments_lexer": "ipython3",
   "version": "3.8.8"
  }
 },
 "nbformat": 4,
 "nbformat_minor": 5
}
