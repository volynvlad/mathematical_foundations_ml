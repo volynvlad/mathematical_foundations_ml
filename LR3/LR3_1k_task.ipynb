{
 "cells": [
  {
   "cell_type": "markdown",
   "id": "510d30c6",
   "metadata": {},
   "source": [
    "# ЛР3. Классификация с помощью метода ближайших соседей."
   ]
  },
  {
   "cell_type": "markdown",
   "id": "b443af25",
   "metadata": {},
   "source": [
    "## Задание 1."
   ]
  },
  {
   "cell_type": "markdown",
   "id": "2b13a77f",
   "metadata": {},
   "source": [
    "Для каждого из подзаданий: \n",
    "\n",
    "0. Проведите предварительную обработку данных.\n",
    "1. Постройте модель классификации на основе метода ближайших соседей используя функции библиотеки sklearn.\n",
    "2. Подберите оптимальные гиперпараметры модели используя кросс-валидацию.\n",
    "3. Сделайте выводы о точности моделей.\n",
    "4. Постройте несколько валиадционных кривых.\n"
   ]
  },
  {
   "cell_type": "markdown",
   "id": "4e0a7e15",
   "metadata": {},
   "source": [
    "### 1.1 Скоринг отказа от услуг оператора связи."
   ]
  },
  {
   "cell_type": "markdown",
   "id": "a305c973",
   "metadata": {},
   "source": [
    "Используйте данные из файла telecom.csv для предсказания отказа от услуг связи. Столбец \"churn\". \n",
    "Предврительно изучите и подготовьте данные."
   ]
  },
  {
   "cell_type": "markdown",
   "id": "23098f85",
   "metadata": {},
   "source": [
    "### 1.2 Классификация ириса из датасет iris. "
   ]
  },
  {
   "cell_type": "markdown",
   "id": "6f8fcc3c",
   "metadata": {},
   "source": [
    "Предскажите вид ириса по его параметрам."
   ]
  },
  {
   "cell_type": "markdown",
   "id": "d9ecc151",
   "metadata": {},
   "source": [
    "### 1.3 Предсказание диабета у пациентов."
   ]
  },
  {
   "cell_type": "markdown",
   "id": "47cc716d",
   "metadata": {},
   "source": [
    "Используйте данные из файла diabetes.csv для предсказания исхода для пациентов. Столбец \"outcome\". Предварительно изучите и подготовьте данные. "
   ]
  },
  {
   "cell_type": "markdown",
   "id": "038b53ec",
   "metadata": {},
   "source": [
    "## Задание 2. "
   ]
  },
  {
   "cell_type": "markdown",
   "id": "3c2d24b7",
   "metadata": {},
   "source": [
    "Самостоятельно реализуйте класс для модели ближайших соседей. Постройте модель эстиматора для данных из задания 1.\n",
    "Произведите подбор оптивальных параметров для моделей."
   ]
  },
  {
   "cell_type": "markdown",
   "id": "5c36f1eb",
   "metadata": {},
   "source": [
    "## Ссылки"
   ]
  },
  {
   "cell_type": "markdown",
   "id": "bbd32da2",
   "metadata": {},
   "source": [
    "Классификация. https://towardsdatascience.com/a-simple-introduction-to-k-nearest-neighbors-algorithm-b3519ed98e\n",
    "\n",
    "Документация.   https://scikit-learn.org/stable/modules/generated/sklearn.neighbors.KNeighborsClassifier.html"
   ]
  }
 ],
 "metadata": {
  "kernelspec": {
   "display_name": "Python 3",
   "language": "python",
   "name": "python3"
  },
  "language_info": {
   "codemirror_mode": {
    "name": "ipython",
    "version": 3
   },
   "file_extension": ".py",
   "mimetype": "text/x-python",
   "name": "python",
   "nbconvert_exporter": "python",
   "pygments_lexer": "ipython3",
   "version": "3.8.8"
  }
 },
 "nbformat": 4,
 "nbformat_minor": 5
}
