{
 "cells": [
  {
   "cell_type": "code",
   "execution_count": 1,
   "id": "127f49f8-4ac4-41d2-8e33-c4219cab65fc",
   "metadata": {},
   "outputs": [],
   "source": [
    "import numpy as np\n",
    "import pandas as pd\n",
    "import matplotlib.pyplot as plt\n",
    "import seaborn as sns\n",
    "\n",
    "import warnings\n",
    "warnings.filterwarnings('ignore')"
   ]
  },
  {
   "cell_type": "code",
   "execution_count": 2,
   "id": "cac3fa99-efe8-4045-9868-3bfe181aadab",
   "metadata": {},
   "outputs": [],
   "source": [
    "%matplotlib inline"
   ]
  },
  {
   "cell_type": "code",
   "execution_count": 3,
   "id": "37b96657-d0bc-4035-b736-f329996a3f30",
   "metadata": {},
   "outputs": [],
   "source": [
    "from sklearn.neighbors import KNeighborsClassifier"
   ]
  },
  {
   "cell_type": "code",
   "execution_count": 4,
   "id": "f6339f0b-6ff0-4ae4-826d-1b2fda64dc65",
   "metadata": {},
   "outputs": [],
   "source": [
    "from sklearn.model_selection import train_test_split\n",
    "from sklearn.model_selection import cross_val_score\n",
    "from sklearn.model_selection import GridSearchCV"
   ]
  },
  {
   "cell_type": "markdown",
   "id": "510d30c6",
   "metadata": {},
   "source": [
    "# ЛР3. Классификация с помощью метода ближайших соседей."
   ]
  },
  {
   "cell_type": "markdown",
   "id": "b443af25",
   "metadata": {},
   "source": [
    "## Задание 1."
   ]
  },
  {
   "cell_type": "markdown",
   "id": "2b13a77f",
   "metadata": {},
   "source": [
    "Для каждого из подзаданий: \n",
    "\n",
    "0. Проведите предварительную обработку данных.\n",
    "1. Постройте модель классификации на основе метода ближайших соседей используя функции библиотеки sklearn.\n",
    "2. Подберите оптимальные гиперпараметры модели используя кросс-валидацию.\n",
    "3. Сделайте выводы о точности моделей.\n",
    "4. Постройте несколько валиадционных кривых.\n"
   ]
  },
  {
   "cell_type": "markdown",
   "id": "4e0a7e15",
   "metadata": {},
   "source": [
    "### 1.1 Скоринг отказа от услуг оператора связи."
   ]
  },
  {
   "cell_type": "markdown",
   "id": "a305c973",
   "metadata": {},
   "source": [
    "Используйте данные из файла telecom.csv для предсказания отказа от услуг связи. Столбец \"churn\". \n",
    "Предврительно изучите и подготовьте данные."
   ]
  },
  {
   "cell_type": "code",
   "execution_count": 5,
   "id": "6dd641f2-fa1c-4bd4-90e7-01694665e861",
   "metadata": {},
   "outputs": [],
   "source": [
    "telecom_df = pd.read_csv(\"telecom.csv\")"
   ]
  },
  {
   "cell_type": "code",
   "execution_count": 6,
   "id": "d4abaf2a-ee92-494b-ba95-3d6208e6c41e",
   "metadata": {},
   "outputs": [],
   "source": [
    "pd.set_option('display.max_columns', 100)"
   ]
  },
  {
   "cell_type": "code",
   "execution_count": 7,
   "id": "6917a804-e153-4ea0-9cdd-d02648b36068",
   "metadata": {},
   "outputs": [
    {
     "data": {
      "text/html": [
       "<div>\n",
       "<style scoped>\n",
       "    .dataframe tbody tr th:only-of-type {\n",
       "        vertical-align: middle;\n",
       "    }\n",
       "\n",
       "    .dataframe tbody tr th {\n",
       "        vertical-align: top;\n",
       "    }\n",
       "\n",
       "    .dataframe thead th {\n",
       "        text-align: right;\n",
       "    }\n",
       "</style>\n",
       "<table border=\"1\" class=\"dataframe\">\n",
       "  <thead>\n",
       "    <tr style=\"text-align: right;\">\n",
       "      <th></th>\n",
       "      <th>state</th>\n",
       "      <th>account length</th>\n",
       "      <th>area code</th>\n",
       "      <th>phone number</th>\n",
       "      <th>international plan</th>\n",
       "      <th>voice mail plan</th>\n",
       "      <th>number vmail messages</th>\n",
       "      <th>total day minutes</th>\n",
       "      <th>total day calls</th>\n",
       "      <th>total day charge</th>\n",
       "      <th>total eve minutes</th>\n",
       "      <th>total eve calls</th>\n",
       "      <th>total eve charge</th>\n",
       "      <th>total night minutes</th>\n",
       "      <th>total night calls</th>\n",
       "      <th>total night charge</th>\n",
       "      <th>total intl minutes</th>\n",
       "      <th>total intl calls</th>\n",
       "      <th>total intl charge</th>\n",
       "      <th>customer service calls</th>\n",
       "      <th>churn</th>\n",
       "    </tr>\n",
       "  </thead>\n",
       "  <tbody>\n",
       "    <tr>\n",
       "      <th>0</th>\n",
       "      <td>KS</td>\n",
       "      <td>128</td>\n",
       "      <td>415</td>\n",
       "      <td>382-4657</td>\n",
       "      <td>no</td>\n",
       "      <td>yes</td>\n",
       "      <td>25</td>\n",
       "      <td>265.1</td>\n",
       "      <td>110</td>\n",
       "      <td>45.07</td>\n",
       "      <td>197.4</td>\n",
       "      <td>99</td>\n",
       "      <td>16.78</td>\n",
       "      <td>244.7</td>\n",
       "      <td>91</td>\n",
       "      <td>11.01</td>\n",
       "      <td>10.0</td>\n",
       "      <td>3</td>\n",
       "      <td>2.70</td>\n",
       "      <td>1</td>\n",
       "      <td>False</td>\n",
       "    </tr>\n",
       "    <tr>\n",
       "      <th>1</th>\n",
       "      <td>OH</td>\n",
       "      <td>107</td>\n",
       "      <td>415</td>\n",
       "      <td>371-7191</td>\n",
       "      <td>no</td>\n",
       "      <td>yes</td>\n",
       "      <td>26</td>\n",
       "      <td>161.6</td>\n",
       "      <td>123</td>\n",
       "      <td>27.47</td>\n",
       "      <td>195.5</td>\n",
       "      <td>103</td>\n",
       "      <td>16.62</td>\n",
       "      <td>254.4</td>\n",
       "      <td>103</td>\n",
       "      <td>11.45</td>\n",
       "      <td>13.7</td>\n",
       "      <td>3</td>\n",
       "      <td>3.70</td>\n",
       "      <td>1</td>\n",
       "      <td>False</td>\n",
       "    </tr>\n",
       "    <tr>\n",
       "      <th>2</th>\n",
       "      <td>NJ</td>\n",
       "      <td>137</td>\n",
       "      <td>415</td>\n",
       "      <td>358-1921</td>\n",
       "      <td>no</td>\n",
       "      <td>no</td>\n",
       "      <td>0</td>\n",
       "      <td>243.4</td>\n",
       "      <td>114</td>\n",
       "      <td>41.38</td>\n",
       "      <td>121.2</td>\n",
       "      <td>110</td>\n",
       "      <td>10.30</td>\n",
       "      <td>162.6</td>\n",
       "      <td>104</td>\n",
       "      <td>7.32</td>\n",
       "      <td>12.2</td>\n",
       "      <td>5</td>\n",
       "      <td>3.29</td>\n",
       "      <td>0</td>\n",
       "      <td>False</td>\n",
       "    </tr>\n",
       "    <tr>\n",
       "      <th>3</th>\n",
       "      <td>OH</td>\n",
       "      <td>84</td>\n",
       "      <td>408</td>\n",
       "      <td>375-9999</td>\n",
       "      <td>yes</td>\n",
       "      <td>no</td>\n",
       "      <td>0</td>\n",
       "      <td>299.4</td>\n",
       "      <td>71</td>\n",
       "      <td>50.90</td>\n",
       "      <td>61.9</td>\n",
       "      <td>88</td>\n",
       "      <td>5.26</td>\n",
       "      <td>196.9</td>\n",
       "      <td>89</td>\n",
       "      <td>8.86</td>\n",
       "      <td>6.6</td>\n",
       "      <td>7</td>\n",
       "      <td>1.78</td>\n",
       "      <td>2</td>\n",
       "      <td>False</td>\n",
       "    </tr>\n",
       "    <tr>\n",
       "      <th>4</th>\n",
       "      <td>OK</td>\n",
       "      <td>75</td>\n",
       "      <td>415</td>\n",
       "      <td>330-6626</td>\n",
       "      <td>yes</td>\n",
       "      <td>no</td>\n",
       "      <td>0</td>\n",
       "      <td>166.7</td>\n",
       "      <td>113</td>\n",
       "      <td>28.34</td>\n",
       "      <td>148.3</td>\n",
       "      <td>122</td>\n",
       "      <td>12.61</td>\n",
       "      <td>186.9</td>\n",
       "      <td>121</td>\n",
       "      <td>8.41</td>\n",
       "      <td>10.1</td>\n",
       "      <td>3</td>\n",
       "      <td>2.73</td>\n",
       "      <td>3</td>\n",
       "      <td>False</td>\n",
       "    </tr>\n",
       "  </tbody>\n",
       "</table>\n",
       "</div>"
      ],
      "text/plain": [
       "  state  account length  area code phone number international plan  \\\n",
       "0    KS             128        415     382-4657                 no   \n",
       "1    OH             107        415     371-7191                 no   \n",
       "2    NJ             137        415     358-1921                 no   \n",
       "3    OH              84        408     375-9999                yes   \n",
       "4    OK              75        415     330-6626                yes   \n",
       "\n",
       "  voice mail plan  number vmail messages  total day minutes  total day calls  \\\n",
       "0             yes                     25              265.1              110   \n",
       "1             yes                     26              161.6              123   \n",
       "2              no                      0              243.4              114   \n",
       "3              no                      0              299.4               71   \n",
       "4              no                      0              166.7              113   \n",
       "\n",
       "   total day charge  total eve minutes  total eve calls  total eve charge  \\\n",
       "0             45.07              197.4               99             16.78   \n",
       "1             27.47              195.5              103             16.62   \n",
       "2             41.38              121.2              110             10.30   \n",
       "3             50.90               61.9               88              5.26   \n",
       "4             28.34              148.3              122             12.61   \n",
       "\n",
       "   total night minutes  total night calls  total night charge  \\\n",
       "0                244.7                 91               11.01   \n",
       "1                254.4                103               11.45   \n",
       "2                162.6                104                7.32   \n",
       "3                196.9                 89                8.86   \n",
       "4                186.9                121                8.41   \n",
       "\n",
       "   total intl minutes  total intl calls  total intl charge  \\\n",
       "0                10.0                 3               2.70   \n",
       "1                13.7                 3               3.70   \n",
       "2                12.2                 5               3.29   \n",
       "3                 6.6                 7               1.78   \n",
       "4                10.1                 3               2.73   \n",
       "\n",
       "   customer service calls  churn  \n",
       "0                       1  False  \n",
       "1                       1  False  \n",
       "2                       0  False  \n",
       "3                       2  False  \n",
       "4                       3  False  "
      ]
     },
     "execution_count": 7,
     "metadata": {},
     "output_type": "execute_result"
    }
   ],
   "source": [
    "telecom_df.head()"
   ]
  },
  {
   "cell_type": "code",
   "execution_count": 8,
   "id": "3e98021b-3d51-4f72-bac4-e0474c1686ce",
   "metadata": {},
   "outputs": [],
   "source": [
    "target = \"churn\""
   ]
  },
  {
   "cell_type": "code",
   "execution_count": 9,
   "id": "5aeb200e-5279-494b-977a-e4bf4763eb94",
   "metadata": {},
   "outputs": [],
   "source": [
    "y = telecom_df[target].astype(int)\n",
    "X = telecom_df[telecom_df.columns[~telecom_df.columns.isin([target, \"phone number\", \"state\"])]]"
   ]
  },
  {
   "cell_type": "code",
   "execution_count": 10,
   "id": "4ce2cae6-c1af-413a-8647-85a3fe549503",
   "metadata": {},
   "outputs": [],
   "source": [
    "# from previous LR\n",
    "columns_to_delete = ['total day minutes', 'total eve minutes', 'total night minutes', 'total intl minutes']"
   ]
  },
  {
   "cell_type": "code",
   "execution_count": 11,
   "id": "1ac9861b-a5f4-4d8b-8a27-d56931ddbec9",
   "metadata": {},
   "outputs": [],
   "source": [
    "X.drop(columns=columns_to_delete, inplace=True)"
   ]
  },
  {
   "cell_type": "code",
   "execution_count": 12,
   "id": "3f61a293-87ef-4c29-8c0e-dbc6e17b3606",
   "metadata": {},
   "outputs": [
    {
     "data": {
      "text/plain": [
       "((3333, 14), (3333,))"
      ]
     },
     "execution_count": 12,
     "metadata": {},
     "output_type": "execute_result"
    }
   ],
   "source": [
    "X.shape, y.shape"
   ]
  },
  {
   "cell_type": "code",
   "execution_count": 13,
   "id": "4e8afcd4-fb96-463e-b172-7b8c33f0de2a",
   "metadata": {},
   "outputs": [
    {
     "data": {
      "text/html": [
       "<div>\n",
       "<style scoped>\n",
       "    .dataframe tbody tr th:only-of-type {\n",
       "        vertical-align: middle;\n",
       "    }\n",
       "\n",
       "    .dataframe tbody tr th {\n",
       "        vertical-align: top;\n",
       "    }\n",
       "\n",
       "    .dataframe thead th {\n",
       "        text-align: right;\n",
       "    }\n",
       "</style>\n",
       "<table border=\"1\" class=\"dataframe\">\n",
       "  <thead>\n",
       "    <tr style=\"text-align: right;\">\n",
       "      <th></th>\n",
       "      <th>account length</th>\n",
       "      <th>area code</th>\n",
       "      <th>international plan</th>\n",
       "      <th>voice mail plan</th>\n",
       "      <th>number vmail messages</th>\n",
       "      <th>total day calls</th>\n",
       "      <th>total day charge</th>\n",
       "      <th>total eve calls</th>\n",
       "      <th>total eve charge</th>\n",
       "      <th>total night calls</th>\n",
       "      <th>total night charge</th>\n",
       "      <th>total intl calls</th>\n",
       "      <th>total intl charge</th>\n",
       "      <th>customer service calls</th>\n",
       "    </tr>\n",
       "  </thead>\n",
       "  <tbody>\n",
       "    <tr>\n",
       "      <th>0</th>\n",
       "      <td>128</td>\n",
       "      <td>415</td>\n",
       "      <td>no</td>\n",
       "      <td>yes</td>\n",
       "      <td>25</td>\n",
       "      <td>110</td>\n",
       "      <td>45.07</td>\n",
       "      <td>99</td>\n",
       "      <td>16.78</td>\n",
       "      <td>91</td>\n",
       "      <td>11.01</td>\n",
       "      <td>3</td>\n",
       "      <td>2.70</td>\n",
       "      <td>1</td>\n",
       "    </tr>\n",
       "    <tr>\n",
       "      <th>1</th>\n",
       "      <td>107</td>\n",
       "      <td>415</td>\n",
       "      <td>no</td>\n",
       "      <td>yes</td>\n",
       "      <td>26</td>\n",
       "      <td>123</td>\n",
       "      <td>27.47</td>\n",
       "      <td>103</td>\n",
       "      <td>16.62</td>\n",
       "      <td>103</td>\n",
       "      <td>11.45</td>\n",
       "      <td>3</td>\n",
       "      <td>3.70</td>\n",
       "      <td>1</td>\n",
       "    </tr>\n",
       "    <tr>\n",
       "      <th>2</th>\n",
       "      <td>137</td>\n",
       "      <td>415</td>\n",
       "      <td>no</td>\n",
       "      <td>no</td>\n",
       "      <td>0</td>\n",
       "      <td>114</td>\n",
       "      <td>41.38</td>\n",
       "      <td>110</td>\n",
       "      <td>10.30</td>\n",
       "      <td>104</td>\n",
       "      <td>7.32</td>\n",
       "      <td>5</td>\n",
       "      <td>3.29</td>\n",
       "      <td>0</td>\n",
       "    </tr>\n",
       "    <tr>\n",
       "      <th>3</th>\n",
       "      <td>84</td>\n",
       "      <td>408</td>\n",
       "      <td>yes</td>\n",
       "      <td>no</td>\n",
       "      <td>0</td>\n",
       "      <td>71</td>\n",
       "      <td>50.90</td>\n",
       "      <td>88</td>\n",
       "      <td>5.26</td>\n",
       "      <td>89</td>\n",
       "      <td>8.86</td>\n",
       "      <td>7</td>\n",
       "      <td>1.78</td>\n",
       "      <td>2</td>\n",
       "    </tr>\n",
       "    <tr>\n",
       "      <th>4</th>\n",
       "      <td>75</td>\n",
       "      <td>415</td>\n",
       "      <td>yes</td>\n",
       "      <td>no</td>\n",
       "      <td>0</td>\n",
       "      <td>113</td>\n",
       "      <td>28.34</td>\n",
       "      <td>122</td>\n",
       "      <td>12.61</td>\n",
       "      <td>121</td>\n",
       "      <td>8.41</td>\n",
       "      <td>3</td>\n",
       "      <td>2.73</td>\n",
       "      <td>3</td>\n",
       "    </tr>\n",
       "  </tbody>\n",
       "</table>\n",
       "</div>"
      ],
      "text/plain": [
       "   account length  area code international plan voice mail plan  \\\n",
       "0             128        415                 no             yes   \n",
       "1             107        415                 no             yes   \n",
       "2             137        415                 no              no   \n",
       "3              84        408                yes              no   \n",
       "4              75        415                yes              no   \n",
       "\n",
       "   number vmail messages  total day calls  total day charge  total eve calls  \\\n",
       "0                     25              110             45.07               99   \n",
       "1                     26              123             27.47              103   \n",
       "2                      0              114             41.38              110   \n",
       "3                      0               71             50.90               88   \n",
       "4                      0              113             28.34              122   \n",
       "\n",
       "   total eve charge  total night calls  total night charge  total intl calls  \\\n",
       "0             16.78                 91               11.01                 3   \n",
       "1             16.62                103               11.45                 3   \n",
       "2             10.30                104                7.32                 5   \n",
       "3              5.26                 89                8.86                 7   \n",
       "4             12.61                121                8.41                 3   \n",
       "\n",
       "   total intl charge  customer service calls  \n",
       "0               2.70                       1  \n",
       "1               3.70                       1  \n",
       "2               3.29                       0  \n",
       "3               1.78                       2  \n",
       "4               2.73                       3  "
      ]
     },
     "execution_count": 13,
     "metadata": {},
     "output_type": "execute_result"
    }
   ],
   "source": [
    "X.head()"
   ]
  },
  {
   "cell_type": "code",
   "execution_count": 14,
   "id": "774eed23-e4b5-4022-b3eb-c4e8e4db3dc7",
   "metadata": {},
   "outputs": [],
   "source": [
    "X[\"international plan\"] = (X[\"international plan\"] == \"yes\").astype(int)"
   ]
  },
  {
   "cell_type": "code",
   "execution_count": 15,
   "id": "5ec3db26-da78-4ca6-a98a-47a5d5e4b9c8",
   "metadata": {},
   "outputs": [],
   "source": [
    "X[\"voice mail plan\"] = (X[\"voice mail plan\"] == \"yes\").astype(int)"
   ]
  },
  {
   "cell_type": "code",
   "execution_count": 16,
   "id": "89be847b-1bbf-4c43-8a65-c7ce686d43cb",
   "metadata": {},
   "outputs": [
    {
     "data": {
      "text/html": [
       "<div>\n",
       "<style scoped>\n",
       "    .dataframe tbody tr th:only-of-type {\n",
       "        vertical-align: middle;\n",
       "    }\n",
       "\n",
       "    .dataframe tbody tr th {\n",
       "        vertical-align: top;\n",
       "    }\n",
       "\n",
       "    .dataframe thead th {\n",
       "        text-align: right;\n",
       "    }\n",
       "</style>\n",
       "<table border=\"1\" class=\"dataframe\">\n",
       "  <thead>\n",
       "    <tr style=\"text-align: right;\">\n",
       "      <th></th>\n",
       "      <th>account length</th>\n",
       "      <th>area code</th>\n",
       "      <th>international plan</th>\n",
       "      <th>voice mail plan</th>\n",
       "      <th>number vmail messages</th>\n",
       "      <th>total day calls</th>\n",
       "      <th>total day charge</th>\n",
       "      <th>total eve calls</th>\n",
       "      <th>total eve charge</th>\n",
       "      <th>total night calls</th>\n",
       "      <th>total night charge</th>\n",
       "      <th>total intl calls</th>\n",
       "      <th>total intl charge</th>\n",
       "      <th>customer service calls</th>\n",
       "    </tr>\n",
       "  </thead>\n",
       "  <tbody>\n",
       "    <tr>\n",
       "      <th>0</th>\n",
       "      <td>128</td>\n",
       "      <td>415</td>\n",
       "      <td>0</td>\n",
       "      <td>1</td>\n",
       "      <td>25</td>\n",
       "      <td>110</td>\n",
       "      <td>45.07</td>\n",
       "      <td>99</td>\n",
       "      <td>16.78</td>\n",
       "      <td>91</td>\n",
       "      <td>11.01</td>\n",
       "      <td>3</td>\n",
       "      <td>2.70</td>\n",
       "      <td>1</td>\n",
       "    </tr>\n",
       "    <tr>\n",
       "      <th>1</th>\n",
       "      <td>107</td>\n",
       "      <td>415</td>\n",
       "      <td>0</td>\n",
       "      <td>1</td>\n",
       "      <td>26</td>\n",
       "      <td>123</td>\n",
       "      <td>27.47</td>\n",
       "      <td>103</td>\n",
       "      <td>16.62</td>\n",
       "      <td>103</td>\n",
       "      <td>11.45</td>\n",
       "      <td>3</td>\n",
       "      <td>3.70</td>\n",
       "      <td>1</td>\n",
       "    </tr>\n",
       "    <tr>\n",
       "      <th>2</th>\n",
       "      <td>137</td>\n",
       "      <td>415</td>\n",
       "      <td>0</td>\n",
       "      <td>0</td>\n",
       "      <td>0</td>\n",
       "      <td>114</td>\n",
       "      <td>41.38</td>\n",
       "      <td>110</td>\n",
       "      <td>10.30</td>\n",
       "      <td>104</td>\n",
       "      <td>7.32</td>\n",
       "      <td>5</td>\n",
       "      <td>3.29</td>\n",
       "      <td>0</td>\n",
       "    </tr>\n",
       "    <tr>\n",
       "      <th>3</th>\n",
       "      <td>84</td>\n",
       "      <td>408</td>\n",
       "      <td>1</td>\n",
       "      <td>0</td>\n",
       "      <td>0</td>\n",
       "      <td>71</td>\n",
       "      <td>50.90</td>\n",
       "      <td>88</td>\n",
       "      <td>5.26</td>\n",
       "      <td>89</td>\n",
       "      <td>8.86</td>\n",
       "      <td>7</td>\n",
       "      <td>1.78</td>\n",
       "      <td>2</td>\n",
       "    </tr>\n",
       "    <tr>\n",
       "      <th>4</th>\n",
       "      <td>75</td>\n",
       "      <td>415</td>\n",
       "      <td>1</td>\n",
       "      <td>0</td>\n",
       "      <td>0</td>\n",
       "      <td>113</td>\n",
       "      <td>28.34</td>\n",
       "      <td>122</td>\n",
       "      <td>12.61</td>\n",
       "      <td>121</td>\n",
       "      <td>8.41</td>\n",
       "      <td>3</td>\n",
       "      <td>2.73</td>\n",
       "      <td>3</td>\n",
       "    </tr>\n",
       "  </tbody>\n",
       "</table>\n",
       "</div>"
      ],
      "text/plain": [
       "   account length  area code  international plan  voice mail plan  \\\n",
       "0             128        415                   0                1   \n",
       "1             107        415                   0                1   \n",
       "2             137        415                   0                0   \n",
       "3              84        408                   1                0   \n",
       "4              75        415                   1                0   \n",
       "\n",
       "   number vmail messages  total day calls  total day charge  total eve calls  \\\n",
       "0                     25              110             45.07               99   \n",
       "1                     26              123             27.47              103   \n",
       "2                      0              114             41.38              110   \n",
       "3                      0               71             50.90               88   \n",
       "4                      0              113             28.34              122   \n",
       "\n",
       "   total eve charge  total night calls  total night charge  total intl calls  \\\n",
       "0             16.78                 91               11.01                 3   \n",
       "1             16.62                103               11.45                 3   \n",
       "2             10.30                104                7.32                 5   \n",
       "3              5.26                 89                8.86                 7   \n",
       "4             12.61                121                8.41                 3   \n",
       "\n",
       "   total intl charge  customer service calls  \n",
       "0               2.70                       1  \n",
       "1               3.70                       1  \n",
       "2               3.29                       0  \n",
       "3               1.78                       2  \n",
       "4               2.73                       3  "
      ]
     },
     "execution_count": 16,
     "metadata": {},
     "output_type": "execute_result"
    }
   ],
   "source": [
    "X.head()"
   ]
  },
  {
   "cell_type": "code",
   "execution_count": 17,
   "id": "ee0641cd-3164-488b-911a-0302364074a1",
   "metadata": {},
   "outputs": [],
   "source": [
    "X_train, X_test, y_train, y_test = train_test_split(X, y, test_size=0.15, random_state=42, shuffle=True)"
   ]
  },
  {
   "cell_type": "code",
   "execution_count": 18,
   "id": "206ca18b-4705-4a25-8d7b-d3d9cd727df8",
   "metadata": {},
   "outputs": [
    {
     "data": {
      "text/plain": [
       "((2833, 14), (500, 14), (2833,), (500,))"
      ]
     },
     "execution_count": 18,
     "metadata": {},
     "output_type": "execute_result"
    }
   ],
   "source": [
    "X_train.shape, X_test.shape, y_train.shape, y_test.shape"
   ]
  },
  {
   "cell_type": "code",
   "execution_count": 19,
   "id": "a43ff4e8-0cab-401c-ae92-fef4cb4c8046",
   "metadata": {},
   "outputs": [],
   "source": [
    "neig_classifier = KNeighborsClassifier() # with default parameters"
   ]
  },
  {
   "cell_type": "code",
   "execution_count": 20,
   "id": "737f4c1b-009c-48b8-9336-04ce26151b5e",
   "metadata": {},
   "outputs": [
    {
     "data": {
      "text/plain": [
       "KNeighborsClassifier()"
      ]
     },
     "execution_count": 20,
     "metadata": {},
     "output_type": "execute_result"
    }
   ],
   "source": [
    "neig_classifier.fit(X_train, y_train)"
   ]
  },
  {
   "cell_type": "code",
   "execution_count": 21,
   "id": "b05a36de-0261-4f0a-b59d-64e11bc63ae4",
   "metadata": {},
   "outputs": [
    {
     "data": {
      "text/plain": [
       "0.875750088245676"
      ]
     },
     "execution_count": 21,
     "metadata": {},
     "output_type": "execute_result"
    }
   ],
   "source": [
    "neig_classifier.score(X_train, y_train)"
   ]
  },
  {
   "cell_type": "code",
   "execution_count": 22,
   "id": "52ffbfe9-3a91-4e47-84e0-59348c99afcc",
   "metadata": {},
   "outputs": [
    {
     "data": {
      "text/plain": [
       "0.852"
      ]
     },
     "execution_count": 22,
     "metadata": {},
     "output_type": "execute_result"
    }
   ],
   "source": [
    "neig_classifier.score(X_test, y_test)"
   ]
  },
  {
   "cell_type": "code",
   "execution_count": 23,
   "id": "d81b4f4f-a4c7-4f18-99bf-d8c9fcc73d9e",
   "metadata": {},
   "outputs": [
    {
     "data": {
      "text/plain": [
       "0.85238461850156"
      ]
     },
     "execution_count": 23,
     "metadata": {},
     "output_type": "execute_result"
    }
   ],
   "source": [
    "cross_val_score(neig_classifier, X, y, cv=5).mean()"
   ]
  },
  {
   "cell_type": "code",
   "execution_count": 24,
   "id": "f6a9ca8b-6fff-4e79-8813-5d0152e0c6ee",
   "metadata": {},
   "outputs": [],
   "source": [
    "params = {\n",
    "    \"n_neighbors\": range(2, 6),\n",
    "    \"weights\": [\"distance\"],\n",
    "    \"p\": [2, 3]\n",
    "}"
   ]
  },
  {
   "cell_type": "code",
   "execution_count": 25,
   "id": "05491ee1-3d6b-4e66-a525-7df358c35e90",
   "metadata": {},
   "outputs": [],
   "source": [
    "neig_gridsearch = GridSearchCV(neig_classifier, param_grid=params, n_jobs=-1, cv=5, verbose=1)"
   ]
  },
  {
   "cell_type": "code",
   "execution_count": 26,
   "id": "401898af-eb29-45f8-baed-f6cb9ee328f4",
   "metadata": {},
   "outputs": [
    {
     "name": "stdout",
     "output_type": "stream",
     "text": [
      "Fitting 5 folds for each of 8 candidates, totalling 40 fits\n"
     ]
    }
   ],
   "source": [
    "model = neig_gridsearch.fit(X_train, y_train)"
   ]
  },
  {
   "cell_type": "code",
   "execution_count": 27,
   "id": "3a339638-4342-42c9-8a31-364714b907e0",
   "metadata": {
    "tags": []
   },
   "outputs": [
    {
     "data": {
      "text/plain": [
       "{'n_neighbors': 5, 'p': 2, 'weights': 'distance'}"
      ]
     },
     "execution_count": 27,
     "metadata": {},
     "output_type": "execute_result"
    }
   ],
   "source": [
    "model.best_params_"
   ]
  },
  {
   "cell_type": "code",
   "execution_count": 28,
   "id": "f2b519ac-4df1-424c-8eb1-75419281c2d2",
   "metadata": {},
   "outputs": [
    {
     "data": {
      "text/plain": [
       "0.8485663182954113"
      ]
     },
     "execution_count": 28,
     "metadata": {},
     "output_type": "execute_result"
    }
   ],
   "source": [
    "model.best_score_"
   ]
  },
  {
   "cell_type": "code",
   "execution_count": 29,
   "id": "d3d7693e-9939-4efe-94b5-90441287d5c5",
   "metadata": {},
   "outputs": [
    {
     "data": {
      "text/plain": [
       "0.852"
      ]
     },
     "execution_count": 29,
     "metadata": {},
     "output_type": "execute_result"
    }
   ],
   "source": [
    "model.best_estimator_.score(X_test, y_test)"
   ]
  },
  {
   "cell_type": "code",
   "execution_count": 30,
   "id": "4b69e9b4-09e5-4b17-85ab-e9415376abc1",
   "metadata": {},
   "outputs": [],
   "source": [
    "params = {\n",
    "    \"n_neighbors\": range(6, 10),\n",
    "    \"weights\": [\"distance\"],\n",
    "    \"p\": [1, 3]\n",
    "}"
   ]
  },
  {
   "cell_type": "code",
   "execution_count": 31,
   "id": "8f71e59c-6c5c-46b5-89bf-ac288555731d",
   "metadata": {},
   "outputs": [],
   "source": [
    "neig_gridsearch = GridSearchCV(neig_classifier, param_grid=params, n_jobs=-1, cv=5, verbose=1)"
   ]
  },
  {
   "cell_type": "code",
   "execution_count": 32,
   "id": "4fdfcc3c-44bc-4119-9287-281a29f44ea2",
   "metadata": {},
   "outputs": [
    {
     "name": "stdout",
     "output_type": "stream",
     "text": [
      "Fitting 5 folds for each of 8 candidates, totalling 40 fits\n"
     ]
    }
   ],
   "source": [
    "model = neig_gridsearch.fit(X_train, y_train)"
   ]
  },
  {
   "cell_type": "code",
   "execution_count": 33,
   "id": "9bd4dea3-793a-4233-928a-63ae29bf3c04",
   "metadata": {
    "tags": []
   },
   "outputs": [
    {
     "data": {
      "text/plain": [
       "{'n_neighbors': 9, 'p': 1, 'weights': 'distance'}"
      ]
     },
     "execution_count": 33,
     "metadata": {},
     "output_type": "execute_result"
    }
   ],
   "source": [
    "model.best_params_"
   ]
  },
  {
   "cell_type": "code",
   "execution_count": 34,
   "id": "6a488548-0910-4a57-8770-3bd01c30d6a3",
   "metadata": {},
   "outputs": [
    {
     "data": {
      "text/plain": [
       "0.8570431444400819"
      ]
     },
     "execution_count": 34,
     "metadata": {},
     "output_type": "execute_result"
    }
   ],
   "source": [
    "model.best_score_"
   ]
  },
  {
   "cell_type": "code",
   "execution_count": 35,
   "id": "40a9c076-b84c-4301-88e4-d7093235908b",
   "metadata": {},
   "outputs": [
    {
     "data": {
      "text/plain": [
       "0.856"
      ]
     },
     "execution_count": 35,
     "metadata": {},
     "output_type": "execute_result"
    }
   ],
   "source": [
    "model.best_estimator_.score(X_test, y_test)"
   ]
  },
  {
   "cell_type": "markdown",
   "id": "7873c150-ef4a-4deb-85f6-b41da6202675",
   "metadata": {},
   "source": [
    "    Normalize the data"
   ]
  },
  {
   "cell_type": "code",
   "execution_count": 36,
   "id": "5783683e-71d4-4223-a86a-25a5666db3fb",
   "metadata": {},
   "outputs": [
    {
     "data": {
      "text/html": [
       "<div>\n",
       "<style scoped>\n",
       "    .dataframe tbody tr th:only-of-type {\n",
       "        vertical-align: middle;\n",
       "    }\n",
       "\n",
       "    .dataframe tbody tr th {\n",
       "        vertical-align: top;\n",
       "    }\n",
       "\n",
       "    .dataframe thead th {\n",
       "        text-align: right;\n",
       "    }\n",
       "</style>\n",
       "<table border=\"1\" class=\"dataframe\">\n",
       "  <thead>\n",
       "    <tr style=\"text-align: right;\">\n",
       "      <th></th>\n",
       "      <th>account length</th>\n",
       "      <th>area code</th>\n",
       "      <th>international plan</th>\n",
       "      <th>voice mail plan</th>\n",
       "      <th>number vmail messages</th>\n",
       "      <th>total day calls</th>\n",
       "      <th>total day charge</th>\n",
       "      <th>total eve calls</th>\n",
       "      <th>total eve charge</th>\n",
       "      <th>total night calls</th>\n",
       "      <th>total night charge</th>\n",
       "      <th>total intl calls</th>\n",
       "      <th>total intl charge</th>\n",
       "      <th>customer service calls</th>\n",
       "    </tr>\n",
       "  </thead>\n",
       "  <tbody>\n",
       "    <tr>\n",
       "      <th>88</th>\n",
       "      <td>74</td>\n",
       "      <td>415</td>\n",
       "      <td>0</td>\n",
       "      <td>1</td>\n",
       "      <td>35</td>\n",
       "      <td>104</td>\n",
       "      <td>26.20</td>\n",
       "      <td>84</td>\n",
       "      <td>10.49</td>\n",
       "      <td>57</td>\n",
       "      <td>9.09</td>\n",
       "      <td>9</td>\n",
       "      <td>2.94</td>\n",
       "      <td>2</td>\n",
       "    </tr>\n",
       "    <tr>\n",
       "      <th>278</th>\n",
       "      <td>131</td>\n",
       "      <td>415</td>\n",
       "      <td>0</td>\n",
       "      <td>1</td>\n",
       "      <td>25</td>\n",
       "      <td>85</td>\n",
       "      <td>32.76</td>\n",
       "      <td>105</td>\n",
       "      <td>19.20</td>\n",
       "      <td>59</td>\n",
       "      <td>11.44</td>\n",
       "      <td>6</td>\n",
       "      <td>2.94</td>\n",
       "      <td>2</td>\n",
       "    </tr>\n",
       "    <tr>\n",
       "      <th>1437</th>\n",
       "      <td>126</td>\n",
       "      <td>415</td>\n",
       "      <td>1</td>\n",
       "      <td>1</td>\n",
       "      <td>34</td>\n",
       "      <td>118</td>\n",
       "      <td>41.63</td>\n",
       "      <td>105</td>\n",
       "      <td>18.67</td>\n",
       "      <td>136</td>\n",
       "      <td>9.49</td>\n",
       "      <td>6</td>\n",
       "      <td>2.62</td>\n",
       "      <td>4</td>\n",
       "    </tr>\n",
       "    <tr>\n",
       "      <th>166</th>\n",
       "      <td>185</td>\n",
       "      <td>510</td>\n",
       "      <td>0</td>\n",
       "      <td>1</td>\n",
       "      <td>31</td>\n",
       "      <td>126</td>\n",
       "      <td>32.27</td>\n",
       "      <td>133</td>\n",
       "      <td>13.88</td>\n",
       "      <td>126</td>\n",
       "      <td>11.92</td>\n",
       "      <td>3</td>\n",
       "      <td>2.03</td>\n",
       "      <td>1</td>\n",
       "    </tr>\n",
       "    <tr>\n",
       "      <th>2560</th>\n",
       "      <td>61</td>\n",
       "      <td>415</td>\n",
       "      <td>0</td>\n",
       "      <td>0</td>\n",
       "      <td>0</td>\n",
       "      <td>67</td>\n",
       "      <td>33.54</td>\n",
       "      <td>106</td>\n",
       "      <td>22.48</td>\n",
       "      <td>116</td>\n",
       "      <td>9.47</td>\n",
       "      <td>6</td>\n",
       "      <td>2.43</td>\n",
       "      <td>1</td>\n",
       "    </tr>\n",
       "  </tbody>\n",
       "</table>\n",
       "</div>"
      ],
      "text/plain": [
       "      account length  area code  international plan  voice mail plan  \\\n",
       "88                74        415                   0                1   \n",
       "278              131        415                   0                1   \n",
       "1437             126        415                   1                1   \n",
       "166              185        510                   0                1   \n",
       "2560              61        415                   0                0   \n",
       "\n",
       "      number vmail messages  total day calls  total day charge  \\\n",
       "88                       35              104             26.20   \n",
       "278                      25               85             32.76   \n",
       "1437                     34              118             41.63   \n",
       "166                      31              126             32.27   \n",
       "2560                      0               67             33.54   \n",
       "\n",
       "      total eve calls  total eve charge  total night calls  \\\n",
       "88                 84             10.49                 57   \n",
       "278               105             19.20                 59   \n",
       "1437              105             18.67                136   \n",
       "166               133             13.88                126   \n",
       "2560              106             22.48                116   \n",
       "\n",
       "      total night charge  total intl calls  total intl charge  \\\n",
       "88                  9.09                 9               2.94   \n",
       "278                11.44                 6               2.94   \n",
       "1437                9.49                 6               2.62   \n",
       "166                11.92                 3               2.03   \n",
       "2560                9.47                 6               2.43   \n",
       "\n",
       "      customer service calls  \n",
       "88                         2  \n",
       "278                        2  \n",
       "1437                       4  \n",
       "166                        1  \n",
       "2560                       1  "
      ]
     },
     "execution_count": 36,
     "metadata": {},
     "output_type": "execute_result"
    }
   ],
   "source": [
    "X_train.head()"
   ]
  },
  {
   "cell_type": "code",
   "execution_count": 37,
   "id": "caf8d702-d447-4ae6-ae53-dbddf28009ee",
   "metadata": {},
   "outputs": [],
   "source": [
    "from sklearn.preprocessing import MinMaxScaler"
   ]
  },
  {
   "cell_type": "code",
   "execution_count": 38,
   "id": "af5f487d-ea41-4f55-b4e3-2768a4895af5",
   "metadata": {},
   "outputs": [],
   "source": [
    "scaler = MinMaxScaler().fit(X_train)"
   ]
  },
  {
   "cell_type": "code",
   "execution_count": 39,
   "id": "24d7709c-e3e6-4436-a426-a2652b9666c5",
   "metadata": {},
   "outputs": [],
   "source": [
    "X_train_scaled = scaler.transform(X_train)\n",
    "X_test_scaled = scaler.transform(X_test)"
   ]
  },
  {
   "cell_type": "code",
   "execution_count": 40,
   "id": "cb830ec2-347c-458d-8a17-b1afc8495e0f",
   "metadata": {},
   "outputs": [],
   "source": [
    "X_train_scaled = pd.DataFrame(X_train_scaled, columns=X.columns)\n",
    "X_test_scaled = pd.DataFrame(X_test_scaled, columns=X.columns)"
   ]
  },
  {
   "cell_type": "code",
   "execution_count": 41,
   "id": "a167885c-3046-4424-92c3-494a9c132c4e",
   "metadata": {},
   "outputs": [
    {
     "data": {
      "text/html": [
       "<div>\n",
       "<style scoped>\n",
       "    .dataframe tbody tr th:only-of-type {\n",
       "        vertical-align: middle;\n",
       "    }\n",
       "\n",
       "    .dataframe tbody tr th {\n",
       "        vertical-align: top;\n",
       "    }\n",
       "\n",
       "    .dataframe thead th {\n",
       "        text-align: right;\n",
       "    }\n",
       "</style>\n",
       "<table border=\"1\" class=\"dataframe\">\n",
       "  <thead>\n",
       "    <tr style=\"text-align: right;\">\n",
       "      <th></th>\n",
       "      <th>account length</th>\n",
       "      <th>area code</th>\n",
       "      <th>international plan</th>\n",
       "      <th>voice mail plan</th>\n",
       "      <th>number vmail messages</th>\n",
       "      <th>total day calls</th>\n",
       "      <th>total day charge</th>\n",
       "      <th>total eve calls</th>\n",
       "      <th>total eve charge</th>\n",
       "      <th>total night calls</th>\n",
       "      <th>total night charge</th>\n",
       "      <th>total intl calls</th>\n",
       "      <th>total intl charge</th>\n",
       "      <th>customer service calls</th>\n",
       "    </tr>\n",
       "  </thead>\n",
       "  <tbody>\n",
       "    <tr>\n",
       "      <th>count</th>\n",
       "      <td>2833.000000</td>\n",
       "      <td>2833.000000</td>\n",
       "      <td>2833.000000</td>\n",
       "      <td>2833.000000</td>\n",
       "      <td>2833.000000</td>\n",
       "      <td>2833.000000</td>\n",
       "      <td>2833.000000</td>\n",
       "      <td>2833.000000</td>\n",
       "      <td>2833.000000</td>\n",
       "      <td>2833.000000</td>\n",
       "      <td>2833.000000</td>\n",
       "      <td>2833.000000</td>\n",
       "      <td>2833.000000</td>\n",
       "      <td>2833.000000</td>\n",
       "    </tr>\n",
       "    <tr>\n",
       "      <th>mean</th>\n",
       "      <td>0.412616</td>\n",
       "      <td>0.283362</td>\n",
       "      <td>0.096717</td>\n",
       "      <td>0.276032</td>\n",
       "      <td>0.158939</td>\n",
       "      <td>0.522435</td>\n",
       "      <td>0.508246</td>\n",
       "      <td>0.588111</td>\n",
       "      <td>0.551999</td>\n",
       "      <td>0.470235</td>\n",
       "      <td>0.477358</td>\n",
       "      <td>0.234733</td>\n",
       "      <td>0.512141</td>\n",
       "      <td>0.174099</td>\n",
       "    </tr>\n",
       "    <tr>\n",
       "      <th>std</th>\n",
       "      <td>0.164370</td>\n",
       "      <td>0.413904</td>\n",
       "      <td>0.295625</td>\n",
       "      <td>0.447112</td>\n",
       "      <td>0.268956</td>\n",
       "      <td>0.146848</td>\n",
       "      <td>0.155630</td>\n",
       "      <td>0.117866</td>\n",
       "      <td>0.138954</td>\n",
       "      <td>0.137428</td>\n",
       "      <td>0.135870</td>\n",
       "      <td>0.128737</td>\n",
       "      <td>0.138976</td>\n",
       "      <td>0.147306</td>\n",
       "    </tr>\n",
       "    <tr>\n",
       "      <th>min</th>\n",
       "      <td>0.000000</td>\n",
       "      <td>0.000000</td>\n",
       "      <td>0.000000</td>\n",
       "      <td>0.000000</td>\n",
       "      <td>0.000000</td>\n",
       "      <td>0.000000</td>\n",
       "      <td>0.000000</td>\n",
       "      <td>0.000000</td>\n",
       "      <td>0.000000</td>\n",
       "      <td>0.000000</td>\n",
       "      <td>0.000000</td>\n",
       "      <td>0.000000</td>\n",
       "      <td>0.000000</td>\n",
       "      <td>0.000000</td>\n",
       "    </tr>\n",
       "    <tr>\n",
       "      <th>25%</th>\n",
       "      <td>0.301653</td>\n",
       "      <td>0.000000</td>\n",
       "      <td>0.000000</td>\n",
       "      <td>0.000000</td>\n",
       "      <td>0.000000</td>\n",
       "      <td>0.429630</td>\n",
       "      <td>0.403716</td>\n",
       "      <td>0.511765</td>\n",
       "      <td>0.456487</td>\n",
       "      <td>0.373239</td>\n",
       "      <td>0.387328</td>\n",
       "      <td>0.157895</td>\n",
       "      <td>0.425926</td>\n",
       "      <td>0.111111</td>\n",
       "    </tr>\n",
       "    <tr>\n",
       "      <th>50%</th>\n",
       "      <td>0.409091</td>\n",
       "      <td>0.068627</td>\n",
       "      <td>0.000000</td>\n",
       "      <td>0.000000</td>\n",
       "      <td>0.000000</td>\n",
       "      <td>0.525926</td>\n",
       "      <td>0.506926</td>\n",
       "      <td>0.588235</td>\n",
       "      <td>0.553543</td>\n",
       "      <td>0.471831</td>\n",
       "      <td>0.478183</td>\n",
       "      <td>0.210526</td>\n",
       "      <td>0.514815</td>\n",
       "      <td>0.111111</td>\n",
       "    </tr>\n",
       "    <tr>\n",
       "      <th>75%</th>\n",
       "      <td>0.520661</td>\n",
       "      <td>0.068627</td>\n",
       "      <td>0.000000</td>\n",
       "      <td>1.000000</td>\n",
       "      <td>0.392157</td>\n",
       "      <td>0.622222</td>\n",
       "      <td>0.614020</td>\n",
       "      <td>0.664706</td>\n",
       "      <td>0.643805</td>\n",
       "      <td>0.563380</td>\n",
       "      <td>0.570831</td>\n",
       "      <td>0.315789</td>\n",
       "      <td>0.600000</td>\n",
       "      <td>0.222222</td>\n",
       "    </tr>\n",
       "    <tr>\n",
       "      <th>max</th>\n",
       "      <td>1.000000</td>\n",
       "      <td>1.000000</td>\n",
       "      <td>1.000000</td>\n",
       "      <td>1.000000</td>\n",
       "      <td>1.000000</td>\n",
       "      <td>1.000000</td>\n",
       "      <td>1.000000</td>\n",
       "      <td>1.000000</td>\n",
       "      <td>1.000000</td>\n",
       "      <td>1.000000</td>\n",
       "      <td>1.000000</td>\n",
       "      <td>1.000000</td>\n",
       "      <td>1.000000</td>\n",
       "      <td>1.000000</td>\n",
       "    </tr>\n",
       "  </tbody>\n",
       "</table>\n",
       "</div>"
      ],
      "text/plain": [
       "       account length    area code  international plan  voice mail plan  \\\n",
       "count     2833.000000  2833.000000         2833.000000      2833.000000   \n",
       "mean         0.412616     0.283362            0.096717         0.276032   \n",
       "std          0.164370     0.413904            0.295625         0.447112   \n",
       "min          0.000000     0.000000            0.000000         0.000000   \n",
       "25%          0.301653     0.000000            0.000000         0.000000   \n",
       "50%          0.409091     0.068627            0.000000         0.000000   \n",
       "75%          0.520661     0.068627            0.000000         1.000000   \n",
       "max          1.000000     1.000000            1.000000         1.000000   \n",
       "\n",
       "       number vmail messages  total day calls  total day charge  \\\n",
       "count            2833.000000      2833.000000       2833.000000   \n",
       "mean                0.158939         0.522435          0.508246   \n",
       "std                 0.268956         0.146848          0.155630   \n",
       "min                 0.000000         0.000000          0.000000   \n",
       "25%                 0.000000         0.429630          0.403716   \n",
       "50%                 0.000000         0.525926          0.506926   \n",
       "75%                 0.392157         0.622222          0.614020   \n",
       "max                 1.000000         1.000000          1.000000   \n",
       "\n",
       "       total eve calls  total eve charge  total night calls  \\\n",
       "count      2833.000000       2833.000000        2833.000000   \n",
       "mean          0.588111          0.551999           0.470235   \n",
       "std           0.117866          0.138954           0.137428   \n",
       "min           0.000000          0.000000           0.000000   \n",
       "25%           0.511765          0.456487           0.373239   \n",
       "50%           0.588235          0.553543           0.471831   \n",
       "75%           0.664706          0.643805           0.563380   \n",
       "max           1.000000          1.000000           1.000000   \n",
       "\n",
       "       total night charge  total intl calls  total intl charge  \\\n",
       "count         2833.000000       2833.000000        2833.000000   \n",
       "mean             0.477358          0.234733           0.512141   \n",
       "std              0.135870          0.128737           0.138976   \n",
       "min              0.000000          0.000000           0.000000   \n",
       "25%              0.387328          0.157895           0.425926   \n",
       "50%              0.478183          0.210526           0.514815   \n",
       "75%              0.570831          0.315789           0.600000   \n",
       "max              1.000000          1.000000           1.000000   \n",
       "\n",
       "       customer service calls  \n",
       "count             2833.000000  \n",
       "mean                 0.174099  \n",
       "std                  0.147306  \n",
       "min                  0.000000  \n",
       "25%                  0.111111  \n",
       "50%                  0.111111  \n",
       "75%                  0.222222  \n",
       "max                  1.000000  "
      ]
     },
     "execution_count": 41,
     "metadata": {},
     "output_type": "execute_result"
    }
   ],
   "source": [
    "X_train_scaled.describe()"
   ]
  },
  {
   "cell_type": "code",
   "execution_count": 42,
   "id": "dbb3567a-6e4c-46c4-b6d8-fd267f635c1b",
   "metadata": {},
   "outputs": [
    {
     "data": {
      "text/html": [
       "<div>\n",
       "<style scoped>\n",
       "    .dataframe tbody tr th:only-of-type {\n",
       "        vertical-align: middle;\n",
       "    }\n",
       "\n",
       "    .dataframe tbody tr th {\n",
       "        vertical-align: top;\n",
       "    }\n",
       "\n",
       "    .dataframe thead th {\n",
       "        text-align: right;\n",
       "    }\n",
       "</style>\n",
       "<table border=\"1\" class=\"dataframe\">\n",
       "  <thead>\n",
       "    <tr style=\"text-align: right;\">\n",
       "      <th></th>\n",
       "      <th>account length</th>\n",
       "      <th>area code</th>\n",
       "      <th>international plan</th>\n",
       "      <th>voice mail plan</th>\n",
       "      <th>number vmail messages</th>\n",
       "      <th>total day calls</th>\n",
       "      <th>total day charge</th>\n",
       "      <th>total eve calls</th>\n",
       "      <th>total eve charge</th>\n",
       "      <th>total night calls</th>\n",
       "      <th>total night charge</th>\n",
       "      <th>total intl calls</th>\n",
       "      <th>total intl charge</th>\n",
       "      <th>customer service calls</th>\n",
       "    </tr>\n",
       "  </thead>\n",
       "  <tbody>\n",
       "    <tr>\n",
       "      <th>count</th>\n",
       "      <td>500.000000</td>\n",
       "      <td>500.000000</td>\n",
       "      <td>500.000000</td>\n",
       "      <td>500.000000</td>\n",
       "      <td>500.000000</td>\n",
       "      <td>500.000000</td>\n",
       "      <td>500.000000</td>\n",
       "      <td>500.000000</td>\n",
       "      <td>500.000000</td>\n",
       "      <td>500.000000</td>\n",
       "      <td>500.000000</td>\n",
       "      <td>500.000000</td>\n",
       "      <td>500.000000</td>\n",
       "      <td>500.000000</td>\n",
       "    </tr>\n",
       "    <tr>\n",
       "      <th>mean</th>\n",
       "      <td>0.418446</td>\n",
       "      <td>0.301627</td>\n",
       "      <td>0.098000</td>\n",
       "      <td>0.280000</td>\n",
       "      <td>0.158039</td>\n",
       "      <td>0.517837</td>\n",
       "      <td>0.512092</td>\n",
       "      <td>0.593424</td>\n",
       "      <td>0.556582</td>\n",
       "      <td>0.485930</td>\n",
       "      <td>0.482591</td>\n",
       "      <td>0.241579</td>\n",
       "      <td>0.510933</td>\n",
       "      <td>0.171111</td>\n",
       "    </tr>\n",
       "    <tr>\n",
       "      <th>std</th>\n",
       "      <td>0.165669</td>\n",
       "      <td>0.423896</td>\n",
       "      <td>0.297612</td>\n",
       "      <td>0.449449</td>\n",
       "      <td>0.265490</td>\n",
       "      <td>0.158633</td>\n",
       "      <td>0.160877</td>\n",
       "      <td>0.113307</td>\n",
       "      <td>0.142363</td>\n",
       "      <td>0.139322</td>\n",
       "      <td>0.137022</td>\n",
       "      <td>0.133966</td>\n",
       "      <td>0.143140</td>\n",
       "      <td>0.139645</td>\n",
       "    </tr>\n",
       "    <tr>\n",
       "      <th>min</th>\n",
       "      <td>0.000000</td>\n",
       "      <td>0.000000</td>\n",
       "      <td>0.000000</td>\n",
       "      <td>0.000000</td>\n",
       "      <td>0.000000</td>\n",
       "      <td>-0.222222</td>\n",
       "      <td>-0.007432</td>\n",
       "      <td>0.282353</td>\n",
       "      <td>0.085733</td>\n",
       "      <td>0.091549</td>\n",
       "      <td>0.055589</td>\n",
       "      <td>0.000000</td>\n",
       "      <td>0.000000</td>\n",
       "      <td>0.000000</td>\n",
       "    </tr>\n",
       "    <tr>\n",
       "      <th>25%</th>\n",
       "      <td>0.305785</td>\n",
       "      <td>0.068627</td>\n",
       "      <td>0.000000</td>\n",
       "      <td>0.000000</td>\n",
       "      <td>0.000000</td>\n",
       "      <td>0.420370</td>\n",
       "      <td>0.415160</td>\n",
       "      <td>0.517647</td>\n",
       "      <td>0.461501</td>\n",
       "      <td>0.394366</td>\n",
       "      <td>0.386282</td>\n",
       "      <td>0.157895</td>\n",
       "      <td>0.414815</td>\n",
       "      <td>0.111111</td>\n",
       "    </tr>\n",
       "    <tr>\n",
       "      <th>50%</th>\n",
       "      <td>0.421488</td>\n",
       "      <td>0.068627</td>\n",
       "      <td>0.000000</td>\n",
       "      <td>0.000000</td>\n",
       "      <td>0.000000</td>\n",
       "      <td>0.518519</td>\n",
       "      <td>0.517230</td>\n",
       "      <td>0.594118</td>\n",
       "      <td>0.555807</td>\n",
       "      <td>0.485915</td>\n",
       "      <td>0.484160</td>\n",
       "      <td>0.210526</td>\n",
       "      <td>0.514815</td>\n",
       "      <td>0.111111</td>\n",
       "    </tr>\n",
       "    <tr>\n",
       "      <th>75%</th>\n",
       "      <td>0.521694</td>\n",
       "      <td>1.000000</td>\n",
       "      <td>0.000000</td>\n",
       "      <td>1.000000</td>\n",
       "      <td>0.392157</td>\n",
       "      <td>0.622222</td>\n",
       "      <td>0.613260</td>\n",
       "      <td>0.670588</td>\n",
       "      <td>0.660709</td>\n",
       "      <td>0.570423</td>\n",
       "      <td>0.571279</td>\n",
       "      <td>0.315789</td>\n",
       "      <td>0.609259</td>\n",
       "      <td>0.222222</td>\n",
       "    </tr>\n",
       "    <tr>\n",
       "      <th>max</th>\n",
       "      <td>0.925620</td>\n",
       "      <td>1.000000</td>\n",
       "      <td>1.000000</td>\n",
       "      <td>1.000000</td>\n",
       "      <td>0.901961</td>\n",
       "      <td>0.948148</td>\n",
       "      <td>0.956081</td>\n",
       "      <td>0.964706</td>\n",
       "      <td>0.909091</td>\n",
       "      <td>0.936620</td>\n",
       "      <td>0.927077</td>\n",
       "      <td>1.052632</td>\n",
       "      <td>0.944444</td>\n",
       "      <td>0.777778</td>\n",
       "    </tr>\n",
       "  </tbody>\n",
       "</table>\n",
       "</div>"
      ],
      "text/plain": [
       "       account length   area code  international plan  voice mail plan  \\\n",
       "count      500.000000  500.000000          500.000000       500.000000   \n",
       "mean         0.418446    0.301627            0.098000         0.280000   \n",
       "std          0.165669    0.423896            0.297612         0.449449   \n",
       "min          0.000000    0.000000            0.000000         0.000000   \n",
       "25%          0.305785    0.068627            0.000000         0.000000   \n",
       "50%          0.421488    0.068627            0.000000         0.000000   \n",
       "75%          0.521694    1.000000            0.000000         1.000000   \n",
       "max          0.925620    1.000000            1.000000         1.000000   \n",
       "\n",
       "       number vmail messages  total day calls  total day charge  \\\n",
       "count             500.000000       500.000000        500.000000   \n",
       "mean                0.158039         0.517837          0.512092   \n",
       "std                 0.265490         0.158633          0.160877   \n",
       "min                 0.000000        -0.222222         -0.007432   \n",
       "25%                 0.000000         0.420370          0.415160   \n",
       "50%                 0.000000         0.518519          0.517230   \n",
       "75%                 0.392157         0.622222          0.613260   \n",
       "max                 0.901961         0.948148          0.956081   \n",
       "\n",
       "       total eve calls  total eve charge  total night calls  \\\n",
       "count       500.000000        500.000000         500.000000   \n",
       "mean          0.593424          0.556582           0.485930   \n",
       "std           0.113307          0.142363           0.139322   \n",
       "min           0.282353          0.085733           0.091549   \n",
       "25%           0.517647          0.461501           0.394366   \n",
       "50%           0.594118          0.555807           0.485915   \n",
       "75%           0.670588          0.660709           0.570423   \n",
       "max           0.964706          0.909091           0.936620   \n",
       "\n",
       "       total night charge  total intl calls  total intl charge  \\\n",
       "count          500.000000        500.000000         500.000000   \n",
       "mean             0.482591          0.241579           0.510933   \n",
       "std              0.137022          0.133966           0.143140   \n",
       "min              0.055589          0.000000           0.000000   \n",
       "25%              0.386282          0.157895           0.414815   \n",
       "50%              0.484160          0.210526           0.514815   \n",
       "75%              0.571279          0.315789           0.609259   \n",
       "max              0.927077          1.052632           0.944444   \n",
       "\n",
       "       customer service calls  \n",
       "count              500.000000  \n",
       "mean                 0.171111  \n",
       "std                  0.139645  \n",
       "min                  0.000000  \n",
       "25%                  0.111111  \n",
       "50%                  0.111111  \n",
       "75%                  0.222222  \n",
       "max                  0.777778  "
      ]
     },
     "execution_count": 42,
     "metadata": {},
     "output_type": "execute_result"
    }
   ],
   "source": [
    "X_test_scaled.describe()"
   ]
  },
  {
   "cell_type": "code",
   "execution_count": 43,
   "id": "b38a2791-88df-481d-80dd-39025f591e8b",
   "metadata": {},
   "outputs": [],
   "source": [
    "neig_classifier = KNeighborsClassifier() # with default parameters"
   ]
  },
  {
   "cell_type": "code",
   "execution_count": 44,
   "id": "4f34ef88-f582-47d5-bd6e-de08e13e0228",
   "metadata": {},
   "outputs": [
    {
     "data": {
      "text/plain": [
       "KNeighborsClassifier()"
      ]
     },
     "execution_count": 44,
     "metadata": {},
     "output_type": "execute_result"
    }
   ],
   "source": [
    "neig_classifier.fit(X_train_scaled, y_train)"
   ]
  },
  {
   "cell_type": "code",
   "execution_count": 45,
   "id": "891d1396-5e9c-4de5-ad7a-a13f95a253ff",
   "metadata": {},
   "outputs": [
    {
     "data": {
      "text/plain": [
       "0.9170490645958348"
      ]
     },
     "execution_count": 45,
     "metadata": {},
     "output_type": "execute_result"
    }
   ],
   "source": [
    "neig_classifier.score(X_train_scaled, y_train)"
   ]
  },
  {
   "cell_type": "code",
   "execution_count": 46,
   "id": "b58bd56b-c07f-4d36-ad25-98068d92cb1f",
   "metadata": {},
   "outputs": [
    {
     "data": {
      "text/plain": [
       "0.882"
      ]
     },
     "execution_count": 46,
     "metadata": {},
     "output_type": "execute_result"
    }
   ],
   "source": [
    "neig_classifier.score(X_test_scaled, y_test)"
   ]
  },
  {
   "cell_type": "code",
   "execution_count": 47,
   "id": "f7645a9b-0f1a-4f0b-9ba4-827c76c91cb3",
   "metadata": {},
   "outputs": [
    {
     "data": {
      "text/plain": [
       "0.8841903372638005"
      ]
     },
     "execution_count": 47,
     "metadata": {},
     "output_type": "execute_result"
    }
   ],
   "source": [
    "cross_val_score(neig_classifier, pd.concat([X_train_scaled, X_test_scaled]), pd.concat([y_train, y_test]), cv=5).mean()"
   ]
  },
  {
   "cell_type": "code",
   "execution_count": 48,
   "id": "78cdb066-08c2-412f-96f7-7787a319e6f8",
   "metadata": {},
   "outputs": [],
   "source": [
    "params = {\n",
    "    \"n_neighbors\": range(2, 6),\n",
    "    \"weights\": [\"distance\"],\n",
    "    \"p\": [2, 3]\n",
    "}"
   ]
  },
  {
   "cell_type": "code",
   "execution_count": 49,
   "id": "1fd3ee1f-79d3-491a-a594-9cf561687827",
   "metadata": {},
   "outputs": [],
   "source": [
    "neig_gridsearch = GridSearchCV(neig_classifier, param_grid=params, n_jobs=-1, cv=5, verbose=1)"
   ]
  },
  {
   "cell_type": "code",
   "execution_count": 50,
   "id": "164c4a30-d046-42c5-ad89-085e2c946492",
   "metadata": {},
   "outputs": [
    {
     "name": "stdout",
     "output_type": "stream",
     "text": [
      "Fitting 5 folds for each of 8 candidates, totalling 40 fits\n"
     ]
    }
   ],
   "source": [
    "model = neig_gridsearch.fit(X_train_scaled, y_train)"
   ]
  },
  {
   "cell_type": "code",
   "execution_count": 51,
   "id": "d1bf77b2-714d-4444-8568-6151ea28f7ad",
   "metadata": {
    "tags": []
   },
   "outputs": [
    {
     "data": {
      "text/plain": [
       "{'n_neighbors': 3, 'p': 3, 'weights': 'distance'}"
      ]
     },
     "execution_count": 51,
     "metadata": {},
     "output_type": "execute_result"
    }
   ],
   "source": [
    "model.best_params_"
   ]
  },
  {
   "cell_type": "code",
   "execution_count": 52,
   "id": "6e7bd935-30f4-42f9-9565-51f38b884375",
   "metadata": {},
   "outputs": [
    {
     "data": {
      "text/plain": [
       "0.8824549267423236"
      ]
     },
     "execution_count": 52,
     "metadata": {},
     "output_type": "execute_result"
    }
   ],
   "source": [
    "model.best_score_"
   ]
  },
  {
   "cell_type": "code",
   "execution_count": 53,
   "id": "b225de0c-3d9a-4884-817e-1f873b9ceaec",
   "metadata": {},
   "outputs": [
    {
     "data": {
      "text/plain": [
       "0.89"
      ]
     },
     "execution_count": 53,
     "metadata": {},
     "output_type": "execute_result"
    }
   ],
   "source": [
    "model.best_estimator_.score(X_test_scaled, y_test)"
   ]
  },
  {
   "cell_type": "code",
   "execution_count": 54,
   "id": "639e6ed0-bc2d-4adb-a0b9-d97ac673735a",
   "metadata": {},
   "outputs": [],
   "source": [
    "neig_classifier = KNeighborsClassifier(**{'n_neighbors': 3, 'p': 3, 'weights': 'distance'}) # with default parameters"
   ]
  },
  {
   "cell_type": "code",
   "execution_count": 55,
   "id": "92cb66fa-d006-444f-9c44-036f073bec03",
   "metadata": {},
   "outputs": [
    {
     "data": {
      "text/plain": [
       "KNeighborsClassifier(n_neighbors=3, p=3, weights='distance')"
      ]
     },
     "execution_count": 55,
     "metadata": {},
     "output_type": "execute_result"
    }
   ],
   "source": [
    "neig_classifier.fit(X_train_scaled, y_train)"
   ]
  },
  {
   "cell_type": "code",
   "execution_count": 56,
   "id": "256657d7-70cf-4aa7-b48d-6200711634fb",
   "metadata": {},
   "outputs": [
    {
     "data": {
      "text/plain": [
       "1.0"
      ]
     },
     "execution_count": 56,
     "metadata": {},
     "output_type": "execute_result"
    }
   ],
   "source": [
    "neig_classifier.score(X_train_scaled, y_train)"
   ]
  },
  {
   "cell_type": "code",
   "execution_count": 57,
   "id": "9527935c-e77f-4a78-a3bb-a23d65b8e225",
   "metadata": {},
   "outputs": [
    {
     "data": {
      "text/plain": [
       "0.89"
      ]
     },
     "execution_count": 57,
     "metadata": {},
     "output_type": "execute_result"
    }
   ],
   "source": [
    "neig_classifier.score(X_test_scaled, y_test)"
   ]
  },
  {
   "cell_type": "code",
   "execution_count": 58,
   "id": "c415b089-ccb5-40eb-b3f7-a413d739c523",
   "metadata": {},
   "outputs": [
    {
     "data": {
      "text/plain": [
       "0.8796885341113228"
      ]
     },
     "execution_count": 58,
     "metadata": {},
     "output_type": "execute_result"
    }
   ],
   "source": [
    "cross_val_score(neig_classifier, pd.concat([X_train_scaled, X_test_scaled]), pd.concat([y_train, y_test]), cv=5).mean()"
   ]
  },
  {
   "cell_type": "markdown",
   "id": "8efa3cba-be5e-4839-bd87-7932383fd3f1",
   "metadata": {},
   "source": [
    "    С преобработованными параметрами результаты намного лучше, чем без 0.856 vs 0.879 при GridSearch-е"
   ]
  },
  {
   "cell_type": "code",
   "execution_count": 59,
   "id": "516c4418-3936-4646-8135-b19fb1ba0e94",
   "metadata": {},
   "outputs": [],
   "source": [
    "from typing import Iterable"
   ]
  },
  {
   "cell_type": "code",
   "execution_count": 121,
   "id": "b80bf50a-6238-469b-86fe-791cb05199e0",
   "metadata": {},
   "outputs": [],
   "source": [
    "def plot_validation_curve(estimator, parameter: str, paramerter_range: Iterable, X_train, y_train, X_test, y_test, cv=5):\n",
    "    from sklearn.model_selection import cross_val_score\n",
    "\n",
    "    cv_scores = []\n",
    "    test_scores = []\n",
    "    \n",
    "    for value in paramerter_range:\n",
    "        est = estimator(**{parameter: value})\n",
    "        cv_scores.append(cross_val_score(est, X_train, y_train, cv=cv).mean())\n",
    "        est.fit(X_train, y_train)\n",
    "        test_scores.append(est.score(X_test, y_test))\n",
    "    \n",
    "    plt.plot(paramerter_range, cv_scores, label=\"CV\")\n",
    "    plt.plot(paramerter_range, test_scores, label=\"test\")\n",
    "    plt.legend()"
   ]
  },
  {
   "cell_type": "code",
   "execution_count": 61,
   "id": "6abeaea6-1a63-445b-9f2d-55ab31c8f871",
   "metadata": {},
   "outputs": [
    {
     "data": {
      "image/png": "[encoded data removed]",
      "text/plain": [
       "<Figure size 432x288 with 1 Axes>"
      ]
     },
     "metadata": {
      "needs_background": "light"
     },
     "output_type": "display_data"
    }
   ],
   "source": [
    "plot_validation_curve(KNeighborsClassifier, \"n_neighbors\", range(1, 20), X_train_scaled, y_train, X_test_scaled, y_test)"
   ]
  },
  {
   "cell_type": "code",
   "execution_count": 62,
   "id": "d9e44fda-14af-459f-ba00-a3e0a0203527",
   "metadata": {},
   "outputs": [
    {
     "data": {
      "image/png": "[encoded data removed]",
      "text/plain": [
       "<Figure size 432x288 with 1 Axes>"
      ]
     },
     "metadata": {
      "needs_background": "light"
     },
     "output_type": "display_data"
    }
   ],
   "source": [
    "plot_validation_curve(KNeighborsClassifier, \"p\", range(1, 6), X_train_scaled, y_train, X_test_scaled, y_test)"
   ]
  },
  {
   "cell_type": "markdown",
   "id": "23098f85",
   "metadata": {},
   "source": [
    "### 1.2 Классификация ириса из датасет iris. "
   ]
  },
  {
   "cell_type": "markdown",
   "id": "6f8fcc3c",
   "metadata": {},
   "source": [
    "Предскажите вид ириса по его параметрам."
   ]
  },
  {
   "cell_type": "code",
   "execution_count": 63,
   "id": "3583a46c-93f0-4635-b7ff-af83c1c777e4",
   "metadata": {},
   "outputs": [],
   "source": [
    "iris = sns.load_dataset('iris')"
   ]
  },
  {
   "cell_type": "code",
   "execution_count": 64,
   "id": "05ab8d09-f02e-48fa-9711-e87a907fff1e",
   "metadata": {},
   "outputs": [
    {
     "data": {
      "text/html": [
       "<div>\n",
       "<style scoped>\n",
       "    .dataframe tbody tr th:only-of-type {\n",
       "        vertical-align: middle;\n",
       "    }\n",
       "\n",
       "    .dataframe tbody tr th {\n",
       "        vertical-align: top;\n",
       "    }\n",
       "\n",
       "    .dataframe thead th {\n",
       "        text-align: right;\n",
       "    }\n",
       "</style>\n",
       "<table border=\"1\" class=\"dataframe\">\n",
       "  <thead>\n",
       "    <tr style=\"text-align: right;\">\n",
       "      <th></th>\n",
       "      <th>sepal_length</th>\n",
       "      <th>sepal_width</th>\n",
       "      <th>petal_length</th>\n",
       "      <th>petal_width</th>\n",
       "      <th>species</th>\n",
       "    </tr>\n",
       "  </thead>\n",
       "  <tbody>\n",
       "    <tr>\n",
       "      <th>0</th>\n",
       "      <td>5.1</td>\n",
       "      <td>3.5</td>\n",
       "      <td>1.4</td>\n",
       "      <td>0.2</td>\n",
       "      <td>setosa</td>\n",
       "    </tr>\n",
       "    <tr>\n",
       "      <th>1</th>\n",
       "      <td>4.9</td>\n",
       "      <td>3.0</td>\n",
       "      <td>1.4</td>\n",
       "      <td>0.2</td>\n",
       "      <td>setosa</td>\n",
       "    </tr>\n",
       "    <tr>\n",
       "      <th>2</th>\n",
       "      <td>4.7</td>\n",
       "      <td>3.2</td>\n",
       "      <td>1.3</td>\n",
       "      <td>0.2</td>\n",
       "      <td>setosa</td>\n",
       "    </tr>\n",
       "    <tr>\n",
       "      <th>3</th>\n",
       "      <td>4.6</td>\n",
       "      <td>3.1</td>\n",
       "      <td>1.5</td>\n",
       "      <td>0.2</td>\n",
       "      <td>setosa</td>\n",
       "    </tr>\n",
       "    <tr>\n",
       "      <th>4</th>\n",
       "      <td>5.0</td>\n",
       "      <td>3.6</td>\n",
       "      <td>1.4</td>\n",
       "      <td>0.2</td>\n",
       "      <td>setosa</td>\n",
       "    </tr>\n",
       "  </tbody>\n",
       "</table>\n",
       "</div>"
      ],
      "text/plain": [
       "   sepal_length  sepal_width  petal_length  petal_width species\n",
       "0           5.1          3.5           1.4          0.2  setosa\n",
       "1           4.9          3.0           1.4          0.2  setosa\n",
       "2           4.7          3.2           1.3          0.2  setosa\n",
       "3           4.6          3.1           1.5          0.2  setosa\n",
       "4           5.0          3.6           1.4          0.2  setosa"
      ]
     },
     "execution_count": 64,
     "metadata": {},
     "output_type": "execute_result"
    }
   ],
   "source": [
    "iris.head()"
   ]
  },
  {
   "cell_type": "code",
   "execution_count": 65,
   "id": "14744419-d834-4c9c-8321-bbc243155bb6",
   "metadata": {},
   "outputs": [],
   "source": [
    "target = \"species\""
   ]
  },
  {
   "cell_type": "code",
   "execution_count": 66,
   "id": "89db3b65-9950-442b-95fc-35e3b84a4e20",
   "metadata": {},
   "outputs": [],
   "source": [
    "y = iris[target]\n",
    "X = iris[iris.columns[~iris.columns.isin([target])]]"
   ]
  },
  {
   "cell_type": "code",
   "execution_count": 67,
   "id": "b4ea3c9f-866c-483c-93e2-020ba1c283bf",
   "metadata": {},
   "outputs": [
    {
     "data": {
      "text/html": [
       "<div>\n",
       "<style scoped>\n",
       "    .dataframe tbody tr th:only-of-type {\n",
       "        vertical-align: middle;\n",
       "    }\n",
       "\n",
       "    .dataframe tbody tr th {\n",
       "        vertical-align: top;\n",
       "    }\n",
       "\n",
       "    .dataframe thead th {\n",
       "        text-align: right;\n",
       "    }\n",
       "</style>\n",
       "<table border=\"1\" class=\"dataframe\">\n",
       "  <thead>\n",
       "    <tr style=\"text-align: right;\">\n",
       "      <th></th>\n",
       "      <th>sepal_length</th>\n",
       "      <th>sepal_width</th>\n",
       "      <th>petal_length</th>\n",
       "      <th>petal_width</th>\n",
       "    </tr>\n",
       "  </thead>\n",
       "  <tbody>\n",
       "    <tr>\n",
       "      <th>0</th>\n",
       "      <td>5.1</td>\n",
       "      <td>3.5</td>\n",
       "      <td>1.4</td>\n",
       "      <td>0.2</td>\n",
       "    </tr>\n",
       "    <tr>\n",
       "      <th>1</th>\n",
       "      <td>4.9</td>\n",
       "      <td>3.0</td>\n",
       "      <td>1.4</td>\n",
       "      <td>0.2</td>\n",
       "    </tr>\n",
       "    <tr>\n",
       "      <th>2</th>\n",
       "      <td>4.7</td>\n",
       "      <td>3.2</td>\n",
       "      <td>1.3</td>\n",
       "      <td>0.2</td>\n",
       "    </tr>\n",
       "    <tr>\n",
       "      <th>3</th>\n",
       "      <td>4.6</td>\n",
       "      <td>3.1</td>\n",
       "      <td>1.5</td>\n",
       "      <td>0.2</td>\n",
       "    </tr>\n",
       "    <tr>\n",
       "      <th>4</th>\n",
       "      <td>5.0</td>\n",
       "      <td>3.6</td>\n",
       "      <td>1.4</td>\n",
       "      <td>0.2</td>\n",
       "    </tr>\n",
       "  </tbody>\n",
       "</table>\n",
       "</div>"
      ],
      "text/plain": [
       "   sepal_length  sepal_width  petal_length  petal_width\n",
       "0           5.1          3.5           1.4          0.2\n",
       "1           4.9          3.0           1.4          0.2\n",
       "2           4.7          3.2           1.3          0.2\n",
       "3           4.6          3.1           1.5          0.2\n",
       "4           5.0          3.6           1.4          0.2"
      ]
     },
     "execution_count": 67,
     "metadata": {},
     "output_type": "execute_result"
    }
   ],
   "source": [
    "X.head()"
   ]
  },
  {
   "cell_type": "code",
   "execution_count": 68,
   "id": "c8709f51-9c40-488b-885a-2672fa98ada5",
   "metadata": {},
   "outputs": [],
   "source": [
    "X_train, X_test, y_train, y_test = train_test_split(X, y, test_size=0.15, random_state=True, shuffle=True)"
   ]
  },
  {
   "cell_type": "code",
   "execution_count": 69,
   "id": "d3d85238-dc25-4efc-8bd6-dc72852ee54b",
   "metadata": {},
   "outputs": [
    {
     "data": {
      "text/plain": [
       "((127, 4), (127,), (23, 4), (23,))"
      ]
     },
     "execution_count": 69,
     "metadata": {},
     "output_type": "execute_result"
    }
   ],
   "source": [
    "X_train.shape, y_train.shape, X_test.shape, y_test.shape"
   ]
  },
  {
   "cell_type": "code",
   "execution_count": 70,
   "id": "bfad4cea-2458-4480-a00e-6f31a789de95",
   "metadata": {},
   "outputs": [],
   "source": [
    "neig_classifier = KNeighborsClassifier() # with default parameters"
   ]
  },
  {
   "cell_type": "code",
   "execution_count": 71,
   "id": "a830c9d5-54e3-44c1-ac87-6539dabfaa43",
   "metadata": {},
   "outputs": [
    {
     "data": {
      "text/plain": [
       "KNeighborsClassifier()"
      ]
     },
     "execution_count": 71,
     "metadata": {},
     "output_type": "execute_result"
    }
   ],
   "source": [
    "neig_classifier.fit(X_train, y_train)"
   ]
  },
  {
   "cell_type": "code",
   "execution_count": 72,
   "id": "826688f6-f743-41aa-99a3-36e6644ce5f2",
   "metadata": {},
   "outputs": [
    {
     "data": {
      "text/plain": [
       "1.0"
      ]
     },
     "execution_count": 72,
     "metadata": {},
     "output_type": "execute_result"
    }
   ],
   "source": [
    "neig_classifier.score(X_test, y_test)"
   ]
  },
  {
   "cell_type": "code",
   "execution_count": 73,
   "id": "bff36b19-3a05-45bc-820f-ea7589ee6329",
   "metadata": {},
   "outputs": [
    {
     "data": {
      "text/plain": [
       "0.9733333333333334"
      ]
     },
     "execution_count": 73,
     "metadata": {},
     "output_type": "execute_result"
    }
   ],
   "source": [
    "cross_val_score(neig_classifier, X, y, cv=5).mean()"
   ]
  },
  {
   "cell_type": "code",
   "execution_count": 74,
   "id": "7fc338ce-344a-498f-a51a-09f1f2c5092a",
   "metadata": {},
   "outputs": [],
   "source": [
    "params = {\n",
    "    \"n_neighbors\": range(2, 6),\n",
    "    \"weights\": [\"distance\"],\n",
    "    \"p\": [2, 3]\n",
    "}"
   ]
  },
  {
   "cell_type": "code",
   "execution_count": 75,
   "id": "c67da95f-2df9-407d-be25-a9a70eef556e",
   "metadata": {},
   "outputs": [],
   "source": [
    "neig_gridsearch = GridSearchCV(neig_classifier, param_grid=params, n_jobs=6, cv=5, verbose=False)"
   ]
  },
  {
   "cell_type": "code",
   "execution_count": 76,
   "id": "2e451b7d-42b4-4395-a10d-d132bedbd263",
   "metadata": {},
   "outputs": [],
   "source": [
    "model = neig_gridsearch.fit(X_train, y_train)"
   ]
  },
  {
   "cell_type": "code",
   "execution_count": 77,
   "id": "0383db00-a0f6-4375-b309-5bd3d134f914",
   "metadata": {
    "tags": []
   },
   "outputs": [
    {
     "data": {
      "text/plain": [
       "{'n_neighbors': 3, 'p': 2, 'weights': 'distance'}"
      ]
     },
     "execution_count": 77,
     "metadata": {},
     "output_type": "execute_result"
    }
   ],
   "source": [
    "model.best_params_"
   ]
  },
  {
   "cell_type": "code",
   "execution_count": 78,
   "id": "b00372f3-f506-4648-9746-1110e5301f7f",
   "metadata": {},
   "outputs": [
    {
     "data": {
      "text/plain": [
       "0.9603076923076923"
      ]
     },
     "execution_count": 78,
     "metadata": {},
     "output_type": "execute_result"
    }
   ],
   "source": [
    "model.best_score_"
   ]
  },
  {
   "cell_type": "code",
   "execution_count": 79,
   "id": "6fab8119-7f50-428f-9815-4f5f136f79dc",
   "metadata": {},
   "outputs": [
    {
     "data": {
      "text/plain": [
       "1.0"
      ]
     },
     "execution_count": 79,
     "metadata": {},
     "output_type": "execute_result"
    }
   ],
   "source": [
    "model.best_estimator_.score(X_test, y_test)"
   ]
  },
  {
   "cell_type": "markdown",
   "id": "1acf7af2-e4d3-464d-b538-350ab6499acf",
   "metadata": {},
   "source": [
    "    Normalize the data"
   ]
  },
  {
   "cell_type": "code",
   "execution_count": 80,
   "id": "03310638-1044-447c-b1fc-59a87f7ed2b7",
   "metadata": {},
   "outputs": [
    {
     "data": {
      "text/html": [
       "<div>\n",
       "<style scoped>\n",
       "    .dataframe tbody tr th:only-of-type {\n",
       "        vertical-align: middle;\n",
       "    }\n",
       "\n",
       "    .dataframe tbody tr th {\n",
       "        vertical-align: top;\n",
       "    }\n",
       "\n",
       "    .dataframe thead th {\n",
       "        text-align: right;\n",
       "    }\n",
       "</style>\n",
       "<table border=\"1\" class=\"dataframe\">\n",
       "  <thead>\n",
       "    <tr style=\"text-align: right;\">\n",
       "      <th></th>\n",
       "      <th>sepal_length</th>\n",
       "      <th>sepal_width</th>\n",
       "      <th>petal_length</th>\n",
       "      <th>petal_width</th>\n",
       "    </tr>\n",
       "  </thead>\n",
       "  <tbody>\n",
       "    <tr>\n",
       "      <th>40</th>\n",
       "      <td>5.0</td>\n",
       "      <td>3.5</td>\n",
       "      <td>1.3</td>\n",
       "      <td>0.3</td>\n",
       "    </tr>\n",
       "    <tr>\n",
       "      <th>125</th>\n",
       "      <td>7.2</td>\n",
       "      <td>3.2</td>\n",
       "      <td>6.0</td>\n",
       "      <td>1.8</td>\n",
       "    </tr>\n",
       "    <tr>\n",
       "      <th>99</th>\n",
       "      <td>5.7</td>\n",
       "      <td>2.8</td>\n",
       "      <td>4.1</td>\n",
       "      <td>1.3</td>\n",
       "    </tr>\n",
       "    <tr>\n",
       "      <th>33</th>\n",
       "      <td>5.5</td>\n",
       "      <td>4.2</td>\n",
       "      <td>1.4</td>\n",
       "      <td>0.2</td>\n",
       "    </tr>\n",
       "    <tr>\n",
       "      <th>19</th>\n",
       "      <td>5.1</td>\n",
       "      <td>3.8</td>\n",
       "      <td>1.5</td>\n",
       "      <td>0.3</td>\n",
       "    </tr>\n",
       "  </tbody>\n",
       "</table>\n",
       "</div>"
      ],
      "text/plain": [
       "     sepal_length  sepal_width  petal_length  petal_width\n",
       "40            5.0          3.5           1.3          0.3\n",
       "125           7.2          3.2           6.0          1.8\n",
       "99            5.7          2.8           4.1          1.3\n",
       "33            5.5          4.2           1.4          0.2\n",
       "19            5.1          3.8           1.5          0.3"
      ]
     },
     "execution_count": 80,
     "metadata": {},
     "output_type": "execute_result"
    }
   ],
   "source": [
    "X_train.head()"
   ]
  },
  {
   "cell_type": "code",
   "execution_count": 81,
   "id": "9ce4293b-be1f-4c7a-96ca-0d6022fcc889",
   "metadata": {},
   "outputs": [],
   "source": [
    "from sklearn.preprocessing import StandardScaler"
   ]
  },
  {
   "cell_type": "code",
   "execution_count": 82,
   "id": "3954b527-616e-43e8-a0f3-ff55cb4b5a1b",
   "metadata": {},
   "outputs": [],
   "source": [
    "scaler = StandardScaler().fit(X_train)"
   ]
  },
  {
   "cell_type": "code",
   "execution_count": 83,
   "id": "3c4b4059-5e33-4f77-b3b7-82be708c96ba",
   "metadata": {},
   "outputs": [],
   "source": [
    "X_train_scaled = scaler.transform(X_train)\n",
    "X_test_scaled = scaler.transform(X_test)"
   ]
  },
  {
   "cell_type": "code",
   "execution_count": 84,
   "id": "304f10d4-a2ca-4685-b205-8753252dabfa",
   "metadata": {},
   "outputs": [],
   "source": [
    "X_train_scaled = pd.DataFrame(X_train_scaled, columns=X.columns)\n",
    "X_test_scaled = pd.DataFrame(X_test_scaled, columns=X.columns)"
   ]
  },
  {
   "cell_type": "code",
   "execution_count": 85,
   "id": "a3905eda-4f67-4a7c-8852-b1ab3738a94b",
   "metadata": {},
   "outputs": [
    {
     "data": {
      "text/html": [
       "<div>\n",
       "<style scoped>\n",
       "    .dataframe tbody tr th:only-of-type {\n",
       "        vertical-align: middle;\n",
       "    }\n",
       "\n",
       "    .dataframe tbody tr th {\n",
       "        vertical-align: top;\n",
       "    }\n",
       "\n",
       "    .dataframe thead th {\n",
       "        text-align: right;\n",
       "    }\n",
       "</style>\n",
       "<table border=\"1\" class=\"dataframe\">\n",
       "  <thead>\n",
       "    <tr style=\"text-align: right;\">\n",
       "      <th></th>\n",
       "      <th>sepal_length</th>\n",
       "      <th>sepal_width</th>\n",
       "      <th>petal_length</th>\n",
       "      <th>petal_width</th>\n",
       "    </tr>\n",
       "  </thead>\n",
       "  <tbody>\n",
       "    <tr>\n",
       "      <th>count</th>\n",
       "      <td>1.270000e+02</td>\n",
       "      <td>1.270000e+02</td>\n",
       "      <td>1.270000e+02</td>\n",
       "      <td>1.270000e+02</td>\n",
       "    </tr>\n",
       "    <tr>\n",
       "      <th>mean</th>\n",
       "      <td>-3.129605e-16</td>\n",
       "      <td>-1.736144e-15</td>\n",
       "      <td>1.188900e-16</td>\n",
       "      <td>2.517671e-16</td>\n",
       "    </tr>\n",
       "    <tr>\n",
       "      <th>std</th>\n",
       "      <td>1.003960e+00</td>\n",
       "      <td>1.003960e+00</td>\n",
       "      <td>1.003960e+00</td>\n",
       "      <td>1.003960e+00</td>\n",
       "    </tr>\n",
       "    <tr>\n",
       "      <th>min</th>\n",
       "      <td>-1.869262e+00</td>\n",
       "      <td>-2.392758e+00</td>\n",
       "      <td>-1.575126e+00</td>\n",
       "      <td>-1.437724e+00</td>\n",
       "    </tr>\n",
       "    <tr>\n",
       "      <th>25%</th>\n",
       "      <td>-8.973222e-01</td>\n",
       "      <td>-5.384162e-01</td>\n",
       "      <td>-1.264504e+00</td>\n",
       "      <td>-1.177993e+00</td>\n",
       "    </tr>\n",
       "    <tr>\n",
       "      <th>50%</th>\n",
       "      <td>-4.687504e-02</td>\n",
       "      <td>-7.483073e-02</td>\n",
       "      <td>2.886101e-01</td>\n",
       "      <td>1.206625e-01</td>\n",
       "    </tr>\n",
       "    <tr>\n",
       "      <th>75%</th>\n",
       "      <td>6.820796e-01</td>\n",
       "      <td>6.205475e-01</td>\n",
       "      <td>7.404250e-01</td>\n",
       "      <td>7.699902e-01</td>\n",
       "    </tr>\n",
       "    <tr>\n",
       "      <th>max</th>\n",
       "      <td>2.261481e+00</td>\n",
       "      <td>3.170268e+00</td>\n",
       "      <td>1.757009e+00</td>\n",
       "      <td>1.679049e+00</td>\n",
       "    </tr>\n",
       "  </tbody>\n",
       "</table>\n",
       "</div>"
      ],
      "text/plain": [
       "       sepal_length   sepal_width  petal_length   petal_width\n",
       "count  1.270000e+02  1.270000e+02  1.270000e+02  1.270000e+02\n",
       "mean  -3.129605e-16 -1.736144e-15  1.188900e-16  2.517671e-16\n",
       "std    1.003960e+00  1.003960e+00  1.003960e+00  1.003960e+00\n",
       "min   -1.869262e+00 -2.392758e+00 -1.575126e+00 -1.437724e+00\n",
       "25%   -8.973222e-01 -5.384162e-01 -1.264504e+00 -1.177993e+00\n",
       "50%   -4.687504e-02 -7.483073e-02  2.886101e-01  1.206625e-01\n",
       "75%    6.820796e-01  6.205475e-01  7.404250e-01  7.699902e-01\n",
       "max    2.261481e+00  3.170268e+00  1.757009e+00  1.679049e+00"
      ]
     },
     "execution_count": 85,
     "metadata": {},
     "output_type": "execute_result"
    }
   ],
   "source": [
    "X_train_scaled.describe()"
   ]
  },
  {
   "cell_type": "code",
   "execution_count": 86,
   "id": "af39ed70-d4f8-474a-8ac4-516560d6b099",
   "metadata": {},
   "outputs": [
    {
     "data": {
      "text/html": [
       "<div>\n",
       "<style scoped>\n",
       "    .dataframe tbody tr th:only-of-type {\n",
       "        vertical-align: middle;\n",
       "    }\n",
       "\n",
       "    .dataframe tbody tr th {\n",
       "        vertical-align: top;\n",
       "    }\n",
       "\n",
       "    .dataframe thead th {\n",
       "        text-align: right;\n",
       "    }\n",
       "</style>\n",
       "<table border=\"1\" class=\"dataframe\">\n",
       "  <thead>\n",
       "    <tr style=\"text-align: right;\">\n",
       "      <th></th>\n",
       "      <th>sepal_length</th>\n",
       "      <th>sepal_width</th>\n",
       "      <th>petal_length</th>\n",
       "      <th>petal_width</th>\n",
       "    </tr>\n",
       "  </thead>\n",
       "  <tbody>\n",
       "    <tr>\n",
       "      <th>count</th>\n",
       "      <td>23.000000</td>\n",
       "      <td>23.000000</td>\n",
       "      <td>23.000000</td>\n",
       "      <td>23.000000</td>\n",
       "    </tr>\n",
       "    <tr>\n",
       "      <th>mean</th>\n",
       "      <td>0.037641</td>\n",
       "      <td>0.378677</td>\n",
       "      <td>-0.114094</td>\n",
       "      <td>-0.065666</td>\n",
       "    </tr>\n",
       "    <tr>\n",
       "      <th>std</th>\n",
       "      <td>1.039604</td>\n",
       "      <td>1.006676</td>\n",
       "      <td>0.973499</td>\n",
       "      <td>0.927282</td>\n",
       "    </tr>\n",
       "    <tr>\n",
       "      <th>min</th>\n",
       "      <td>-1.747769</td>\n",
       "      <td>-1.233794</td>\n",
       "      <td>-1.462173</td>\n",
       "      <td>-1.307858</td>\n",
       "    </tr>\n",
       "    <tr>\n",
       "      <th>25%</th>\n",
       "      <td>-0.532845</td>\n",
       "      <td>-0.074831</td>\n",
       "      <td>-1.208027</td>\n",
       "      <td>-1.048127</td>\n",
       "    </tr>\n",
       "    <tr>\n",
       "      <th>50%</th>\n",
       "      <td>-0.289860</td>\n",
       "      <td>0.388755</td>\n",
       "      <td>0.345087</td>\n",
       "      <td>0.120662</td>\n",
       "    </tr>\n",
       "    <tr>\n",
       "      <th>75%</th>\n",
       "      <td>0.803572</td>\n",
       "      <td>0.736444</td>\n",
       "      <td>0.458041</td>\n",
       "      <td>0.445326</td>\n",
       "    </tr>\n",
       "    <tr>\n",
       "      <th>max</th>\n",
       "      <td>2.504466</td>\n",
       "      <td>2.243097</td>\n",
       "      <td>1.474624</td>\n",
       "      <td>1.419318</td>\n",
       "    </tr>\n",
       "  </tbody>\n",
       "</table>\n",
       "</div>"
      ],
      "text/plain": [
       "       sepal_length  sepal_width  petal_length  petal_width\n",
       "count     23.000000    23.000000     23.000000    23.000000\n",
       "mean       0.037641     0.378677     -0.114094    -0.065666\n",
       "std        1.039604     1.006676      0.973499     0.927282\n",
       "min       -1.747769    -1.233794     -1.462173    -1.307858\n",
       "25%       -0.532845    -0.074831     -1.208027    -1.048127\n",
       "50%       -0.289860     0.388755      0.345087     0.120662\n",
       "75%        0.803572     0.736444      0.458041     0.445326\n",
       "max        2.504466     2.243097      1.474624     1.419318"
      ]
     },
     "execution_count": 86,
     "metadata": {},
     "output_type": "execute_result"
    }
   ],
   "source": [
    "X_test_scaled.describe()"
   ]
  },
  {
   "cell_type": "code",
   "execution_count": 87,
   "id": "76a695cc-0270-4792-ad72-65750378e6d5",
   "metadata": {},
   "outputs": [
    {
     "data": {
      "text/plain": [
       "KNeighborsClassifier()"
      ]
     },
     "execution_count": 87,
     "metadata": {},
     "output_type": "execute_result"
    }
   ],
   "source": [
    "neig_classifier.fit(X_train_scaled, y_train)"
   ]
  },
  {
   "cell_type": "code",
   "execution_count": 88,
   "id": "88dd000a-d1d1-41eb-8c92-bd9e85e28b36",
   "metadata": {},
   "outputs": [
    {
     "data": {
      "text/plain": [
       "0.9565217391304348"
      ]
     },
     "execution_count": 88,
     "metadata": {},
     "output_type": "execute_result"
    }
   ],
   "source": [
    "neig_classifier.score(X_test_scaled, y_test)"
   ]
  },
  {
   "cell_type": "code",
   "execution_count": 89,
   "id": "3f2efdbb-cabb-48e5-9840-2bfae035cf70",
   "metadata": {},
   "outputs": [
    {
     "data": {
      "text/plain": [
       "0.9533333333333334"
      ]
     },
     "execution_count": 89,
     "metadata": {},
     "output_type": "execute_result"
    }
   ],
   "source": [
    "cross_val_score(neig_classifier, pd.concat([X_train_scaled, X_test_scaled]), pd.concat([y_train, y_test]), cv=5).mean()"
   ]
  },
  {
   "cell_type": "code",
   "execution_count": 90,
   "id": "848c183d-164b-4f5a-a903-687a3b327c5e",
   "metadata": {},
   "outputs": [],
   "source": [
    "params = {\n",
    "    \"n_neighbors\": range(2, 6),\n",
    "    \"weights\": [\"distance\"],\n",
    "    \"p\": [2, 3]\n",
    "}"
   ]
  },
  {
   "cell_type": "code",
   "execution_count": 91,
   "id": "71092513-16ad-42ae-ab9a-1120f882aa66",
   "metadata": {},
   "outputs": [],
   "source": [
    "neig_gridsearch = GridSearchCV(neig_classifier, param_grid=params, n_jobs=6, cv=5, verbose=False)"
   ]
  },
  {
   "cell_type": "code",
   "execution_count": 92,
   "id": "9debc444-519d-4f5a-91a0-938b2a09b0c2",
   "metadata": {},
   "outputs": [],
   "source": [
    "model = neig_gridsearch.fit(X_train_scaled, y_train)"
   ]
  },
  {
   "cell_type": "code",
   "execution_count": 93,
   "id": "b0ab1287-0365-4bd1-ab36-bf3a75bc046f",
   "metadata": {
    "tags": []
   },
   "outputs": [
    {
     "data": {
      "text/plain": [
       "{'n_neighbors': 4, 'p': 3, 'weights': 'distance'}"
      ]
     },
     "execution_count": 93,
     "metadata": {},
     "output_type": "execute_result"
    }
   ],
   "source": [
    "model.best_params_"
   ]
  },
  {
   "cell_type": "code",
   "execution_count": 94,
   "id": "30cd9d29-38e1-40df-aeae-6eabefb5c522",
   "metadata": {},
   "outputs": [
    {
     "data": {
      "text/plain": [
       "0.9363076923076923"
      ]
     },
     "execution_count": 94,
     "metadata": {},
     "output_type": "execute_result"
    }
   ],
   "source": [
    "model.best_score_"
   ]
  },
  {
   "cell_type": "code",
   "execution_count": 95,
   "id": "2127976e-0e39-4815-b647-4d6185f452de",
   "metadata": {},
   "outputs": [
    {
     "data": {
      "text/plain": [
       "1.0"
      ]
     },
     "execution_count": 95,
     "metadata": {},
     "output_type": "execute_result"
    }
   ],
   "source": [
    "model.best_estimator_.score(X_test_scaled, y_test)"
   ]
  },
  {
   "cell_type": "code",
   "execution_count": 96,
   "id": "2aec3204-4823-48cb-bdf0-2bc02bed0b90",
   "metadata": {},
   "outputs": [
    {
     "data": {
      "image/png": "[encoded data removed]",
      "text/plain": [
       "<Figure size 432x288 with 1 Axes>"
      ]
     },
     "metadata": {
      "needs_background": "light"
     },
     "output_type": "display_data"
    }
   ],
   "source": [
    "plot_validation_curve(KNeighborsClassifier, \"n_neighbors\", range(1, 20), X_train, y_train, X_test, y_test)"
   ]
  },
  {
   "cell_type": "code",
   "execution_count": 97,
   "id": "e59ef1d2-29e0-4717-b86c-c41dfce2200d",
   "metadata": {},
   "outputs": [
    {
     "data": {
      "image/png": "[encoded data removed]",
      "text/plain": [
       "<Figure size 432x288 with 1 Axes>"
      ]
     },
     "metadata": {
      "needs_background": "light"
     },
     "output_type": "display_data"
    }
   ],
   "source": [
    "plot_validation_curve(KNeighborsClassifier, \"p\", range(1, 6), X_train, y_train, X_test, y_test)"
   ]
  },
  {
   "cell_type": "code",
   "execution_count": 98,
   "id": "d09e9ae5-ebb7-4073-8978-331840db2059",
   "metadata": {},
   "outputs": [
    {
     "data": {
      "image/png": "[encoded data removed]",
      "text/plain": [
       "<Figure size 432x288 with 1 Axes>"
      ]
     },
     "metadata": {
      "needs_background": "light"
     },
     "output_type": "display_data"
    }
   ],
   "source": [
    "plot_validation_curve(KNeighborsClassifier, \"n_neighbors\", range(1, 20), X_train_scaled, y_train, X_test_scaled, y_test)"
   ]
  },
  {
   "cell_type": "code",
   "execution_count": 99,
   "id": "5d4b6712-97d7-4384-bdcd-83cfb9e1586e",
   "metadata": {},
   "outputs": [
    {
     "data": {
      "image/png": "[encoded data removed]",
      "text/plain": [
       "<Figure size 432x288 with 1 Axes>"
      ]
     },
     "metadata": {
      "needs_background": "light"
     },
     "output_type": "display_data"
    }
   ],
   "source": [
    "plot_validation_curve(KNeighborsClassifier, \"p\", range(1, 6), X_train_scaled, y_train, X_test_scaled, y_test)"
   ]
  },
  {
   "cell_type": "markdown",
   "id": "dc96ba11-002c-4906-89ca-076555beb26a",
   "metadata": {},
   "source": [
    "        KNeighborsClassifier отлично справляется с данной задачей,на тестовых данных показывает идеальный результат."
   ]
  },
  {
   "cell_type": "markdown",
   "id": "d9ecc151",
   "metadata": {},
   "source": [
    "### 1.3 Предсказание диабета у пациентов."
   ]
  },
  {
   "cell_type": "markdown",
   "id": "47cc716d",
   "metadata": {},
   "source": [
    "Используйте данные из файла diabetes.csv для предсказания исхода для пациентов. Столбец \"outcome\". Предварительно изучите и подготовьте данные. "
   ]
  },
  {
   "cell_type": "code",
   "execution_count": 101,
   "id": "815f49ba-edb8-4c7a-9bb5-777dc27916b0",
   "metadata": {},
   "outputs": [],
   "source": [
    "df_diabetes = pd.read_csv(\"../data/diabetes.csv\")"
   ]
  },
  {
   "cell_type": "code",
   "execution_count": 102,
   "id": "d33b3722-4898-4e15-88e3-3b213474aa5c",
   "metadata": {},
   "outputs": [],
   "source": [
    "target = \"Outcome\""
   ]
  },
  {
   "cell_type": "code",
   "execution_count": 103,
   "id": "806c0f30-0de8-4234-877b-9818f6968ea8",
   "metadata": {},
   "outputs": [
    {
     "data": {
      "text/html": [
       "<div>\n",
       "<style scoped>\n",
       "    .dataframe tbody tr th:only-of-type {\n",
       "        vertical-align: middle;\n",
       "    }\n",
       "\n",
       "    .dataframe tbody tr th {\n",
       "        vertical-align: top;\n",
       "    }\n",
       "\n",
       "    .dataframe thead th {\n",
       "        text-align: right;\n",
       "    }\n",
       "</style>\n",
       "<table border=\"1\" class=\"dataframe\">\n",
       "  <thead>\n",
       "    <tr style=\"text-align: right;\">\n",
       "      <th></th>\n",
       "      <th>Pregnancies</th>\n",
       "      <th>Glucose</th>\n",
       "      <th>BloodPressure</th>\n",
       "      <th>SkinThickness</th>\n",
       "      <th>Insulin</th>\n",
       "      <th>BMI</th>\n",
       "      <th>DiabetesPedigreeFunction</th>\n",
       "      <th>Age</th>\n",
       "      <th>Outcome</th>\n",
       "    </tr>\n",
       "  </thead>\n",
       "  <tbody>\n",
       "    <tr>\n",
       "      <th>0</th>\n",
       "      <td>6</td>\n",
       "      <td>148</td>\n",
       "      <td>72</td>\n",
       "      <td>35</td>\n",
       "      <td>0</td>\n",
       "      <td>33.6</td>\n",
       "      <td>0.627</td>\n",
       "      <td>50</td>\n",
       "      <td>1</td>\n",
       "    </tr>\n",
       "    <tr>\n",
       "      <th>1</th>\n",
       "      <td>1</td>\n",
       "      <td>85</td>\n",
       "      <td>66</td>\n",
       "      <td>29</td>\n",
       "      <td>0</td>\n",
       "      <td>26.6</td>\n",
       "      <td>0.351</td>\n",
       "      <td>31</td>\n",
       "      <td>0</td>\n",
       "    </tr>\n",
       "    <tr>\n",
       "      <th>2</th>\n",
       "      <td>8</td>\n",
       "      <td>183</td>\n",
       "      <td>64</td>\n",
       "      <td>0</td>\n",
       "      <td>0</td>\n",
       "      <td>23.3</td>\n",
       "      <td>0.672</td>\n",
       "      <td>32</td>\n",
       "      <td>1</td>\n",
       "    </tr>\n",
       "    <tr>\n",
       "      <th>3</th>\n",
       "      <td>1</td>\n",
       "      <td>89</td>\n",
       "      <td>66</td>\n",
       "      <td>23</td>\n",
       "      <td>94</td>\n",
       "      <td>28.1</td>\n",
       "      <td>0.167</td>\n",
       "      <td>21</td>\n",
       "      <td>0</td>\n",
       "    </tr>\n",
       "    <tr>\n",
       "      <th>4</th>\n",
       "      <td>0</td>\n",
       "      <td>137</td>\n",
       "      <td>40</td>\n",
       "      <td>35</td>\n",
       "      <td>168</td>\n",
       "      <td>43.1</td>\n",
       "      <td>2.288</td>\n",
       "      <td>33</td>\n",
       "      <td>1</td>\n",
       "    </tr>\n",
       "  </tbody>\n",
       "</table>\n",
       "</div>"
      ],
      "text/plain": [
       "   Pregnancies  Glucose  BloodPressure  SkinThickness  Insulin   BMI  \\\n",
       "0            6      148             72             35        0  33.6   \n",
       "1            1       85             66             29        0  26.6   \n",
       "2            8      183             64              0        0  23.3   \n",
       "3            1       89             66             23       94  28.1   \n",
       "4            0      137             40             35      168  43.1   \n",
       "\n",
       "   DiabetesPedigreeFunction  Age  Outcome  \n",
       "0                     0.627   50        1  \n",
       "1                     0.351   31        0  \n",
       "2                     0.672   32        1  \n",
       "3                     0.167   21        0  \n",
       "4                     2.288   33        1  "
      ]
     },
     "execution_count": 103,
     "metadata": {},
     "output_type": "execute_result"
    }
   ],
   "source": [
    "df_diabetes.head()"
   ]
  },
  {
   "cell_type": "code",
   "execution_count": 104,
   "id": "e83d38fd-6099-4dbb-869d-1d111f1e3088",
   "metadata": {},
   "outputs": [],
   "source": [
    "y = df_diabetes[target]\n",
    "X = df_diabetes[df_diabetes.columns[~df_diabetes.columns.isin([target])]]"
   ]
  },
  {
   "cell_type": "code",
   "execution_count": 105,
   "id": "a2fdf772-21f3-4410-81b8-5500fffcc52f",
   "metadata": {},
   "outputs": [
    {
     "data": {
      "text/html": [
       "<div>\n",
       "<style scoped>\n",
       "    .dataframe tbody tr th:only-of-type {\n",
       "        vertical-align: middle;\n",
       "    }\n",
       "\n",
       "    .dataframe tbody tr th {\n",
       "        vertical-align: top;\n",
       "    }\n",
       "\n",
       "    .dataframe thead th {\n",
       "        text-align: right;\n",
       "    }\n",
       "</style>\n",
       "<table border=\"1\" class=\"dataframe\">\n",
       "  <thead>\n",
       "    <tr style=\"text-align: right;\">\n",
       "      <th></th>\n",
       "      <th>Pregnancies</th>\n",
       "      <th>Glucose</th>\n",
       "      <th>BloodPressure</th>\n",
       "      <th>SkinThickness</th>\n",
       "      <th>Insulin</th>\n",
       "      <th>BMI</th>\n",
       "      <th>DiabetesPedigreeFunction</th>\n",
       "      <th>Age</th>\n",
       "    </tr>\n",
       "  </thead>\n",
       "  <tbody>\n",
       "    <tr>\n",
       "      <th>0</th>\n",
       "      <td>6</td>\n",
       "      <td>148</td>\n",
       "      <td>72</td>\n",
       "      <td>35</td>\n",
       "      <td>0</td>\n",
       "      <td>33.6</td>\n",
       "      <td>0.627</td>\n",
       "      <td>50</td>\n",
       "    </tr>\n",
       "    <tr>\n",
       "      <th>1</th>\n",
       "      <td>1</td>\n",
       "      <td>85</td>\n",
       "      <td>66</td>\n",
       "      <td>29</td>\n",
       "      <td>0</td>\n",
       "      <td>26.6</td>\n",
       "      <td>0.351</td>\n",
       "      <td>31</td>\n",
       "    </tr>\n",
       "    <tr>\n",
       "      <th>2</th>\n",
       "      <td>8</td>\n",
       "      <td>183</td>\n",
       "      <td>64</td>\n",
       "      <td>0</td>\n",
       "      <td>0</td>\n",
       "      <td>23.3</td>\n",
       "      <td>0.672</td>\n",
       "      <td>32</td>\n",
       "    </tr>\n",
       "    <tr>\n",
       "      <th>3</th>\n",
       "      <td>1</td>\n",
       "      <td>89</td>\n",
       "      <td>66</td>\n",
       "      <td>23</td>\n",
       "      <td>94</td>\n",
       "      <td>28.1</td>\n",
       "      <td>0.167</td>\n",
       "      <td>21</td>\n",
       "    </tr>\n",
       "    <tr>\n",
       "      <th>4</th>\n",
       "      <td>0</td>\n",
       "      <td>137</td>\n",
       "      <td>40</td>\n",
       "      <td>35</td>\n",
       "      <td>168</td>\n",
       "      <td>43.1</td>\n",
       "      <td>2.288</td>\n",
       "      <td>33</td>\n",
       "    </tr>\n",
       "  </tbody>\n",
       "</table>\n",
       "</div>"
      ],
      "text/plain": [
       "   Pregnancies  Glucose  BloodPressure  SkinThickness  Insulin   BMI  \\\n",
       "0            6      148             72             35        0  33.6   \n",
       "1            1       85             66             29        0  26.6   \n",
       "2            8      183             64              0        0  23.3   \n",
       "3            1       89             66             23       94  28.1   \n",
       "4            0      137             40             35      168  43.1   \n",
       "\n",
       "   DiabetesPedigreeFunction  Age  \n",
       "0                     0.627   50  \n",
       "1                     0.351   31  \n",
       "2                     0.672   32  \n",
       "3                     0.167   21  \n",
       "4                     2.288   33  "
      ]
     },
     "execution_count": 105,
     "metadata": {},
     "output_type": "execute_result"
    }
   ],
   "source": [
    "X.head()"
   ]
  },
  {
   "cell_type": "code",
   "execution_count": 106,
   "id": "338617f5-30c5-4d11-bfda-55524cffde97",
   "metadata": {},
   "outputs": [],
   "source": [
    "X_train, X_test, y_train, y_test = train_test_split(X, y, test_size=0.15, random_state=42, shuffle=True)"
   ]
  },
  {
   "cell_type": "code",
   "execution_count": 107,
   "id": "35240549-0460-4c57-9db8-b71e42c829ad",
   "metadata": {},
   "outputs": [
    {
     "data": {
      "text/plain": [
       "((652, 8), (116, 8), (652,), (116,))"
      ]
     },
     "execution_count": 107,
     "metadata": {},
     "output_type": "execute_result"
    }
   ],
   "source": [
    "X_train.shape, X_test.shape, y_train.shape, y_test.shape"
   ]
  },
  {
   "cell_type": "code",
   "execution_count": 108,
   "id": "df38f28f-cf2b-44fc-a40a-0aff71ab9d7a",
   "metadata": {},
   "outputs": [],
   "source": [
    "scaler = MinMaxScaler().fit(X_train)"
   ]
  },
  {
   "cell_type": "code",
   "execution_count": 118,
   "id": "c746722f-0332-409e-bce4-5252019d239b",
   "metadata": {},
   "outputs": [],
   "source": [
    "X_train_scaled = pd.DataFrame(scaler.transform(X_train), columns=X.columns)\n",
    "X_test_scaled = pd.DataFrame(scaler.transform(X_test), columns=X.columns)"
   ]
  },
  {
   "cell_type": "code",
   "execution_count": 110,
   "id": "8c4de434-5b04-4389-a2b0-0d4ca5e89547",
   "metadata": {},
   "outputs": [],
   "source": [
    "neig_classifier = KNeighborsClassifier() # with default parameters"
   ]
  },
  {
   "cell_type": "code",
   "execution_count": 111,
   "id": "7690b1ab-645d-4d70-99d7-aaf1b9561cf9",
   "metadata": {},
   "outputs": [
    {
     "data": {
      "text/plain": [
       "KNeighborsClassifier()"
      ]
     },
     "execution_count": 111,
     "metadata": {},
     "output_type": "execute_result"
    }
   ],
   "source": [
    "neig_classifier.fit(X_train, y_train)"
   ]
  },
  {
   "cell_type": "code",
   "execution_count": 112,
   "id": "6d20534c-d888-43db-aaab-1e2e48b1a708",
   "metadata": {},
   "outputs": [
    {
     "data": {
      "text/plain": [
       "0.7929447852760736"
      ]
     },
     "execution_count": 112,
     "metadata": {},
     "output_type": "execute_result"
    }
   ],
   "source": [
    "neig_classifier.score(X_train, y_train)"
   ]
  },
  {
   "cell_type": "code",
   "execution_count": 113,
   "id": "1df59f55-8c5b-4214-b776-545fa5634be7",
   "metadata": {},
   "outputs": [
    {
     "data": {
      "text/plain": [
       "0.6724137931034483"
      ]
     },
     "execution_count": 113,
     "metadata": {},
     "output_type": "execute_result"
    }
   ],
   "source": [
    "neig_classifier.score(X_test, y_test)"
   ]
  },
  {
   "cell_type": "code",
   "execution_count": 114,
   "id": "f44b3602-62b5-4db6-a1b2-13bc28e60a28",
   "metadata": {},
   "outputs": [
    {
     "data": {
      "text/plain": [
       "KNeighborsClassifier()"
      ]
     },
     "execution_count": 114,
     "metadata": {},
     "output_type": "execute_result"
    }
   ],
   "source": [
    "neig_classifier.fit(X_train_scaled, y_train)"
   ]
  },
  {
   "cell_type": "code",
   "execution_count": 115,
   "id": "543f7963-4a31-4ba9-ad1b-6d75f28df590",
   "metadata": {},
   "outputs": [
    {
     "data": {
      "text/plain": [
       "0.8404907975460123"
      ]
     },
     "execution_count": 115,
     "metadata": {},
     "output_type": "execute_result"
    }
   ],
   "source": [
    "neig_classifier.score(X_train_scaled, y_train)"
   ]
  },
  {
   "cell_type": "code",
   "execution_count": 116,
   "id": "5cc5708d-b8bf-4217-aeba-65de732d6e3e",
   "metadata": {},
   "outputs": [
    {
     "data": {
      "text/plain": [
       "0.6724137931034483"
      ]
     },
     "execution_count": 116,
     "metadata": {},
     "output_type": "execute_result"
    }
   ],
   "source": [
    "neig_classifier.score(X_test_scaled, y_test)"
   ]
  },
  {
   "cell_type": "code",
   "execution_count": 119,
   "id": "a0b7482d-f176-45cd-bcd7-ac1011cfd22d",
   "metadata": {},
   "outputs": [
    {
     "data": {
      "text/plain": [
       "0.723979288685171"
      ]
     },
     "execution_count": 119,
     "metadata": {},
     "output_type": "execute_result"
    }
   ],
   "source": [
    "cross_val_score(neig_classifier, X, y, cv=5).mean()"
   ]
  },
  {
   "cell_type": "code",
   "execution_count": 120,
   "id": "cfbe780b-be1f-475f-b4a9-859a24f962ac",
   "metadata": {},
   "outputs": [
    {
     "data": {
      "text/plain": [
       "0.7239453357100416"
      ]
     },
     "execution_count": 120,
     "metadata": {},
     "output_type": "execute_result"
    }
   ],
   "source": [
    "cross_val_score(neig_classifier, pd.concat([X_train_scaled, X_test_scaled]), pd.concat([y_train, y_test]), cv=5).mean()"
   ]
  },
  {
   "cell_type": "code",
   "execution_count": 131,
   "id": "67ab719e-e99b-49f2-bfe0-7970b771ca2f",
   "metadata": {},
   "outputs": [
    {
     "data": {
      "image/png": "[encoded data removed]",
      "text/plain": [
       "<Figure size 432x288 with 1 Axes>"
      ]
     },
     "metadata": {
      "needs_background": "light"
     },
     "output_type": "display_data"
    }
   ],
   "source": [
    "plot_validation_curve(KNeighborsClassifier, \"n_neighbors\", range(1, 20), X_train_scaled, y_train, X_test_scaled, y_test)"
   ]
  },
  {
   "cell_type": "code",
   "execution_count": 132,
   "id": "4505e4a6-9654-4adc-9b97-fced83a4727c",
   "metadata": {},
   "outputs": [
    {
     "data": {
      "image/png": "[encoded data removed]",
      "text/plain": [
       "<Figure size 432x288 with 1 Axes>"
      ]
     },
     "metadata": {
      "needs_background": "light"
     },
     "output_type": "display_data"
    }
   ],
   "source": [
    "plot_validation_curve(KNeighborsClassifier, \"p\", range(1, 20), X_train_scaled, y_train, X_test_scaled, y_test)"
   ]
  },
  {
   "cell_type": "code",
   "execution_count": 133,
   "id": "f594c893-f21b-44e8-8d51-935adb497142",
   "metadata": {},
   "outputs": [
    {
     "data": {
      "image/png": "[encoded data removed]",
      "text/plain": [
       "<Figure size 432x288 with 1 Axes>"
      ]
     },
     "metadata": {
      "needs_background": "light"
     },
     "output_type": "display_data"
    }
   ],
   "source": [
    "plot_validation_curve(KNeighborsClassifier, \"n_neighbors\", range(1, 20), X_train, y_train, X_test, y_test)"
   ]
  },
  {
   "cell_type": "code",
   "execution_count": 135,
   "id": "06ee0ade-5e2b-4add-ab0a-c3bc367ac224",
   "metadata": {},
   "outputs": [
    {
     "data": {
      "image/png": "[encoded data removed]",
      "text/plain": [
       "<Figure size 432x288 with 1 Axes>"
      ]
     },
     "metadata": {
      "needs_background": "light"
     },
     "output_type": "display_data"
    }
   ],
   "source": [
    "plot_validation_curve(KNeighborsClassifier, \"p\", range(1, 20), X_train, y_train, X_test, y_test)"
   ]
  },
  {
   "cell_type": "code",
   "execution_count": 157,
   "id": "a379619c-6dd4-420d-9925-20ce26d83e55",
   "metadata": {},
   "outputs": [],
   "source": [
    "params = {\n",
    "    \"n_neighbors\": range(2, 12),\n",
    "    \"weights\": [\"distance\", \"uniform\"],\n",
    "    \"p\": range(2, 6)\n",
    "}"
   ]
  },
  {
   "cell_type": "code",
   "execution_count": 158,
   "id": "8c5e6dfd-f7ac-483b-9cf4-cde2124a6f9e",
   "metadata": {},
   "outputs": [],
   "source": [
    "neig_gridsearch = GridSearchCV(neig_classifier, param_grid=params, n_jobs=-1, cv=5, verbose=1)"
   ]
  },
  {
   "cell_type": "code",
   "execution_count": 159,
   "id": "5af8dbd0-c9cd-4856-a766-cd58dc984781",
   "metadata": {},
   "outputs": [
    {
     "name": "stdout",
     "output_type": "stream",
     "text": [
      "Fitting 5 folds for each of 80 candidates, totalling 400 fits\n"
     ]
    }
   ],
   "source": [
    "model = neig_gridsearch.fit(X_train, y_train)"
   ]
  },
  {
   "cell_type": "code",
   "execution_count": 160,
   "id": "cf3c9446-1ea1-4f11-a1e1-5042c8e199ce",
   "metadata": {
    "tags": []
   },
   "outputs": [
    {
     "data": {
      "text/plain": [
       "{'n_neighbors': 8, 'p': 2, 'weights': 'uniform'}"
      ]
     },
     "execution_count": 160,
     "metadata": {},
     "output_type": "execute_result"
    }
   ],
   "source": [
    "model.best_params_"
   ]
  },
  {
   "cell_type": "code",
   "execution_count": 161,
   "id": "1b5ba77a-10a0-4bf3-bf0a-6a229d30bbd8",
   "metadata": {},
   "outputs": [
    {
     "data": {
      "text/plain": [
       "0.7331297709923664"
      ]
     },
     "execution_count": 161,
     "metadata": {},
     "output_type": "execute_result"
    }
   ],
   "source": [
    "model.best_score_"
   ]
  },
  {
   "cell_type": "code",
   "execution_count": 162,
   "id": "51ef2385-cf75-4732-aa8c-d3244c706a36",
   "metadata": {},
   "outputs": [
    {
     "data": {
      "text/plain": [
       "0.7327586206896551"
      ]
     },
     "execution_count": 162,
     "metadata": {},
     "output_type": "execute_result"
    }
   ],
   "source": [
    "model.best_estimator_.score(X_test, y_test)"
   ]
  },
  {
   "cell_type": "code",
   "execution_count": 149,
   "id": "fb6aca60-77dd-4176-bce2-29341bdb4117",
   "metadata": {},
   "outputs": [],
   "source": [
    "params = {\n",
    "    \"n_neighbors\": range(10, 20),\n",
    "    \"weights\": [\"uniform\", \"distance\"],\n",
    "    \"p\": range(2, 6)\n",
    "}"
   ]
  },
  {
   "cell_type": "code",
   "execution_count": 150,
   "id": "5ab2ac53-7490-4da7-822e-1e35fb35e051",
   "metadata": {},
   "outputs": [],
   "source": [
    "neig_gridsearch = GridSearchCV(neig_classifier, param_grid=params, n_jobs=-1, cv=5, verbose=1)"
   ]
  },
  {
   "cell_type": "code",
   "execution_count": 151,
   "id": "debcd151-8398-4fc4-8fea-644a04efdb16",
   "metadata": {},
   "outputs": [
    {
     "name": "stdout",
     "output_type": "stream",
     "text": [
      "Fitting 5 folds for each of 80 candidates, totalling 400 fits\n"
     ]
    }
   ],
   "source": [
    "model = neig_gridsearch.fit(X_train_scaled, y_train)"
   ]
  },
  {
   "cell_type": "code",
   "execution_count": 152,
   "id": "30e9db6a-d1a4-4944-8770-1348a795a7c2",
   "metadata": {
    "tags": []
   },
   "outputs": [
    {
     "data": {
      "text/plain": [
       "{'n_neighbors': 11, 'p': 5, 'weights': 'distance'}"
      ]
     },
     "execution_count": 152,
     "metadata": {},
     "output_type": "execute_result"
    }
   ],
   "source": [
    "model.best_params_"
   ]
  },
  {
   "cell_type": "code",
   "execution_count": 153,
   "id": "422618c9-1eab-41db-b62f-cc00356f608f",
   "metadata": {},
   "outputs": [
    {
     "data": {
      "text/plain": [
       "0.757709923664122"
      ]
     },
     "execution_count": 153,
     "metadata": {},
     "output_type": "execute_result"
    }
   ],
   "source": [
    "model.best_score_"
   ]
  },
  {
   "cell_type": "code",
   "execution_count": 154,
   "id": "5afea452-3a2c-4c65-bf6b-6ce364af3edb",
   "metadata": {},
   "outputs": [
    {
     "data": {
      "text/plain": [
       "0.6637931034482759"
      ]
     },
     "execution_count": 154,
     "metadata": {},
     "output_type": "execute_result"
    }
   ],
   "source": [
    "model.best_estimator_.score(X_test_scaled, y_test)"
   ]
  },
  {
   "cell_type": "markdown",
   "id": "5c355dcb-0966-4aaa-9d50-0d07eb90cd78",
   "metadata": {},
   "source": [
    "    Лучший результат показала модель с GridSearch и без предобработанных данных"
   ]
  },
  {
   "cell_type": "markdown",
   "id": "038b53ec",
   "metadata": {},
   "source": [
    "## Задание 2. "
   ]
  },
  {
   "cell_type": "markdown",
   "id": "3c2d24b7",
   "metadata": {},
   "source": [
    "Самостоятельно реализуйте класс для модели ближайших соседей. Постройте модель эстиматора для данных из задания 1.\n",
    "Произведите подбор оптивальных параметров для моделей."
   ]
  },
  {
   "cell_type": "markdown",
   "id": "5c36f1eb",
   "metadata": {},
   "source": [
    "## Ссылки"
   ]
  },
  {
   "cell_type": "markdown",
   "id": "bbd32da2",
   "metadata": {},
   "source": [
    "Классификация. https://towardsdatascience.com/a-simple-introduction-to-k-nearest-neighbors-algorithm-b3519ed98e\n",
    "\n",
    "Документация.   https://scikit-learn.org/stable/modules/generated/sklearn.neighbors.KNeighborsClassifier.html"
   ]
  }
 ],
 "metadata": {
  "kernelspec": {
   "display_name": "Python 3",
   "language": "python",
   "name": "python3"
  },
  "language_info": {
   "codemirror_mode": {
    "name": "ipython",
    "version": 3
   },
   "file_extension": ".py",
   "mimetype": "text/x-python",
   "name": "python",
   "nbconvert_exporter": "python",
   "pygments_lexer": "ipython3",
   "version": "3.8.5"
  }
 },
 "nbformat": 4,
 "nbformat_minor": 5
}
